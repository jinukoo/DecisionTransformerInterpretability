{
 "cells": [
  {
   "cell_type": "code",
   "execution_count": null,
   "id": "initial_id",
   "metadata": {
    "collapsed": true
   },
   "outputs": [],
   "source": [
    "import json\n",
    "import os\n",
    "import time\n",
    "import warnings\n",
    "from typing import Callable\n",
    "\n",
    "import torch as t\n",
    "\n",
    "import wandb\n",
    "from src.config import (\n",
    "    ConfigJsonEncoder,\n",
    "    EnvironmentConfig,\n",
    "    OfflineTrainConfig,\n",
    "    RunConfig,\n",
    "    TransformerModelConfig,\n",
    ")\n",
    "from src.environments.registration import register_envs\n",
    "from src.models.trajectory_transformer import (\n",
    "    CloneTransformer,\n",
    "    DecisionTransformer,\n",
    ")\n",
    "\n",
    "# from .model import DecisionTransformer\n",
    "from .offline_dataset import (\n",
    "    TrajectoryDataset,\n",
    "    TrajectoryVisualizer,\n",
    "    one_hot_encode_observation,\n",
    ")\n",
    "from .train import train\n",
    "from .utils import get_max_len_from_model_type\n"
   ]
  },
  {
   "cell_type": "code",
   "outputs": [],
   "source": [
    "model = DecisionTransformer(\n",
    "            environment_config=environment_config,\n",
    "            transformer_config=transformer_config,\n",
    "        )"
   ],
   "metadata": {
    "collapsed": false
   },
   "id": "5bec334e8a65c358"
  }
 ],
 "metadata": {
  "kernelspec": {
   "display_name": "Python 3",
   "language": "python",
   "name": "python3"
  },
  "language_info": {
   "codemirror_mode": {
    "name": "ipython",
    "version": 2
   },
   "file_extension": ".py",
   "mimetype": "text/x-python",
   "name": "python",
   "nbconvert_exporter": "python",
   "pygments_lexer": "ipython2",
   "version": "2.7.6"
  }
 },
 "nbformat": 4,
 "nbformat_minor": 5
}
