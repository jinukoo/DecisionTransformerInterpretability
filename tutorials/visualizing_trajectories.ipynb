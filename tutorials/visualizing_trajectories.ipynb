{
 "cells": [
  {
   "cell_type": "markdown",
   "metadata": {},
   "source": [
    "# Visualizing Trajectories Tutorial\n",
    "\n",
    "\n",
    "Rendering MiniGrid Trajectories is complicated by 3 details:\n",
    "1. Minigrid rendering by default operates on the environment object, so only visualizes a state in time whereas we want to visualize a trajectory recording (recorded in the minigrid representation schema).\n",
    "2. Our recording of observations may or may not be in 1 hot encoding. \n",
    "3. For debugging, we also want the agent's point of view. This would be kinda annoying for more generic troubleshooting (as the video would jump around a lot) so I've had to make some updates to enable this. \n",
    "\n",
    "All the code exists to do what we need and I'll organise it below."
   ]
  },
  {
   "cell_type": "markdown",
   "metadata": {},
   "source": [
    "## Default Full Observation Rendering\n",
    "\n",
    "Let's start by demonstrating default rendering which you are probably already familiar with. We simply load an environment and render it using the render method. Calling render after each step will result in a video of the trajectory."
   ]
  },
  {
   "cell_type": "code",
   "execution_count": 2,
   "metadata": {
    "ExecuteTime": {
     "end_time": "2024-04-08T07:51:14.775150Z",
     "start_time": "2024-04-08T07:51:14.749786Z"
    }
   },
   "outputs": [
    {
     "data": {
      "application/vnd.plotly.v1+json": {
       "data": [
        {
         "name": "0",
         "source": "data:image/png;base64,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",
         "type": "image",
         "xaxis": "x",
         "yaxis": "y",
         "hovertemplate": "x: %{x}<br>y: %{y}<br>color: [%{z[0]}, %{z[1]}, %{z[2]}]<extra></extra>"
        }
       ],
       "layout": {
        "template": {
         "data": {
          "histogram2dcontour": [
           {
            "type": "histogram2dcontour",
            "colorbar": {
             "outlinewidth": 0,
             "ticks": ""
            },
            "colorscale": [
             [
              0.0,
              "#0d0887"
             ],
             [
              0.1111111111111111,
              "#46039f"
             ],
             [
              0.2222222222222222,
              "#7201a8"
             ],
             [
              0.3333333333333333,
              "#9c179e"
             ],
             [
              0.4444444444444444,
              "#bd3786"
             ],
             [
              0.5555555555555556,
              "#d8576b"
             ],
             [
              0.6666666666666666,
              "#ed7953"
             ],
             [
              0.7777777777777778,
              "#fb9f3a"
             ],
             [
              0.8888888888888888,
              "#fdca26"
             ],
             [
              1.0,
              "#f0f921"
             ]
            ]
           }
          ],
          "choropleth": [
           {
            "type": "choropleth",
            "colorbar": {
             "outlinewidth": 0,
             "ticks": ""
            }
           }
          ],
          "histogram2d": [
           {
            "type": "histogram2d",
            "colorbar": {
             "outlinewidth": 0,
             "ticks": ""
            },
            "colorscale": [
             [
              0.0,
              "#0d0887"
             ],
             [
              0.1111111111111111,
              "#46039f"
             ],
             [
              0.2222222222222222,
              "#7201a8"
             ],
             [
              0.3333333333333333,
              "#9c179e"
             ],
             [
              0.4444444444444444,
              "#bd3786"
             ],
             [
              0.5555555555555556,
              "#d8576b"
             ],
             [
              0.6666666666666666,
              "#ed7953"
             ],
             [
              0.7777777777777778,
              "#fb9f3a"
             ],
             [
              0.8888888888888888,
              "#fdca26"
             ],
             [
              1.0,
              "#f0f921"
             ]
            ]
           }
          ],
          "heatmap": [
           {
            "type": "heatmap",
            "colorbar": {
             "outlinewidth": 0,
             "ticks": ""
            },
            "colorscale": [
             [
              0.0,
              "#0d0887"
             ],
             [
              0.1111111111111111,
              "#46039f"
             ],
             [
              0.2222222222222222,
              "#7201a8"
             ],
             [
              0.3333333333333333,
              "#9c179e"
             ],
             [
              0.4444444444444444,
              "#bd3786"
             ],
             [
              0.5555555555555556,
              "#d8576b"
             ],
             [
              0.6666666666666666,
              "#ed7953"
             ],
             [
              0.7777777777777778,
              "#fb9f3a"
             ],
             [
              0.8888888888888888,
              "#fdca26"
             ],
             [
              1.0,
              "#f0f921"
             ]
            ]
           }
          ],
          "heatmapgl": [
           {
            "type": "heatmapgl",
            "colorbar": {
             "outlinewidth": 0,
             "ticks": ""
            },
            "colorscale": [
             [
              0.0,
              "#0d0887"
             ],
             [
              0.1111111111111111,
              "#46039f"
             ],
             [
              0.2222222222222222,
              "#7201a8"
             ],
             [
              0.3333333333333333,
              "#9c179e"
             ],
             [
              0.4444444444444444,
              "#bd3786"
             ],
             [
              0.5555555555555556,
              "#d8576b"
             ],
             [
              0.6666666666666666,
              "#ed7953"
             ],
             [
              0.7777777777777778,
              "#fb9f3a"
             ],
             [
              0.8888888888888888,
              "#fdca26"
             ],
             [
              1.0,
              "#f0f921"
             ]
            ]
           }
          ],
          "contourcarpet": [
           {
            "type": "contourcarpet",
            "colorbar": {
             "outlinewidth": 0,
             "ticks": ""
            }
           }
          ],
          "contour": [
           {
            "type": "contour",
            "colorbar": {
             "outlinewidth": 0,
             "ticks": ""
            },
            "colorscale": [
             [
              0.0,
              "#0d0887"
             ],
             [
              0.1111111111111111,
              "#46039f"
             ],
             [
              0.2222222222222222,
              "#7201a8"
             ],
             [
              0.3333333333333333,
              "#9c179e"
             ],
             [
              0.4444444444444444,
              "#bd3786"
             ],
             [
              0.5555555555555556,
              "#d8576b"
             ],
             [
              0.6666666666666666,
              "#ed7953"
             ],
             [
              0.7777777777777778,
              "#fb9f3a"
             ],
             [
              0.8888888888888888,
              "#fdca26"
             ],
             [
              1.0,
              "#f0f921"
             ]
            ]
           }
          ],
          "surface": [
           {
            "type": "surface",
            "colorbar": {
             "outlinewidth": 0,
             "ticks": ""
            },
            "colorscale": [
             [
              0.0,
              "#0d0887"
             ],
             [
              0.1111111111111111,
              "#46039f"
             ],
             [
              0.2222222222222222,
              "#7201a8"
             ],
             [
              0.3333333333333333,
              "#9c179e"
             ],
             [
              0.4444444444444444,
              "#bd3786"
             ],
             [
              0.5555555555555556,
              "#d8576b"
             ],
             [
              0.6666666666666666,
              "#ed7953"
             ],
             [
              0.7777777777777778,
              "#fb9f3a"
             ],
             [
              0.8888888888888888,
              "#fdca26"
             ],
             [
              1.0,
              "#f0f921"
             ]
            ]
           }
          ],
          "mesh3d": [
           {
            "type": "mesh3d",
            "colorbar": {
             "outlinewidth": 0,
             "ticks": ""
            }
           }
          ],
          "scatter": [
           {
            "marker": {
             "line": {
              "color": "#283442"
             }
            },
            "type": "scatter"
           }
          ],
          "parcoords": [
           {
            "type": "parcoords",
            "line": {
             "colorbar": {
              "outlinewidth": 0,
              "ticks": ""
             }
            }
           }
          ],
          "scatterpolargl": [
           {
            "type": "scatterpolargl",
            "marker": {
             "colorbar": {
              "outlinewidth": 0,
              "ticks": ""
             }
            }
           }
          ],
          "bar": [
           {
            "error_x": {
             "color": "#f2f5fa"
            },
            "error_y": {
             "color": "#f2f5fa"
            },
            "marker": {
             "line": {
              "color": "rgb(17,17,17)",
              "width": 0.5
             },
             "pattern": {
              "fillmode": "overlay",
              "size": 10,
              "solidity": 0.2
             }
            },
            "type": "bar"
           }
          ],
          "scattergeo": [
           {
            "type": "scattergeo",
            "marker": {
             "colorbar": {
              "outlinewidth": 0,
              "ticks": ""
             }
            }
           }
          ],
          "scatterpolar": [
           {
            "type": "scatterpolar",
            "marker": {
             "colorbar": {
              "outlinewidth": 0,
              "ticks": ""
             }
            }
           }
          ],
          "histogram": [
           {
            "marker": {
             "pattern": {
              "fillmode": "overlay",
              "size": 10,
              "solidity": 0.2
             }
            },
            "type": "histogram"
           }
          ],
          "scattergl": [
           {
            "marker": {
             "line": {
              "color": "#283442"
             }
            },
            "type": "scattergl"
           }
          ],
          "scatter3d": [
           {
            "type": "scatter3d",
            "line": {
             "colorbar": {
              "outlinewidth": 0,
              "ticks": ""
             }
            },
            "marker": {
             "colorbar": {
              "outlinewidth": 0,
              "ticks": ""
             }
            }
           }
          ],
          "scattermapbox": [
           {
            "type": "scattermapbox",
            "marker": {
             "colorbar": {
              "outlinewidth": 0,
              "ticks": ""
             }
            }
           }
          ],
          "scatterternary": [
           {
            "type": "scatterternary",
            "marker": {
             "colorbar": {
              "outlinewidth": 0,
              "ticks": ""
             }
            }
           }
          ],
          "scattercarpet": [
           {
            "type": "scattercarpet",
            "marker": {
             "colorbar": {
              "outlinewidth": 0,
              "ticks": ""
             }
            }
           }
          ],
          "carpet": [
           {
            "aaxis": {
             "endlinecolor": "#A2B1C6",
             "gridcolor": "#506784",
             "linecolor": "#506784",
             "minorgridcolor": "#506784",
             "startlinecolor": "#A2B1C6"
            },
            "baxis": {
             "endlinecolor": "#A2B1C6",
             "gridcolor": "#506784",
             "linecolor": "#506784",
             "minorgridcolor": "#506784",
             "startlinecolor": "#A2B1C6"
            },
            "type": "carpet"
           }
          ],
          "table": [
           {
            "cells": {
             "fill": {
              "color": "#506784"
             },
             "line": {
              "color": "rgb(17,17,17)"
             }
            },
            "header": {
             "fill": {
              "color": "#2a3f5f"
             },
             "line": {
              "color": "rgb(17,17,17)"
             }
            },
            "type": "table"
           }
          ],
          "barpolar": [
           {
            "marker": {
             "line": {
              "color": "rgb(17,17,17)",
              "width": 0.5
             },
             "pattern": {
              "fillmode": "overlay",
              "size": 10,
              "solidity": 0.2
             }
            },
            "type": "barpolar"
           }
          ],
          "pie": [
           {
            "automargin": true,
            "type": "pie"
           }
          ]
         },
         "layout": {
          "autotypenumbers": "strict",
          "colorway": [
           "#636efa",
           "#EF553B",
           "#00cc96",
           "#ab63fa",
           "#FFA15A",
           "#19d3f3",
           "#FF6692",
           "#B6E880",
           "#FF97FF",
           "#FECB52"
          ],
          "font": {
           "color": "#f2f5fa"
          },
          "hovermode": "closest",
          "hoverlabel": {
           "align": "left"
          },
          "paper_bgcolor": "rgb(17,17,17)",
          "plot_bgcolor": "rgb(17,17,17)",
          "polar": {
           "bgcolor": "rgb(17,17,17)",
           "angularaxis": {
            "gridcolor": "#506784",
            "linecolor": "#506784",
            "ticks": ""
           },
           "radialaxis": {
            "gridcolor": "#506784",
            "linecolor": "#506784",
            "ticks": ""
           }
          },
          "ternary": {
           "bgcolor": "rgb(17,17,17)",
           "aaxis": {
            "gridcolor": "#506784",
            "linecolor": "#506784",
            "ticks": ""
           },
           "baxis": {
            "gridcolor": "#506784",
            "linecolor": "#506784",
            "ticks": ""
           },
           "caxis": {
            "gridcolor": "#506784",
            "linecolor": "#506784",
            "ticks": ""
           }
          },
          "coloraxis": {
           "colorbar": {
            "outlinewidth": 0,
            "ticks": ""
           }
          },
          "colorscale": {
           "sequential": [
            [
             0.0,
             "#0d0887"
            ],
            [
             0.1111111111111111,
             "#46039f"
            ],
            [
             0.2222222222222222,
             "#7201a8"
            ],
            [
             0.3333333333333333,
             "#9c179e"
            ],
            [
             0.4444444444444444,
             "#bd3786"
            ],
            [
             0.5555555555555556,
             "#d8576b"
            ],
            [
             0.6666666666666666,
             "#ed7953"
            ],
            [
             0.7777777777777778,
             "#fb9f3a"
            ],
            [
             0.8888888888888888,
             "#fdca26"
            ],
            [
             1.0,
             "#f0f921"
            ]
           ],
           "sequentialminus": [
            [
             0.0,
             "#0d0887"
            ],
            [
             0.1111111111111111,
             "#46039f"
            ],
            [
             0.2222222222222222,
             "#7201a8"
            ],
            [
             0.3333333333333333,
             "#9c179e"
            ],
            [
             0.4444444444444444,
             "#bd3786"
            ],
            [
             0.5555555555555556,
             "#d8576b"
            ],
            [
             0.6666666666666666,
             "#ed7953"
            ],
            [
             0.7777777777777778,
             "#fb9f3a"
            ],
            [
             0.8888888888888888,
             "#fdca26"
            ],
            [
             1.0,
             "#f0f921"
            ]
           ],
           "diverging": [
            [
             0,
             "#8e0152"
            ],
            [
             0.1,
             "#c51b7d"
            ],
            [
             0.2,
             "#de77ae"
            ],
            [
             0.3,
             "#f1b6da"
            ],
            [
             0.4,
             "#fde0ef"
            ],
            [
             0.5,
             "#f7f7f7"
            ],
            [
             0.6,
             "#e6f5d0"
            ],
            [
             0.7,
             "#b8e186"
            ],
            [
             0.8,
             "#7fbc41"
            ],
            [
             0.9,
             "#4d9221"
            ],
            [
             1,
             "#276419"
            ]
           ]
          },
          "xaxis": {
           "gridcolor": "#283442",
           "linecolor": "#506784",
           "ticks": "",
           "title": {
            "standoff": 15
           },
           "zerolinecolor": "#283442",
           "automargin": true,
           "zerolinewidth": 2
          },
          "yaxis": {
           "gridcolor": "#283442",
           "linecolor": "#506784",
           "ticks": "",
           "title": {
            "standoff": 15
           },
           "zerolinecolor": "#283442",
           "automargin": true,
           "zerolinewidth": 2
          },
          "scene": {
           "xaxis": {
            "backgroundcolor": "rgb(17,17,17)",
            "gridcolor": "#506784",
            "linecolor": "#506784",
            "showbackground": true,
            "ticks": "",
            "zerolinecolor": "#C8D4E3",
            "gridwidth": 2
           },
           "yaxis": {
            "backgroundcolor": "rgb(17,17,17)",
            "gridcolor": "#506784",
            "linecolor": "#506784",
            "showbackground": true,
            "ticks": "",
            "zerolinecolor": "#C8D4E3",
            "gridwidth": 2
           },
           "zaxis": {
            "backgroundcolor": "rgb(17,17,17)",
            "gridcolor": "#506784",
            "linecolor": "#506784",
            "showbackground": true,
            "ticks": "",
            "zerolinecolor": "#C8D4E3",
            "gridwidth": 2
           }
          },
          "shapedefaults": {
           "line": {
            "color": "#f2f5fa"
           }
          },
          "annotationdefaults": {
           "arrowcolor": "#f2f5fa",
           "arrowhead": 0,
           "arrowwidth": 1
          },
          "geo": {
           "bgcolor": "rgb(17,17,17)",
           "landcolor": "rgb(17,17,17)",
           "subunitcolor": "#506784",
           "showland": true,
           "showlakes": true,
           "lakecolor": "rgb(17,17,17)"
          },
          "title": {
           "x": 0.05
          },
          "updatemenudefaults": {
           "bgcolor": "#506784",
           "borderwidth": 0
          },
          "sliderdefaults": {
           "bgcolor": "#C8D4E3",
           "borderwidth": 1,
           "bordercolor": "rgb(17,17,17)",
           "tickwidth": 0
          },
          "mapbox": {
           "style": "dark"
          }
         }
        },
        "xaxis": {
         "anchor": "y",
         "domain": [
          0.0,
          1.0
         ]
        },
        "yaxis": {
         "anchor": "x",
         "domain": [
          0.0,
          1.0
         ]
        },
        "margin": {
         "t": 60
        }
       },
       "config": {
        "plotlyServerURL": "https://plot.ly"
       }
      },
      "text/html": "<div>                            <div id=\"b3428ea8-10d7-43e1-9e39-5803e4a87557\" class=\"plotly-graph-div\" style=\"height:525px; width:100%;\"></div>            <script type=\"text/javascript\">                require([\"plotly\"], function(Plotly) {                    window.PLOTLYENV=window.PLOTLYENV || {};                                    if (document.getElementById(\"b3428ea8-10d7-43e1-9e39-5803e4a87557\")) {                    Plotly.newPlot(                        \"b3428ea8-10d7-43e1-9e39-5803e4a87557\",                        [{\"name\":\"0\",\"source\":\"data:image/png;base64,iVBORw0KGgoAAAANSUhEUgAAAOAAAADgCAIAAACVT/22AAAF5UlEQVR4Xu3dQW7aWhiG4a9X3UG9BxixgTLOLMJbiK6XgNQsIZWyBK7UJRh1ljHdA+zB2cMdWKTmJIDjwDmfc95nRP/UKINXx9iQw5eqqoTPazabhaNR+SccAE4IFNYIFNYIFNYIFNYIFNYIFNYIFNYIFNYIFNYIFNYIFNYIFNYIFNYIFNYIFNYIFNYIFNYIFNYIFNYIFNYIFNYIFNYIFNYIFNYIFNYIFNYIFNYIFNYIFNYIFNa+hoNLG/v+lEjr6oEiuaenp3B0OTc3N+HoojjFwxorKPa+SaVU7v/ZSBuplp5f/kcCBApJ0nepkorOpJBKaS4tUzbKKR7St1d1viikx3AWE4FCKo/U2SqkRTiLhkDRed0pqZZupVtp0xnOO4/jIlAc+m//YNUZTjuP4yJQWCNQHPohaX/Z9GLbeRwXt5kg1Z2XofO3XnF2X4/GxQoKqZaacPZXI63DWTQECulZWh5ptJGW4SwmAoWkfaP14XAl3aV8G0kEir+eO/eYWunO7C8IFNYIFNYIFNa4DwrpdzjwwQoKa6ygkG47j81WU1ZQWCNQWCNQWCNQWOMiCXYXRl2soLDGCorD20xmWEFhjUBhjUBhjdegn9+1d0i8qhiBXnt/yrE/fzi6tFH//pziYY1AYY1AYY1AYS3GRdJ5k/0Wle0ualupkWppd/C/kKHUgU6k+1e7p7aZzqVGeiDTrCU9xS+kx1d1dhXSY8rtfZFcukAXhxv8nVDRaL4SBTrpXWerkibhDDlIFOh9ODhvwCEYvxSBTk6+7jymYBHNUYpAy3DQVxkO8OmlCHTA8tkafCBGK0Wgg7/TZPCBGK0UgQK9pQh08HeaDD4Qo5Ui0Dc36+9j8IEYrRSB1uGgrzoc4NNLEehu0FrY8KmRHKUIVNJDODhvwCEYv0SB7g6/TPesFctnphIFKmndu9GVxRf2IIl0gUpaH/8Gvlb7PXzUmbHUn6jfSXf8yQeOSh1oayf9DGeAEp/igXMIFNYIFNYIFNYIFNa+VNW7/rzy3WazWTgCeotxm+na+1Py/CdEeP5wdFGc4mGNQGGNQGGNQGEtaqA/2BwE7xTjKv7FXJpLW2nDZ+jQT9QVtDWVKum39C8LKs6JuoIGSqmUtlIt/Ql+BkhKG2hrKt1LjbSRauk5/DmyluAU/6ZCKqVfXEjhUPoVNNBeSLV/8bFhQc2eywoaKKRK+sWFVPbsVtBAub+Q4s5UntwDbU2lqVRyIZUf01M80BrHCsopPlvugdbShg0cMmYaKLeZ0LILtL0MYslEyyVQ3urEm9IHyodFcELKQGsugHBOgkC5Z4T+ogbKBRDeK2qg7AGK9+KtTlgjUFgjUFgjUFgjUFhjf1BYi3Gb6dr7U479+cPRpY369+cUD2sECmsECmsECmsECmsECmsECmsECmsECmsECmsECmsECmsECmsECmsECmsECmsECmsECmsECmsECmsECmsECmsECmsECmsECmsECmsECmsECmsECmsECmvsDwprMfYHRVrsDwpcC4HCGoHCGoHCGhdJkCZSKRXSVJK0lRqX7/0l0LxNpHupOBy2mc6lRnpInCmn+IwtpMdXdXYV0qO0CMcxEWiuFlLPt2iqlI0SaJYmvetsVdIknMVBoFm6DwfnDTjkEgg0P5OTrzuPKdIsogSanzIc9FWGgwgIND8Dls/W4AM/gEDz097mHGDwgR9AoLBGoPnZhoO+Bh/4AQSanyYc9DX4wA8g0PzU4aCvOhxEQKD52Q1aC5s0nxoh0Cw9hIPzBhxyCQSapZ20CmenrNIsnyLQfK17N7qS1uEsGgLN2Fpannw92kjLlHWKT9Tnbifd8ScfMLeTfoYzE5ziYY1AYY1AYY1AYY1AYe3q+4MirbHvz8oKCmsECmsECmsECmsECmsECmsECmsECmsECmsECmsECmsECmsECmsECmsECmsECmsECmsECmsECmsECmsECmsECmsECmsECmsECmsECmsECmsECmsECmsECmsECmv/A53X2Z8lFuL6AAAAAElFTkSuQmCC\",\"type\":\"image\",\"xaxis\":\"x\",\"yaxis\":\"y\",\"hovertemplate\":\"x: %{x}<br>y: %{y}<br>color: [%{z[0]}, %{z[1]}, %{z[2]}]<extra></extra>\"}],                        {\"template\":{\"data\":{\"histogram2dcontour\":[{\"type\":\"histogram2dcontour\",\"colorbar\":{\"outlinewidth\":0,\"ticks\":\"\"},\"colorscale\":[[0.0,\"#0d0887\"],[0.1111111111111111,\"#46039f\"],[0.2222222222222222,\"#7201a8\"],[0.3333333333333333,\"#9c179e\"],[0.4444444444444444,\"#bd3786\"],[0.5555555555555556,\"#d8576b\"],[0.6666666666666666,\"#ed7953\"],[0.7777777777777778,\"#fb9f3a\"],[0.8888888888888888,\"#fdca26\"],[1.0,\"#f0f921\"]]}],\"choropleth\":[{\"type\":\"choropleth\",\"colorbar\":{\"outlinewidth\":0,\"ticks\":\"\"}}],\"histogram2d\":[{\"type\":\"histogram2d\",\"colorbar\":{\"outlinewidth\":0,\"ticks\":\"\"},\"colorscale\":[[0.0,\"#0d0887\"],[0.1111111111111111,\"#46039f\"],[0.2222222222222222,\"#7201a8\"],[0.3333333333333333,\"#9c179e\"],[0.4444444444444444,\"#bd3786\"],[0.5555555555555556,\"#d8576b\"],[0.6666666666666666,\"#ed7953\"],[0.7777777777777778,\"#fb9f3a\"],[0.8888888888888888,\"#fdca26\"],[1.0,\"#f0f921\"]]}],\"heatmap\":[{\"type\":\"heatmap\",\"colorbar\":{\"outlinewidth\":0,\"ticks\":\"\"},\"colorscale\":[[0.0,\"#0d0887\"],[0.1111111111111111,\"#46039f\"],[0.2222222222222222,\"#7201a8\"],[0.3333333333333333,\"#9c179e\"],[0.4444444444444444,\"#bd3786\"],[0.5555555555555556,\"#d8576b\"],[0.6666666666666666,\"#ed7953\"],[0.7777777777777778,\"#fb9f3a\"],[0.8888888888888888,\"#fdca26\"],[1.0,\"#f0f921\"]]}],\"heatmapgl\":[{\"type\":\"heatmapgl\",\"colorbar\":{\"outlinewidth\":0,\"ticks\":\"\"},\"colorscale\":[[0.0,\"#0d0887\"],[0.1111111111111111,\"#46039f\"],[0.2222222222222222,\"#7201a8\"],[0.3333333333333333,\"#9c179e\"],[0.4444444444444444,\"#bd3786\"],[0.5555555555555556,\"#d8576b\"],[0.6666666666666666,\"#ed7953\"],[0.7777777777777778,\"#fb9f3a\"],[0.8888888888888888,\"#fdca26\"],[1.0,\"#f0f921\"]]}],\"contourcarpet\":[{\"type\":\"contourcarpet\",\"colorbar\":{\"outlinewidth\":0,\"ticks\":\"\"}}],\"contour\":[{\"type\":\"contour\",\"colorbar\":{\"outlinewidth\":0,\"ticks\":\"\"},\"colorscale\":[[0.0,\"#0d0887\"],[0.1111111111111111,\"#46039f\"],[0.2222222222222222,\"#7201a8\"],[0.3333333333333333,\"#9c179e\"],[0.4444444444444444,\"#bd3786\"],[0.5555555555555556,\"#d8576b\"],[0.6666666666666666,\"#ed7953\"],[0.7777777777777778,\"#fb9f3a\"],[0.8888888888888888,\"#fdca26\"],[1.0,\"#f0f921\"]]}],\"surface\":[{\"type\":\"surface\",\"colorbar\":{\"outlinewidth\":0,\"ticks\":\"\"},\"colorscale\":[[0.0,\"#0d0887\"],[0.1111111111111111,\"#46039f\"],[0.2222222222222222,\"#7201a8\"],[0.3333333333333333,\"#9c179e\"],[0.4444444444444444,\"#bd3786\"],[0.5555555555555556,\"#d8576b\"],[0.6666666666666666,\"#ed7953\"],[0.7777777777777778,\"#fb9f3a\"],[0.8888888888888888,\"#fdca26\"],[1.0,\"#f0f921\"]]}],\"mesh3d\":[{\"type\":\"mesh3d\",\"colorbar\":{\"outlinewidth\":0,\"ticks\":\"\"}}],\"scatter\":[{\"marker\":{\"line\":{\"color\":\"#283442\"}},\"type\":\"scatter\"}],\"parcoords\":[{\"type\":\"parcoords\",\"line\":{\"colorbar\":{\"outlinewidth\":0,\"ticks\":\"\"}}}],\"scatterpolargl\":[{\"type\":\"scatterpolargl\",\"marker\":{\"colorbar\":{\"outlinewidth\":0,\"ticks\":\"\"}}}],\"bar\":[{\"error_x\":{\"color\":\"#f2f5fa\"},\"error_y\":{\"color\":\"#f2f5fa\"},\"marker\":{\"line\":{\"color\":\"rgb(17,17,17)\",\"width\":0.5},\"pattern\":{\"fillmode\":\"overlay\",\"size\":10,\"solidity\":0.2}},\"type\":\"bar\"}],\"scattergeo\":[{\"type\":\"scattergeo\",\"marker\":{\"colorbar\":{\"outlinewidth\":0,\"ticks\":\"\"}}}],\"scatterpolar\":[{\"type\":\"scatterpolar\",\"marker\":{\"colorbar\":{\"outlinewidth\":0,\"ticks\":\"\"}}}],\"histogram\":[{\"marker\":{\"pattern\":{\"fillmode\":\"overlay\",\"size\":10,\"solidity\":0.2}},\"type\":\"histogram\"}],\"scattergl\":[{\"marker\":{\"line\":{\"color\":\"#283442\"}},\"type\":\"scattergl\"}],\"scatter3d\":[{\"type\":\"scatter3d\",\"line\":{\"colorbar\":{\"outlinewidth\":0,\"ticks\":\"\"}},\"marker\":{\"colorbar\":{\"outlinewidth\":0,\"ticks\":\"\"}}}],\"scattermapbox\":[{\"type\":\"scattermapbox\",\"marker\":{\"colorbar\":{\"outlinewidth\":0,\"ticks\":\"\"}}}],\"scatterternary\":[{\"type\":\"scatterternary\",\"marker\":{\"colorbar\":{\"outlinewidth\":0,\"ticks\":\"\"}}}],\"scattercarpet\":[{\"type\":\"scattercarpet\",\"marker\":{\"colorbar\":{\"outlinewidth\":0,\"ticks\":\"\"}}}],\"carpet\":[{\"aaxis\":{\"endlinecolor\":\"#A2B1C6\",\"gridcolor\":\"#506784\",\"linecolor\":\"#506784\",\"minorgridcolor\":\"#506784\",\"startlinecolor\":\"#A2B1C6\"},\"baxis\":{\"endlinecolor\":\"#A2B1C6\",\"gridcolor\":\"#506784\",\"linecolor\":\"#506784\",\"minorgridcolor\":\"#506784\",\"startlinecolor\":\"#A2B1C6\"},\"type\":\"carpet\"}],\"table\":[{\"cells\":{\"fill\":{\"color\":\"#506784\"},\"line\":{\"color\":\"rgb(17,17,17)\"}},\"header\":{\"fill\":{\"color\":\"#2a3f5f\"},\"line\":{\"color\":\"rgb(17,17,17)\"}},\"type\":\"table\"}],\"barpolar\":[{\"marker\":{\"line\":{\"color\":\"rgb(17,17,17)\",\"width\":0.5},\"pattern\":{\"fillmode\":\"overlay\",\"size\":10,\"solidity\":0.2}},\"type\":\"barpolar\"}],\"pie\":[{\"automargin\":true,\"type\":\"pie\"}]},\"layout\":{\"autotypenumbers\":\"strict\",\"colorway\":[\"#636efa\",\"#EF553B\",\"#00cc96\",\"#ab63fa\",\"#FFA15A\",\"#19d3f3\",\"#FF6692\",\"#B6E880\",\"#FF97FF\",\"#FECB52\"],\"font\":{\"color\":\"#f2f5fa\"},\"hovermode\":\"closest\",\"hoverlabel\":{\"align\":\"left\"},\"paper_bgcolor\":\"rgb(17,17,17)\",\"plot_bgcolor\":\"rgb(17,17,17)\",\"polar\":{\"bgcolor\":\"rgb(17,17,17)\",\"angularaxis\":{\"gridcolor\":\"#506784\",\"linecolor\":\"#506784\",\"ticks\":\"\"},\"radialaxis\":{\"gridcolor\":\"#506784\",\"linecolor\":\"#506784\",\"ticks\":\"\"}},\"ternary\":{\"bgcolor\":\"rgb(17,17,17)\",\"aaxis\":{\"gridcolor\":\"#506784\",\"linecolor\":\"#506784\",\"ticks\":\"\"},\"baxis\":{\"gridcolor\":\"#506784\",\"linecolor\":\"#506784\",\"ticks\":\"\"},\"caxis\":{\"gridcolor\":\"#506784\",\"linecolor\":\"#506784\",\"ticks\":\"\"}},\"coloraxis\":{\"colorbar\":{\"outlinewidth\":0,\"ticks\":\"\"}},\"colorscale\":{\"sequential\":[[0.0,\"#0d0887\"],[0.1111111111111111,\"#46039f\"],[0.2222222222222222,\"#7201a8\"],[0.3333333333333333,\"#9c179e\"],[0.4444444444444444,\"#bd3786\"],[0.5555555555555556,\"#d8576b\"],[0.6666666666666666,\"#ed7953\"],[0.7777777777777778,\"#fb9f3a\"],[0.8888888888888888,\"#fdca26\"],[1.0,\"#f0f921\"]],\"sequentialminus\":[[0.0,\"#0d0887\"],[0.1111111111111111,\"#46039f\"],[0.2222222222222222,\"#7201a8\"],[0.3333333333333333,\"#9c179e\"],[0.4444444444444444,\"#bd3786\"],[0.5555555555555556,\"#d8576b\"],[0.6666666666666666,\"#ed7953\"],[0.7777777777777778,\"#fb9f3a\"],[0.8888888888888888,\"#fdca26\"],[1.0,\"#f0f921\"]],\"diverging\":[[0,\"#8e0152\"],[0.1,\"#c51b7d\"],[0.2,\"#de77ae\"],[0.3,\"#f1b6da\"],[0.4,\"#fde0ef\"],[0.5,\"#f7f7f7\"],[0.6,\"#e6f5d0\"],[0.7,\"#b8e186\"],[0.8,\"#7fbc41\"],[0.9,\"#4d9221\"],[1,\"#276419\"]]},\"xaxis\":{\"gridcolor\":\"#283442\",\"linecolor\":\"#506784\",\"ticks\":\"\",\"title\":{\"standoff\":15},\"zerolinecolor\":\"#283442\",\"automargin\":true,\"zerolinewidth\":2},\"yaxis\":{\"gridcolor\":\"#283442\",\"linecolor\":\"#506784\",\"ticks\":\"\",\"title\":{\"standoff\":15},\"zerolinecolor\":\"#283442\",\"automargin\":true,\"zerolinewidth\":2},\"scene\":{\"xaxis\":{\"backgroundcolor\":\"rgb(17,17,17)\",\"gridcolor\":\"#506784\",\"linecolor\":\"#506784\",\"showbackground\":true,\"ticks\":\"\",\"zerolinecolor\":\"#C8D4E3\",\"gridwidth\":2},\"yaxis\":{\"backgroundcolor\":\"rgb(17,17,17)\",\"gridcolor\":\"#506784\",\"linecolor\":\"#506784\",\"showbackground\":true,\"ticks\":\"\",\"zerolinecolor\":\"#C8D4E3\",\"gridwidth\":2},\"zaxis\":{\"backgroundcolor\":\"rgb(17,17,17)\",\"gridcolor\":\"#506784\",\"linecolor\":\"#506784\",\"showbackground\":true,\"ticks\":\"\",\"zerolinecolor\":\"#C8D4E3\",\"gridwidth\":2}},\"shapedefaults\":{\"line\":{\"color\":\"#f2f5fa\"}},\"annotationdefaults\":{\"arrowcolor\":\"#f2f5fa\",\"arrowhead\":0,\"arrowwidth\":1},\"geo\":{\"bgcolor\":\"rgb(17,17,17)\",\"landcolor\":\"rgb(17,17,17)\",\"subunitcolor\":\"#506784\",\"showland\":true,\"showlakes\":true,\"lakecolor\":\"rgb(17,17,17)\"},\"title\":{\"x\":0.05},\"updatemenudefaults\":{\"bgcolor\":\"#506784\",\"borderwidth\":0},\"sliderdefaults\":{\"bgcolor\":\"#C8D4E3\",\"borderwidth\":1,\"bordercolor\":\"rgb(17,17,17)\",\"tickwidth\":0},\"mapbox\":{\"style\":\"dark\"}}},\"xaxis\":{\"anchor\":\"y\",\"domain\":[0.0,1.0]},\"yaxis\":{\"anchor\":\"x\",\"domain\":[0.0,1.0]},\"margin\":{\"t\":60}},                        {\"responsive\": true}                    ).then(function(){\n                            \nvar gd = document.getElementById('b3428ea8-10d7-43e1-9e39-5803e4a87557');\nvar x = new MutationObserver(function (mutations, observer) {{\n        var display = window.getComputedStyle(gd).display;\n        if (!display || display === 'none') {{\n            console.log([gd, 'removed!']);\n            Plotly.purge(gd);\n            observer.disconnect();\n        }}\n}});\n\n// Listen for the removal of the full notebook cells\nvar notebookContainer = gd.closest('#notebook-container');\nif (notebookContainer) {{\n    x.observe(notebookContainer, {childList: true});\n}}\n\n// Listen for the clearing of the current output cell\nvar outputEl = gd.closest('.output');\nif (outputEl) {{\n    x.observe(outputEl, {childList: true});\n}}\n\n                        })                };                });            </script>        </div>"
     },
     "metadata": {},
     "output_type": "display_data"
    }
   ],
   "source": [
    "from src.environments.memory import MemoryEnv\n",
    "from minigrid.wrappers import ViewSizeWrapper\n",
    "import plotly.express as px \n",
    "\n",
    "env = MemoryEnv(size = 7, random_length=False, random_start_pos=False, max_steps=200, render_mode='rgb_array')\n",
    "env.reset()\n",
    "px.imshow(env.render()).show()\n"
   ]
  },
  {
   "cell_type": "markdown",
   "metadata": {},
   "source": [
    "## Dense Scheme Observation Recording Rendering\n",
    "\n",
    "Now let's load some trajectories. These trajectories were recorded in the dense schema (so not one hot encoded). We can see this in the shape of [7,7,3] and not [7,7,20]. (7 is the viewsize). @check if the trajectory file is in git."
   ]
  },
  {
   "cell_type": "code",
   "execution_count": 3,
   "metadata": {
    "ExecuteTime": {
     "end_time": "2024-04-08T07:51:31.651363Z",
     "start_time": "2024-04-08T07:51:25.994029Z"
    }
   },
   "outputs": [
    {
     "data": {
      "text/plain": "torch.Size([10, 7, 7, 3])"
     },
     "execution_count": 3,
     "metadata": {},
     "output_type": "execute_result"
    }
   ],
   "source": [
    "import sys \n",
    "sys.path.append('..')\n",
    "from src.decision_transformer.offline_dataset import TrajectoryDataset\n",
    "path = \"../trajectories/MiniGrid-MemoryS7FixedStart-v0-Checkpoint11.gz\"\n",
    "dataset = TrajectoryDataset(path, max_len = 10, prob_go_from_end=1)\n",
    "s, a, r, d, rtg, ti, m = dataset[0]\n",
    "s.shape"
   ]
  },
  {
   "cell_type": "markdown",
   "metadata": {},
   "source": [
    "Note that dataset item 0 has observations with shape [10,7,7,3] so we have 10 steps in this trajectory loaded from the dataset. Like in language modelling, our datasets aren't parts of the original trajectory/sentence. So here we've got 10 frames from a trajectory. "
   ]
  },
  {
   "cell_type": "code",
   "execution_count": 60,
   "metadata": {},
   "outputs": [
    {
     "data": {
      "application/vnd.plotly.v1+json": {
       "config": {
        "plotlyServerURL": "https://plotly.com"
       },
       "data": [
        {
         "hovertemplate": "x: %{x}<br>y: %{y}<br>color: [%{z[0]}, %{z[1]}, %{z[2]}]<extra></extra>",
         "name": "0",
         "source": "data:image/png;base64,iVBORw0KGgoAAAANSUhEUgAAAOAAAADgCAIAAACVT/22AAAClUlEQVR4Xu3coQ0DQRAEQduxfv4xmBsMsVZqUAUPDGpp2b2f53lB1nWg9jf72+f3AUoESppASRMoaQIlTaCkCZQ0gZImUNIESppASRMoaQIlTaCkCZQ0gZImUNIESppASRMoaQIlTaCkCZQ0gZImUNIESppASRMoaQIlTaCkva+/z4O/XAdqf7O/OfGkCZQ0gZImUNIESppASRMoaQIlTaCkCZQ0gZImUNIESppASRMoaQIlTaCkCZQ0gZImUNIESppASRMoaQIlTaCkCZQ0gZImUNIESppASfM/KG3Xgdrf7G9OPGkCJU2gpAmUNIGSJlDSBEqaQEkTKGkCJU2gpAmUNIGSJlDSBEqaQEkTKGkCJU2gpAmUNIGSJlDSBEqaQEkTKGkCJU2gpAmUNIGSJlDS/A9K23Wg9jf7mxNPmkBJEyhpAiVNoKQJlDSBkiZQ0gRKmkBJEyhpAiVNoKQJlDSBkiZQ0gRKmkBJEyhpAiVNoKQJlDSBkiZQ0gRKmkBJEyhpAiVNoKQJlDT/g9J2Haj9zf7mxJMmUNIESppASRMoaQIlTaCkCZQ0gZImUNIESppASRMoaQIlTaCkCZQ0gZImUNIESppASRMoaQIlTaCkCZQ0gZImUNIESppASRMoaQIlzf+gtF0Han+zvznxpAmUNIGSJlDSBEqaQEkTKGkCJU2gpAmUNIGSJlDSBEqaQEkTKGkCJU2gpAmUNIGSJlDSBEqaQEkTKGkCJU2gpAmUNIGSJlDSBEqaQEnzPyht14Ha3+xvTjxpAiVNoKQJlDSBkiZQ0gRKmkBJEyhpAiVNoKQJlDSBkiZQ0gRKmkBJEyhpAiVNoKQJlDSBkiZQ0gRKmkBJEyhpAiVNoKQJlDSBkiZQ0r5ExkNM/yP71wAAAABJRU5ErkJggg==",
         "type": "image",
         "xaxis": "x",
         "yaxis": "y"
        }
       ],
       "layout": {
        "margin": {
         "t": 60
        },
        "template": {
         "data": {
          "bar": [
           {
            "error_x": {
             "color": "#2a3f5f"
            },
            "error_y": {
             "color": "#2a3f5f"
            },
            "marker": {
             "line": {
              "color": "#E5ECF6",
              "width": 0.5
             },
             "pattern": {
              "fillmode": "overlay",
              "size": 10,
              "solidity": 0.2
             }
            },
            "type": "bar"
           }
          ],
          "barpolar": [
           {
            "marker": {
             "line": {
              "color": "#E5ECF6",
              "width": 0.5
             },
             "pattern": {
              "fillmode": "overlay",
              "size": 10,
              "solidity": 0.2
             }
            },
            "type": "barpolar"
           }
          ],
          "carpet": [
           {
            "aaxis": {
             "endlinecolor": "#2a3f5f",
             "gridcolor": "white",
             "linecolor": "white",
             "minorgridcolor": "white",
             "startlinecolor": "#2a3f5f"
            },
            "baxis": {
             "endlinecolor": "#2a3f5f",
             "gridcolor": "white",
             "linecolor": "white",
             "minorgridcolor": "white",
             "startlinecolor": "#2a3f5f"
            },
            "type": "carpet"
           }
          ],
          "choropleth": [
           {
            "colorbar": {
             "outlinewidth": 0,
             "ticks": ""
            },
            "type": "choropleth"
           }
          ],
          "contour": [
           {
            "colorbar": {
             "outlinewidth": 0,
             "ticks": ""
            },
            "colorscale": [
             [
              0,
              "#0d0887"
             ],
             [
              0.1111111111111111,
              "#46039f"
             ],
             [
              0.2222222222222222,
              "#7201a8"
             ],
             [
              0.3333333333333333,
              "#9c179e"
             ],
             [
              0.4444444444444444,
              "#bd3786"
             ],
             [
              0.5555555555555556,
              "#d8576b"
             ],
             [
              0.6666666666666666,
              "#ed7953"
             ],
             [
              0.7777777777777778,
              "#fb9f3a"
             ],
             [
              0.8888888888888888,
              "#fdca26"
             ],
             [
              1,
              "#f0f921"
             ]
            ],
            "type": "contour"
           }
          ],
          "contourcarpet": [
           {
            "colorbar": {
             "outlinewidth": 0,
             "ticks": ""
            },
            "type": "contourcarpet"
           }
          ],
          "heatmap": [
           {
            "colorbar": {
             "outlinewidth": 0,
             "ticks": ""
            },
            "colorscale": [
             [
              0,
              "#0d0887"
             ],
             [
              0.1111111111111111,
              "#46039f"
             ],
             [
              0.2222222222222222,
              "#7201a8"
             ],
             [
              0.3333333333333333,
              "#9c179e"
             ],
             [
              0.4444444444444444,
              "#bd3786"
             ],
             [
              0.5555555555555556,
              "#d8576b"
             ],
             [
              0.6666666666666666,
              "#ed7953"
             ],
             [
              0.7777777777777778,
              "#fb9f3a"
             ],
             [
              0.8888888888888888,
              "#fdca26"
             ],
             [
              1,
              "#f0f921"
             ]
            ],
            "type": "heatmap"
           }
          ],
          "heatmapgl": [
           {
            "colorbar": {
             "outlinewidth": 0,
             "ticks": ""
            },
            "colorscale": [
             [
              0,
              "#0d0887"
             ],
             [
              0.1111111111111111,
              "#46039f"
             ],
             [
              0.2222222222222222,
              "#7201a8"
             ],
             [
              0.3333333333333333,
              "#9c179e"
             ],
             [
              0.4444444444444444,
              "#bd3786"
             ],
             [
              0.5555555555555556,
              "#d8576b"
             ],
             [
              0.6666666666666666,
              "#ed7953"
             ],
             [
              0.7777777777777778,
              "#fb9f3a"
             ],
             [
              0.8888888888888888,
              "#fdca26"
             ],
             [
              1,
              "#f0f921"
             ]
            ],
            "type": "heatmapgl"
           }
          ],
          "histogram": [
           {
            "marker": {
             "pattern": {
              "fillmode": "overlay",
              "size": 10,
              "solidity": 0.2
             }
            },
            "type": "histogram"
           }
          ],
          "histogram2d": [
           {
            "colorbar": {
             "outlinewidth": 0,
             "ticks": ""
            },
            "colorscale": [
             [
              0,
              "#0d0887"
             ],
             [
              0.1111111111111111,
              "#46039f"
             ],
             [
              0.2222222222222222,
              "#7201a8"
             ],
             [
              0.3333333333333333,
              "#9c179e"
             ],
             [
              0.4444444444444444,
              "#bd3786"
             ],
             [
              0.5555555555555556,
              "#d8576b"
             ],
             [
              0.6666666666666666,
              "#ed7953"
             ],
             [
              0.7777777777777778,
              "#fb9f3a"
             ],
             [
              0.8888888888888888,
              "#fdca26"
             ],
             [
              1,
              "#f0f921"
             ]
            ],
            "type": "histogram2d"
           }
          ],
          "histogram2dcontour": [
           {
            "colorbar": {
             "outlinewidth": 0,
             "ticks": ""
            },
            "colorscale": [
             [
              0,
              "#0d0887"
             ],
             [
              0.1111111111111111,
              "#46039f"
             ],
             [
              0.2222222222222222,
              "#7201a8"
             ],
             [
              0.3333333333333333,
              "#9c179e"
             ],
             [
              0.4444444444444444,
              "#bd3786"
             ],
             [
              0.5555555555555556,
              "#d8576b"
             ],
             [
              0.6666666666666666,
              "#ed7953"
             ],
             [
              0.7777777777777778,
              "#fb9f3a"
             ],
             [
              0.8888888888888888,
              "#fdca26"
             ],
             [
              1,
              "#f0f921"
             ]
            ],
            "type": "histogram2dcontour"
           }
          ],
          "mesh3d": [
           {
            "colorbar": {
             "outlinewidth": 0,
             "ticks": ""
            },
            "type": "mesh3d"
           }
          ],
          "parcoords": [
           {
            "line": {
             "colorbar": {
              "outlinewidth": 0,
              "ticks": ""
             }
            },
            "type": "parcoords"
           }
          ],
          "pie": [
           {
            "automargin": true,
            "type": "pie"
           }
          ],
          "scatter": [
           {
            "fillpattern": {
             "fillmode": "overlay",
             "size": 10,
             "solidity": 0.2
            },
            "type": "scatter"
           }
          ],
          "scatter3d": [
           {
            "line": {
             "colorbar": {
              "outlinewidth": 0,
              "ticks": ""
             }
            },
            "marker": {
             "colorbar": {
              "outlinewidth": 0,
              "ticks": ""
             }
            },
            "type": "scatter3d"
           }
          ],
          "scattercarpet": [
           {
            "marker": {
             "colorbar": {
              "outlinewidth": 0,
              "ticks": ""
             }
            },
            "type": "scattercarpet"
           }
          ],
          "scattergeo": [
           {
            "marker": {
             "colorbar": {
              "outlinewidth": 0,
              "ticks": ""
             }
            },
            "type": "scattergeo"
           }
          ],
          "scattergl": [
           {
            "marker": {
             "colorbar": {
              "outlinewidth": 0,
              "ticks": ""
             }
            },
            "type": "scattergl"
           }
          ],
          "scattermapbox": [
           {
            "marker": {
             "colorbar": {
              "outlinewidth": 0,
              "ticks": ""
             }
            },
            "type": "scattermapbox"
           }
          ],
          "scatterpolar": [
           {
            "marker": {
             "colorbar": {
              "outlinewidth": 0,
              "ticks": ""
             }
            },
            "type": "scatterpolar"
           }
          ],
          "scatterpolargl": [
           {
            "marker": {
             "colorbar": {
              "outlinewidth": 0,
              "ticks": ""
             }
            },
            "type": "scatterpolargl"
           }
          ],
          "scatterternary": [
           {
            "marker": {
             "colorbar": {
              "outlinewidth": 0,
              "ticks": ""
             }
            },
            "type": "scatterternary"
           }
          ],
          "surface": [
           {
            "colorbar": {
             "outlinewidth": 0,
             "ticks": ""
            },
            "colorscale": [
             [
              0,
              "#0d0887"
             ],
             [
              0.1111111111111111,
              "#46039f"
             ],
             [
              0.2222222222222222,
              "#7201a8"
             ],
             [
              0.3333333333333333,
              "#9c179e"
             ],
             [
              0.4444444444444444,
              "#bd3786"
             ],
             [
              0.5555555555555556,
              "#d8576b"
             ],
             [
              0.6666666666666666,
              "#ed7953"
             ],
             [
              0.7777777777777778,
              "#fb9f3a"
             ],
             [
              0.8888888888888888,
              "#fdca26"
             ],
             [
              1,
              "#f0f921"
             ]
            ],
            "type": "surface"
           }
          ],
          "table": [
           {
            "cells": {
             "fill": {
              "color": "#EBF0F8"
             },
             "line": {
              "color": "white"
             }
            },
            "header": {
             "fill": {
              "color": "#C8D4E3"
             },
             "line": {
              "color": "white"
             }
            },
            "type": "table"
           }
          ]
         },
         "layout": {
          "annotationdefaults": {
           "arrowcolor": "#2a3f5f",
           "arrowhead": 0,
           "arrowwidth": 1
          },
          "autotypenumbers": "strict",
          "coloraxis": {
           "colorbar": {
            "outlinewidth": 0,
            "ticks": ""
           }
          },
          "colorscale": {
           "diverging": [
            [
             0,
             "#8e0152"
            ],
            [
             0.1,
             "#c51b7d"
            ],
            [
             0.2,
             "#de77ae"
            ],
            [
             0.3,
             "#f1b6da"
            ],
            [
             0.4,
             "#fde0ef"
            ],
            [
             0.5,
             "#f7f7f7"
            ],
            [
             0.6,
             "#e6f5d0"
            ],
            [
             0.7,
             "#b8e186"
            ],
            [
             0.8,
             "#7fbc41"
            ],
            [
             0.9,
             "#4d9221"
            ],
            [
             1,
             "#276419"
            ]
           ],
           "sequential": [
            [
             0,
             "#0d0887"
            ],
            [
             0.1111111111111111,
             "#46039f"
            ],
            [
             0.2222222222222222,
             "#7201a8"
            ],
            [
             0.3333333333333333,
             "#9c179e"
            ],
            [
             0.4444444444444444,
             "#bd3786"
            ],
            [
             0.5555555555555556,
             "#d8576b"
            ],
            [
             0.6666666666666666,
             "#ed7953"
            ],
            [
             0.7777777777777778,
             "#fb9f3a"
            ],
            [
             0.8888888888888888,
             "#fdca26"
            ],
            [
             1,
             "#f0f921"
            ]
           ],
           "sequentialminus": [
            [
             0,
             "#0d0887"
            ],
            [
             0.1111111111111111,
             "#46039f"
            ],
            [
             0.2222222222222222,
             "#7201a8"
            ],
            [
             0.3333333333333333,
             "#9c179e"
            ],
            [
             0.4444444444444444,
             "#bd3786"
            ],
            [
             0.5555555555555556,
             "#d8576b"
            ],
            [
             0.6666666666666666,
             "#ed7953"
            ],
            [
             0.7777777777777778,
             "#fb9f3a"
            ],
            [
             0.8888888888888888,
             "#fdca26"
            ],
            [
             1,
             "#f0f921"
            ]
           ]
          },
          "colorway": [
           "#636efa",
           "#EF553B",
           "#00cc96",
           "#ab63fa",
           "#FFA15A",
           "#19d3f3",
           "#FF6692",
           "#B6E880",
           "#FF97FF",
           "#FECB52"
          ],
          "font": {
           "color": "#2a3f5f"
          },
          "geo": {
           "bgcolor": "white",
           "lakecolor": "white",
           "landcolor": "#E5ECF6",
           "showlakes": true,
           "showland": true,
           "subunitcolor": "white"
          },
          "hoverlabel": {
           "align": "left"
          },
          "hovermode": "closest",
          "mapbox": {
           "style": "light"
          },
          "paper_bgcolor": "white",
          "plot_bgcolor": "#E5ECF6",
          "polar": {
           "angularaxis": {
            "gridcolor": "white",
            "linecolor": "white",
            "ticks": ""
           },
           "bgcolor": "#E5ECF6",
           "radialaxis": {
            "gridcolor": "white",
            "linecolor": "white",
            "ticks": ""
           }
          },
          "scene": {
           "xaxis": {
            "backgroundcolor": "#E5ECF6",
            "gridcolor": "white",
            "gridwidth": 2,
            "linecolor": "white",
            "showbackground": true,
            "ticks": "",
            "zerolinecolor": "white"
           },
           "yaxis": {
            "backgroundcolor": "#E5ECF6",
            "gridcolor": "white",
            "gridwidth": 2,
            "linecolor": "white",
            "showbackground": true,
            "ticks": "",
            "zerolinecolor": "white"
           },
           "zaxis": {
            "backgroundcolor": "#E5ECF6",
            "gridcolor": "white",
            "gridwidth": 2,
            "linecolor": "white",
            "showbackground": true,
            "ticks": "",
            "zerolinecolor": "white"
           }
          },
          "shapedefaults": {
           "line": {
            "color": "#2a3f5f"
           }
          },
          "ternary": {
           "aaxis": {
            "gridcolor": "white",
            "linecolor": "white",
            "ticks": ""
           },
           "baxis": {
            "gridcolor": "white",
            "linecolor": "white",
            "ticks": ""
           },
           "bgcolor": "#E5ECF6",
           "caxis": {
            "gridcolor": "white",
            "linecolor": "white",
            "ticks": ""
           }
          },
          "title": {
           "x": 0.05
          },
          "xaxis": {
           "automargin": true,
           "gridcolor": "white",
           "linecolor": "white",
           "ticks": "",
           "title": {
            "standoff": 15
           },
           "zerolinecolor": "white",
           "zerolinewidth": 2
          },
          "yaxis": {
           "automargin": true,
           "gridcolor": "white",
           "linecolor": "white",
           "ticks": "",
           "title": {
            "standoff": 15
           },
           "zerolinecolor": "white",
           "zerolinewidth": 2
          }
         }
        },
        "xaxis": {
         "anchor": "y",
         "domain": [
          0,
          1
         ]
        },
        "yaxis": {
         "anchor": "x",
         "domain": [
          0,
          1
         ]
        }
       }
      }
     },
     "metadata": {},
     "output_type": "display_data"
    }
   ],
   "source": [
    "from src.visualization import render_minigrid_observation, render_minigrid_observations\n",
    "import plotly.express as px\n",
    "px.imshow(render_minigrid_observation(env, s[0])).show()"
   ]
  },
  {
   "cell_type": "markdown",
   "metadata": {},
   "source": [
    "This frame shows nothing! That's because trajectories can be padded. Let's look at the padding mask, here called \"m\"."
   ]
  },
  {
   "cell_type": "code",
   "execution_count": 61,
   "metadata": {},
   "outputs": [
    {
     "data": {
      "text/plain": [
       "tensor([False, False, False, False,  True,  True,  True,  True,  True,  True])"
      ]
     },
     "execution_count": 61,
     "metadata": {},
     "output_type": "execute_result"
    }
   ],
   "source": [
    "m "
   ]
  },
  {
   "cell_type": "markdown",
   "metadata": {},
   "source": [
    "We can ignore the padding in practice and simply add a frame slider here for the trajectory. Moving the slider to frame 4 (the 5th frame) shows us this trajectory. "
   ]
  },
  {
   "cell_type": "code",
   "execution_count": 62,
   "metadata": {},
   "outputs": [
    {
     "data": {
      "application/vnd.plotly.v1+json": {
       "config": {
        "plotlyServerURL": "https://plotly.com"
       },
       "data": [
        {
         "hovertemplate": "x: %{x}<br>y: %{y}<br>color: %{z}<extra></extra>",
         "name": "0",
         "source": "data:image/png;base64,iVBORw0KGgoAAAANSUhEUgAAAOAAAADgCAIAAACVT/22AAAClUlEQVR4Xu3coQ0DQRAEQduxfv4xmBsMsVZqUAUPDGpp2b2f53lB1nWg9jf72+f3AUoESppASRMoaQIlTaCkCZQ0gZImUNIESppASRMoaQIlTaCkCZQ0gZImUNIESppASRMoaQIlTaCkCZQ0gZImUNIESppASRMoaQIlTaCkva+/z4O/XAdqf7O/OfGkCZQ0gZImUNIESppASRMoaQIlTaCkCZQ0gZImUNIESppASRMoaQIlTaCkCZQ0gZImUNIESppASRMoaQIlTaCkCZQ0gZImUNIESppASfM/KG3Xgdrf7G9OPGkCJU2gpAmUNIGSJlDSBEqaQEkTKGkCJU2gpAmUNIGSJlDSBEqaQEkTKGkCJU2gpAmUNIGSJlDSBEqaQEkTKGkCJU2gpAmUNIGSJlDS/A9K23Wg9jf7mxNPmkBJEyhpAiVNoKQJlDSBkiZQ0gRKmkBJEyhpAiVNoKQJlDSBkiZQ0gRKmkBJEyhpAiVNoKQJlDSBkiZQ0gRKmkBJEyhpAiVNoKQJlDT/g9J2Haj9zf7mxJMmUNIESppASRMoaQIlTaCkCZQ0gZImUNIESppASRMoaQIlTaCkCZQ0gZImUNIESppASRMoaQIlTaCkCZQ0gZImUNIESppASRMoaQIlzf+gtF0Han+zvznxpAmUNIGSJlDSBEqaQEkTKGkCJU2gpAmUNIGSJlDSBEqaQEkTKGkCJU2gpAmUNIGSJlDSBEqaQEkTKGkCJU2gpAmUNIGSJlDSBEqaQEnzPyht14Ha3+xvTjxpAiVNoKQJlDSBkiZQ0gRKmkBJEyhpAiVNoKQJlDSBkiZQ0gRKmkBJEyhpAiVNoKQJlDSBkiZQ0gRKmkBJEyhpAiVNoKQJlDSBkiZQ0r5ExkNM/yP71wAAAABJRU5ErkJggg==",
         "type": "image",
         "xaxis": "x",
         "yaxis": "y"
        }
       ],
       "frames": [
        {
         "data": [
          {
           "name": "0",
           "source": "data:image/png;base64,iVBORw0KGgoAAAANSUhEUgAAAOAAAADgCAIAAACVT/22AAAClUlEQVR4Xu3coQ0DQRAEQduxfv4xmBsMsVZqUAUPDGpp2b2f53lB1nWg9jf72+f3AUoESppASRMoaQIlTaCkCZQ0gZImUNIESppASRMoaQIlTaCkCZQ0gZImUNIESppASRMoaQIlTaCkCZQ0gZImUNIESppASRMoaQIlTaCkva+/z4O/XAdqf7O/OfGkCZQ0gZImUNIESppASRMoaQIlTaCkCZQ0gZImUNIESppASRMoaQIlTaCkCZQ0gZImUNIESppASRMoaQIlTaCkCZQ0gZImUNIESppASfM/KG3Xgdrf7G9OPGkCJU2gpAmUNIGSJlDSBEqaQEkTKGkCJU2gpAmUNIGSJlDSBEqaQEkTKGkCJU2gpAmUNIGSJlDSBEqaQEkTKGkCJU2gpAmUNIGSJlDS/A9K23Wg9jf7mxNPmkBJEyhpAiVNoKQJlDSBkiZQ0gRKmkBJEyhpAiVNoKQJlDSBkiZQ0gRKmkBJEyhpAiVNoKQJlDSBkiZQ0gRKmkBJEyhpAiVNoKQJlDT/g9J2Haj9zf7mxJMmUNIESppASRMoaQIlTaCkCZQ0gZImUNIESppASRMoaQIlTaCkCZQ0gZImUNIESppASRMoaQIlTaCkCZQ0gZImUNIESppASRMoaQIlzf+gtF0Han+zvznxpAmUNIGSJlDSBEqaQEkTKGkCJU2gpAmUNIGSJlDSBEqaQEkTKGkCJU2gpAmUNIGSJlDSBEqaQEkTKGkCJU2gpAmUNIGSJlDSBEqaQEnzPyht14Ha3+xvTjxpAiVNoKQJlDSBkiZQ0gRKmkBJEyhpAiVNoKQJlDSBkiZQ0gRKmkBJEyhpAiVNoKQJlDSBkiZQ0gRKmkBJEyhpAiVNoKQJlDSBkiZQ0r5ExkNM/yP71wAAAABJRU5ErkJggg==",
           "type": "image"
          }
         ],
         "layout": {
          "margin": {
           "t": 60
          }
         },
         "name": "0"
        },
        {
         "data": [
          {
           "name": "1",
           "source": "data:image/png;base64,iVBORw0KGgoAAAANSUhEUgAAAOAAAADgCAIAAACVT/22AAAClUlEQVR4Xu3coQ0DQRAEQduxfv4xmBsMsVZqUAUPDGpp2b2f53lB1nWg9jf72+f3AUoESppASRMoaQIlTaCkCZQ0gZImUNIESppASRMoaQIlTaCkCZQ0gZImUNIESppASRMoaQIlTaCkCZQ0gZImUNIESppASRMoaQIlTaCkva+/z4O/XAdqf7O/OfGkCZQ0gZImUNIESppASRMoaQIlTaCkCZQ0gZImUNIESppASRMoaQIlTaCkCZQ0gZImUNIESppASRMoaQIlTaCkCZQ0gZImUNIESppASfM/KG3Xgdrf7G9OPGkCJU2gpAmUNIGSJlDSBEqaQEkTKGkCJU2gpAmUNIGSJlDSBEqaQEkTKGkCJU2gpAmUNIGSJlDSBEqaQEkTKGkCJU2gpAmUNIGSJlDS/A9K23Wg9jf7mxNPmkBJEyhpAiVNoKQJlDSBkiZQ0gRKmkBJEyhpAiVNoKQJlDSBkiZQ0gRKmkBJEyhpAiVNoKQJlDSBkiZQ0gRKmkBJEyhpAiVNoKQJlDT/g9J2Haj9zf7mxJMmUNIESppASRMoaQIlTaCkCZQ0gZImUNIESppASRMoaQIlTaCkCZQ0gZImUNIESppASRMoaQIlTaCkCZQ0gZImUNIESppASRMoaQIlzf+gtF0Han+zvznxpAmUNIGSJlDSBEqaQEkTKGkCJU2gpAmUNIGSJlDSBEqaQEkTKGkCJU2gpAmUNIGSJlDSBEqaQEkTKGkCJU2gpAmUNIGSJlDSBEqaQEnzPyht14Ha3+xvTjxpAiVNoKQJlDSBkiZQ0gRKmkBJEyhpAiVNoKQJlDSBkiZQ0gRKmkBJEyhpAiVNoKQJlDSBkiZQ0gRKmkBJEyhpAiVNoKQJlDSBkiZQ0r5ExkNM/yP71wAAAABJRU5ErkJggg==",
           "type": "image"
          }
         ],
         "layout": {
          "margin": {
           "t": 60
          }
         },
         "name": "1"
        },
        {
         "data": [
          {
           "name": "2",
           "source": "data:image/png;base64,iVBORw0KGgoAAAANSUhEUgAAAOAAAADgCAIAAACVT/22AAAClUlEQVR4Xu3coQ0DQRAEQduxfv4xmBsMsVZqUAUPDGpp2b2f53lB1nWg9jf72+f3AUoESppASRMoaQIlTaCkCZQ0gZImUNIESppASRMoaQIlTaCkCZQ0gZImUNIESppASRMoaQIlTaCkCZQ0gZImUNIESppASRMoaQIlTaCkva+/z4O/XAdqf7O/OfGkCZQ0gZImUNIESppASRMoaQIlTaCkCZQ0gZImUNIESppASRMoaQIlTaCkCZQ0gZImUNIESppASRMoaQIlTaCkCZQ0gZImUNIESppASfM/KG3Xgdrf7G9OPGkCJU2gpAmUNIGSJlDSBEqaQEkTKGkCJU2gpAmUNIGSJlDSBEqaQEkTKGkCJU2gpAmUNIGSJlDSBEqaQEkTKGkCJU2gpAmUNIGSJlDS/A9K23Wg9jf7mxNPmkBJEyhpAiVNoKQJlDSBkiZQ0gRKmkBJEyhpAiVNoKQJlDSBkiZQ0gRKmkBJEyhpAiVNoKQJlDSBkiZQ0gRKmkBJEyhpAiVNoKQJlDT/g9J2Haj9zf7mxJMmUNIESppASRMoaQIlTaCkCZQ0gZImUNIESppASRMoaQIlTaCkCZQ0gZImUNIESppASRMoaQIlTaCkCZQ0gZImUNIESppASRMoaQIlzf+gtF0Han+zvznxpAmUNIGSJlDSBEqaQEkTKGkCJU2gpAmUNIGSJlDSBEqaQEkTKGkCJU2gpAmUNIGSJlDSBEqaQEkTKGkCJU2gpAmUNIGSJlDSBEqaQEnzPyht14Ha3+xvTjxpAiVNoKQJlDSBkiZQ0gRKmkBJEyhpAiVNoKQJlDSBkiZQ0gRKmkBJEyhpAiVNoKQJlDSBkiZQ0gRKmkBJEyhpAiVNoKQJlDSBkiZQ0r5ExkNM/yP71wAAAABJRU5ErkJggg==",
           "type": "image"
          }
         ],
         "layout": {
          "margin": {
           "t": 60
          }
         },
         "name": "2"
        },
        {
         "data": [
          {
           "name": "3",
           "source": "data:image/png;base64,iVBORw0KGgoAAAANSUhEUgAAAOAAAADgCAIAAACVT/22AAAClUlEQVR4Xu3coQ0DQRAEQduxfv4xmBsMsVZqUAUPDGpp2b2f53lB1nWg9jf72+f3AUoESppASRMoaQIlTaCkCZQ0gZImUNIESppASRMoaQIlTaCkCZQ0gZImUNIESppASRMoaQIlTaCkCZQ0gZImUNIESppASRMoaQIlTaCkva+/z4O/XAdqf7O/OfGkCZQ0gZImUNIESppASRMoaQIlTaCkCZQ0gZImUNIESppASRMoaQIlTaCkCZQ0gZImUNIESppASRMoaQIlTaCkCZQ0gZImUNIESppASfM/KG3Xgdrf7G9OPGkCJU2gpAmUNIGSJlDSBEqaQEkTKGkCJU2gpAmUNIGSJlDSBEqaQEkTKGkCJU2gpAmUNIGSJlDSBEqaQEkTKGkCJU2gpAmUNIGSJlDS/A9K23Wg9jf7mxNPmkBJEyhpAiVNoKQJlDSBkiZQ0gRKmkBJEyhpAiVNoKQJlDSBkiZQ0gRKmkBJEyhpAiVNoKQJlDSBkiZQ0gRKmkBJEyhpAiVNoKQJlDT/g9J2Haj9zf7mxJMmUNIESppASRMoaQIlTaCkCZQ0gZImUNIESppASRMoaQIlTaCkCZQ0gZImUNIESppASRMoaQIlTaCkCZQ0gZImUNIESppASRMoaQIlzf+gtF0Han+zvznxpAmUNIGSJlDSBEqaQEkTKGkCJU2gpAmUNIGSJlDSBEqaQEkTKGkCJU2gpAmUNIGSJlDSBEqaQEkTKGkCJU2gpAmUNIGSJlDSBEqaQEnzPyht14Ha3+xvTjxpAiVNoKQJlDSBkiZQ0gRKmkBJEyhpAiVNoKQJlDSBkiZQ0gRKmkBJEyhpAiVNoKQJlDSBkiZQ0gRKmkBJEyhpAiVNoKQJlDSBkiZQ0r5ExkNM/yP71wAAAABJRU5ErkJggg==",
           "type": "image"
          }
         ],
         "layout": {
          "margin": {
           "t": 60
          }
         },
         "name": "3"
        },
        {
         "data": [
          {
           "name": "4",
           "source": "data:image/png;base64,iVBORw0KGgoAAAANSUhEUgAAAOAAAADgCAIAAACVT/22AAAFOUlEQVR4Xu3c71HiWhyH8S93LAOsQ+yDWwENyNYhNGAF2gdYh9iH9wWDezxz+SNrch42z2d8kfmtyTDs40mITkbz+TwSVteBevzjPP5x/9QDicRAhWagQjNQoRmo0AxUaAYqNAMVmoEKzUCFZqBCM1ChGajQDFRoBio0AxWagQrNQIVmoEIzUKEZqNAMVGgGKjQDFZqBCs1AhWagQjNQoRmo0AxUaKOuH58n/QlXUKEZqNAMVGgGKjQDFZqBCs1AhWagQjNQoRmo0AxUaAYqNAMVmoEKzUCFZqBCM1ChGajQDFRoBio0AxWagQrNQIVmoEIzUKEZqNAMVGgGKjQDFZqBCs1AhWagQrupBx14enqqRz9nPp97/CN6OH49+lGuoEIzUO2Nk8fkY//1ljwm4/q7emagSpLMknWyKCaTZJGsGzdqoNqvnZN6nCSTZF3P+sQI9C55Ttb7k8s6eU7u6u9SVx4O1LkzSR7qWW9aB3qXvCWbZJZM98NpMks2yZuZ9qI8sy+TUTJKXorhrNjuV9NAH5LNqZ/dTcsf3yH6td8oq/1cO3rXLtCHZFnP/t/SRoerUaB3Z9e5s/Rc35fnJMn463/QptjuV6NAd+/Ct1ywi85UtjhLPpLt1+vO8nq0Xy0CvTt63XnIxEW0M6tkW89+2yaretabFoGWV9/fcvGOOu49uT/Q6Da5r2d9ahHoxb+ZuHhHnbRrtPpgsEhuk/evw361CPTiexYX76hzvBf3mHbandk/tQhUOluLQC++Z3HxjrpaLQK9+Jrm4h11tVoE+q1b9KWLd9Rxn38D+lH/S3MtAn09cEfjuG3yWs/012sRaJJ/68FpF+yiM+3+fGn3BdMo0Ndv3nVfuHwOVKNAk6zObnSBuCGnJtoFmmSVTI9ej26TqXUOWtNAk7wmt8k0eSluc26Sl2Sa3HpmH7o+Htxw2qufgZri3V361HoFlY5irKBqi3d36ZMrqNAMVGgGKrRR14/Pk/7ETbp/fmc9uja+P8d1+v54iheagQrNQIVmoEIzUKEZqNAMVGgGKjQDFZqBCs1AhWagQjNQoRmo0AxUaAYqNAMVmoEKzUCFZqBCM1ChGajQDFRoBio0AxWagQrNQIVmoEIzUKEZqNB8PqjQ/obng3b9+q/9+PXop3X6+j3FC81AhWagQjNQoRmo0AxUaAYqNAMVmoEKzUCFZqBCM1ChGajQDFRoBio0AxWagQrNQIVmoEIzUKEZqNAMVGgGKjQDFZqBCs1AhWagQjNQoRmo0AxUaD4fVGg+H/SEHp7f2fXx69FP6/T1e4oXmoEKzUCFZqBCM1ChGajQDFRoBio0AxWagQrNQIVmoEIzUKEZqNAMVGgGKjQDFZqBCs1AhWagQjNQoRmo0AxUaAYqNAMVmoEKzUCFZqBCM1ChGajQfD6o0Hw+6Ak9PL+z6+PXo5/W6ev3FC+0IQU6Th6Tj/3XW/KYjOvvEspgAp0l62RRTCbJIlnbKNowAt2tnZN6nCSTZF3PxDGMQB8O1LkzSR7qmSCGEWh5Zl8mo2SUvBTDWbEtkmEEWvq13yirnRbbIhleoLoqwwv0OUkyTpbFcFNsi2QYgZYtzpKPZPv1urO8HhXJMAJdJdt69ts2WdUzQQwj0Pfk/kCj2+S+noljGIFm32h5rk+ySG6T969DkQwm0CTvxT2mHc/seEMKVFfIQIVmoEK7qQd/pY96oGvhCiq0Yaygo2Lb1fSquIIKzUCFZqBCM1ChDeNDkh+MrpYrqNCGsYKWt5l0VVxBhWagQjNQof0Hv4LBvuJ54cIAAAAASUVORK5CYII=",
           "type": "image"
          }
         ],
         "layout": {
          "margin": {
           "t": 60
          }
         },
         "name": "4"
        },
        {
         "data": [
          {
           "name": "5",
           "source": "data:image/png;base64,iVBORw0KGgoAAAANSUhEUgAAAOAAAADgCAIAAACVT/22AAAEfUlEQVR4Xu3c4TEkWxzG4detDQNxsHm4EUiAG8eSgAjIA3EgD/fDFHd0XYNZ3ee1nqd8mPqv7pqyP93tUGfn+Pg4UGvuQJ1/M+ff7K/pAJoIlGoCpZpAqSZQqgmUagKlmkCpJlCqCZRqAqWaQKkmUKoJlGoCpZpAqSZQqgmUagKlmkCpJlCqCZRqAqWaQKkmUKoJlGoCpZpAqSZQqgmUajtzb58Hv2XuQJ1/M+ffzC2eagKlmkCpJlCqCZRqAqWaQKkmUKoJlGoCpZpAqSZQqgmUagKlmkCpJlCqCZRqAqWaQKkmUKoJlGoCpZpAqSZQqgmUagKlmkCpJlCqCZRqAqWa/UGp5gpKNYFSTaBUEyjVBEo1gVJNoFQTKNUESjWBUk2gVBMo1QRKNYFSTaBUEyjVBEo1gVJNoFQTKNUESjWBUk2gVBMo1QRKNYFSTaBUEyjVBEo1gVJNoFQTKNV+TAczuLi4mI4+z/HxsfNvsMD5p6NP5QpKNYHyZDf5lTw+fdwlv5Ld6WctTKAkSY6S6+R0bbKXnCbXgxsVKE/Xzr3pOEn2kuvpbEkdgR4kl8n1083lOrlMDqafxVxOXqlzZS85mc4WMzrQg+QuuUmOksOn4WFylNwkdzJdxPqd/SzZSXaSq7Xh0drrZQ0N9CS5eet792bkt+939M/Ti/Vqn68dixsX6ElyNp39vzONfl+DAj14d50rZ+71S7lMkuy+/A+6WXu9rEGBrr4KH7LFIbzTeotHyWNy//K5c/15dFkjAj3Y+Nz5mj0X0dmcJ/fT2X/uk/PpbDEjAl1/+v6QrQ9ks4fk5yuN3ic/p7MljQh0699MbH0gb1o1OvnB4DTZTx5eDpc1ItCt1yy2PpD3eFhbY1oZd2d/NiJQeLcRgW69ZrH1gXxZIwLd+plm6wP5skYE+qEl+nVbH8hmz38D+jj9l+FGBHr7yorGZvfJ7XTGH29EoEn+ng7etsUhvNPqz5dWH2UGBXr7wVX3U5fPb2pQoEnO393oacWCHEOMCzTJeXK48Xn0PjlU57c2NNAkt8l+cphcrS1z3iRXyWGy787+3S2xccPbbv0MNFTf6tKz0VdQ2KjjCspYfatLz1xBqSZQqgmUajtzb58Hv+NH5t+/czr6anx9Npv16+MWTzWBUk2gVBMo1QRKNYFSTaBUEyjVBEo1gVJNoFQTKNUESjWBUk2gVBMo1QRKNYFSTaBUEyjVBEo1gVJNoFQTKNUESjWBUk2gVBMo1QRKNYFSzf6gVPsT9ged+/1/9fNPR59t1vfvFk81gVJNoFQTKNUESjWBUk2gVBMo1QRKNYFSTaBUEyjVBEo1gVJNoFQTKNUESjWBUk2gVBMo1QRKNYFSTaBUEyjVBEo1gVJNoFQTKNUESjWBUs3+oFSzP+gbFti/c+7zT0efbdb37xZPNYFSTaBUEyjVBEo1gVJNoFQTKNUESjWBUk2gVBMo1QRKNYFSTaBUEyjVBEo1gVJNoFQTKNUESjWBUk2gVBMo1QRKNYFSTaBUEyjVBEo1gVLtX/4amhfJiDMyAAAAAElFTkSuQmCC",
           "type": "image"
          }
         ],
         "layout": {
          "margin": {
           "t": 60
          }
         },
         "name": "5"
        },
        {
         "data": [
          {
           "name": "6",
           "source": "data:image/png;base64,iVBORw0KGgoAAAANSUhEUgAAAOAAAADgCAIAAACVT/22AAAEdUlEQVR4Xu3c4TEkWxzG4detDQNxsHm4EUiAG8eSgAjIA3EgD/fDFHd0XY1Z0+e1nqd8mPqv7lKzP33aoXrn+Pg4UGvbgTr/POef99d0AE0ESjWBUk2gVBMo1QRKNYFSTaBUEyjVBEo1gVJNoFQTKNUESjWBUk2gVBMo1QRKNYFSTaBUEyjVBEo1gVJNoFQTKNUESjWBUk2gVBMo1QRKtZ1tPz4Pfsu2A3X+ec4/zxJPNYFSTaBUEyjVBEo1gVJNoFQTKNUESjWBUk2gVBMo1QRKNYFSTaBUEyjVBEo1gVJNoFQTKNUESjWBUk2gVBMo1QRKNYFSTaBUEyjVBEo1gVLN80Hptu1AnX+e88+zxFNNoFQTKNUESjWBUk2gVBMo1QRKNYFSTaBUEyjVBEo1gVJNoFQTKNUESjWBUk2gVBMo1QRKNYFSTaBUEyjVBEo1gVJNoFQTKNUESjWBUk2gVPN8UKq5glJNoFQTKNUESjWBUk2gVBMo1QRKNYFSTaBUEyjVBEo1gVJNoFQTKNUESjWBUk2gVBMo1QRKNYFSTaBUEyjVBEo1gVJNoFQTKNUESjWBUk2gVBMo1QRKtR/TwRZcXFxMR5/n+PjY+WcscP7p6FO5glJNoDzZTX4lj08fd8mvZHf6WQsTKEmSo+Q6OV2b7CWnyfXgRgXK07VzbzpOkr3kejpbUkegB8llcv20uFwnl8nB9LPYlpNX6lzZS06ms8WMDvQguUtukqPk8Gl4mBwlN8mdTBexvrKfJTvJTnK1Njxae72soYGeJDdvfe/ejPz2/Y7+eXqxXu3ztWNx4wI9Sc6ms/93ptHva1CgB++uc+XMWr+UyyTJ7sv/oJu118saFOjqXfiQDQ7hndZbPEoek/uX953r96PLGhHowex952v2XES35jy5n87+c5+cT2eLGRHo+t33h2x8IPMekp+vNHqf/JzOljQi0I1/M7Hxgbxp1ejkB4PTZD95eDlc1ohAN96z2PhA3uNhbY9pZdzK/mxEoPBuIwLdeM9i4wP5skYEuvE9zcYH8mWNCPRDW/TrNj6Qec9/A/o4/ZfhRgR6+8qOxrz75HY64483ItAkf08Hb9vgEN5p9edLq48ygwK9/eCu+6nL5zc1KNAk5+9u9LRiQ44hxgWa5Dw5nL0fvU8O1fmtDQ00yW2ynxwmV2vbnDfJVXKY7FvZv7slHtzwtls/Aw3Vt7v0bPQVFGZ1XEEZq2936ZkrKNUESjWBUm1n24/Pg9/xI9t/fud09NV4f+Zt9f2xxFNNoFQTKNUESjWBUk2gVBMo1QRKNYFSTaBUEyjVBEo1gVJNoFQTKNUESjWBUk2gVBMo1QRKNYFSTaBUEyjVBEo1gVJNoFQTKNUESjWBUk2gVPN8UKr9Cc8H3fbX/9XPPx19tq1+/ZZ4qgmUagKlmkCpJlCqCZRqAqWaQKkmUKoJlGoCpZpAqSZQqgmUagKlmkCpJlCqCZRqAqWaQKkmUKoJlGoCpZpAqSZQqgmUagKlmkCpJlCqCZRq/wKda5Rzp/62cgAAAABJRU5ErkJggg==",
           "type": "image"
          }
         ],
         "layout": {
          "margin": {
           "t": 60
          }
         },
         "name": "6"
        },
        {
         "data": [
          {
           "name": "7",
           "source": "data:image/png;base64,iVBORw0KGgoAAAANSUhEUgAAAOAAAADgCAIAAACVT/22AAAEaklEQVR4Xu3c4TEtSQCG4c/WDQNxcPOwEUiAG8clARGQB+JAHvbHKfaYWoNznenPep7y41QzXYpX92hqdo6PjwO1th2o+eeZf95f0wFoIlCqCZRqAqWaQKkmUKoJlGoCpZpAqSZQqgmUagKlmkCpJlCqCZRqAqWaQKkmUKoJlGoCpZpAqSZQqgmUagKlmkCpJlCqCZRqAqWaQKkmUKrtbPvxefBHth2o+eeZf54tnmoCpZpAqSZQqgmUagKlmkCpJlCqCZRqAqWaQKkmUKoJlGoCpZpAqSZQqgmUagKlmkCpJlCqCZRqAqWaQKkmUKoJlGoCpZpAqSZQqgmUagKlmueD0m3bgZp/nvnn2eKpJlCqCZRqAqWaQKkmUKoJlGoCpZpAqSZQqgmUagKlmkCpJlCqCZRqAqWaQKkmUKoJlGoCpZpAqSZQqgmUagKlmkCpJlCqCZRqAqWaQKkmUKp5Pijdth2o+eeZf54tnmoCpZpAqSZQqgmUagKlmkCpJlCqCZRqAqWaQKkmUKoJlGoCpZpAqSZQqgmUagKlmkCpJlCqCZRqAqWaQKkmUKoJlGoCpZpAqSZQqgmUagKlmueDUs0KSjWBUk2gVBMo1QRKNYFSTaBUEyjVBEo1gVJNoFQTKNUESjWBUk2gVBMo1QRKNYFSTaBUEyjVBEo1gVJNoFQTKNUESjWBUk2gVBMo1QRKNYFSTaBUEyjVfkwHtuDi4mI69HmOj4/NP2OB+adDn8oKSjWB8mQ3+Z08Pr3dJb+T3elHLUygJEmOkuvkdG1kLzlNrgc3KlCe1s696XCS7CXX07EldQR6kFwm10+by3VymRxMP4ptOXmlzpW95GQ6tpjRgR4kd8lNcpQcPg0eJkfJTXIn00Ws7+xnyU6yk1ytDR6tvV7W0EBPkpu3fnZvRv74fke/nl6sV/u8dixuXKAnydl07L+dafT7GhTowbvrXDmz1y/lMkmy+/IbdLP2elmDAl19FT5kg0t4p/UWj5LH5P7lfef6/eiyRgR6MHvf+Zo9i+jWnCf307F/3Sfn07HFjAh0/e77Qza+kHkPyc9XGr1Pfk7HljQi0I3/MrHxhbxp1ejkF4PTZD95eDm4rBGBbnxmsfGFvMfD2hnTyrid/dmIQOHdRgS68ZnFxhfyZY0IdON7mo0v5MsaEeiHjujXbXwh857/B/Rx+p7hRgR6+8qJxrz75HY6xv/eiECT/D0deNsGl/BOq39fWr2VGRTo7QdP3U8tn9/UoECTnL+70dOKAzmGGBdokvPkcPZ+9D45VOe3NjTQJLfJfnKYXK0dc94kV8lhsm9n/+6WeHDD2279DjRU3+nSs9ErKMzqWEEZq+906ZkVlGoCpZpAqbaz7cfnwZ/4ka///M7p0Gfz+c/Y9vfXFk81gVJNoFQTKNUESjWBUk2gVBMo1QRKNYFSTaBUEyjVBEo1gVJNoFQTKNUESjWBUk2gVBMo1QRKNYFSTaBUEyjVBEo1gVJNoFQTKNUESjWBUu0fO0iUz44D2QoAAAAASUVORK5CYII=",
           "type": "image"
          }
         ],
         "layout": {
          "margin": {
           "t": 60
          }
         },
         "name": "7"
        },
        {
         "data": [
          {
           "name": "8",
           "source": "data:image/png;base64,iVBORw0KGgoAAAANSUhEUgAAAOAAAADgCAIAAACVT/22AAAEYUlEQVR4Xu3c0VEjRwBF0YfLYcDGAZsHjoAEYONYSIAIIA9EHIg88IcKLKbMAPJq+q05p/hQNUx/wKV71FBzcHZ2Fqi170DNP8/88/6YDkATgVJNoFQTKNUESjWBUk2gVBMo1QRKNYFSTaBUEyjVBEo1gVJNoFQTKNUESjWBUk2gVBMo1QRKNYFSTaBUEyjVBEo1gVJNoFQTKNUESjWBUu1g34/Pg/9k34Gaf57559niqSZQqgmUagKlmkCpJlCqCZRqAqWaQKkmUKoJlGoCpZpAqSZQqgmUagKlmkCpJlCqCZRqAqWaQKkmUKoJlGoCpZpAqSZQqgmUagKlmkCpJlCqeT4o3fYdqPnnmX+eLZ5qAqWaQKkmUKoJlGoCpZpAqSZQqgmUagKlmkCpJlCqCZRqAqWaQKkmUKoJlGoCpZpAqSZQqgmUagKlmkCpJlCqCZRqAqWaQKkmUKoJlGoCpZrng9Jt34Gaf57559niqSZQqgmUagKlmkCpJlCqCZRqAqWaQKkmUKoJlGoCpZpAqSZQqgmUagKlmkCpJlCqCZRqAqWaQKkmUKoJlGoCpZpAqSZQqgmUagKlmkCpJlCqeT4o3fYdqPnnmX+eLZ5qAqWaQKkmUKoJlGoCpZpAqSZQqgmUagKlmkCpJlCqCZRqAqWaQKkmUKoJlGoCpZpAqSZQqgmUagKlmkCpJlCqCZRqAqWaQKkmUKoJlGoCpZrng1LNCko1gVJNoFQTKNUESjWBUk2gVBMo1QRKNYFSTaBUEyjVBEo1gVJNoFQTKNUESjWBUk2gVBMo1QRKNYFSTaBUEyjVBEo1gVJNoFQTKNUESjWBUk2gVBMo1f6cDuzB9fX1dOjXOTs7M/+MBeafDv1SVlCqCZRnh8nP5On54yH5mRxOv2phAiVJcprcJRdbI0fJRXI3uFGB8rx2Hk2Hk+QouZuOLakj0OPkJrl73lzukpvkePpV7Mv5G3VuHCXn07HFjA70OHlIVslpcvI8eJKcJqvkQaaL2N7ZL5OD5CC53Ro83Xq9rKGBnier9353VyN/fb+iH88vtqt9WTsWNy7Q8+RyOvbvLjX6dQ0K9PjDdW5c2uuXcpMkOXz9A1ptvV7WoEA334VP2eESPmi7xdPkKVm/vu/cvh9d1ohAj2fvO99yZBHdm6tkPR37xzq5mo4tZkSg23ffn7Lzhcx7TL6/0eg6+T4dW9KIQHf+y8TOF/KuTaOTNwYXybfk8fXgskYEuvOZxc4X8hGPW2dMG+N29hcjAoUPGxHozmcWO1/Ib2tEoDvf0+x8Ib+tEYF+6oh+284XMu/lf0Cfpp8ZbkSg92+caMxbJ/fTMf73RgSa5K/pwPt2uIQP2vz70uajzKBA7z956n5h+fyiBgWa5OrDjV5UHMgxxLhAk1wlJ7P3o+vkRJ1f2tBAk9wn35KT5HbrmHOV3CYnyTc7+1e3xIMb3nfvPdBQfadLL0avoDCrYwVlrL7TpRdWUKoJlGoCpdrfPZ2PKz3yg+4AAAAASUVORK5CYII=",
           "type": "image"
          }
         ],
         "layout": {
          "margin": {
           "t": 60
          }
         },
         "name": "8"
        },
        {
         "data": [
          {
           "name": "9",
           "source": "data:image/png;base64,iVBORw0KGgoAAAANSUhEUgAAAOAAAADgCAIAAACVT/22AAADwklEQVR4Xu3c0VEbVxSA4eMMZQTXAYXEFagBKMQ0QAW4D0MfpA/ngRdYJ0JasZ7f0fc9Hrh3NPCzK3bgftrtdgNZWwdq//3sv98fywGUCJQ0gZImUNIESppASRMoaQIlTaCkCZQ0gZImUNIESppASRMoaQIlTaCkCZQ0gZImUNIESppASRMoaQIlTaCkCZQ0gZImUNIESppASfu09fF5cJKtA7X/fvbfzy2eNIGSJlDSBEqaQEkTKGkCJU2gpAmUNIGSJlDSBEqaQEkTKGkCJU2gpAmUNIGSJlDSBEqaQEkTKGkCJU2gpAmUNIGSJlDSBEqaQEkTKGnOB6Vt60Dtv5/993OLJ02gpAmUNIGSJlDSBEqaQEkTKGkCJU2gpAmUNIGSJlDSBEqaQEkTKGkCJU2gpAmUNIGSJlDSBEqaQEkTKGkCJU2gpAmUNIGSJlDSBEqa80FJu5iZ+/v75fjj7Ha7rfdfjnhr66//pvu7xZMmUNIESppASRMoaQIlTaCkCZQ0gZImUNIESppASRMoaQIlTaCkCZQ0gZImUNIESppASRMoaQIlTaCkCZQ0gZImUNIESppASRMoaQIlzfmgpF0sB/xk0/Mvf8EFYuvXv+n+bvGkCZQ0gZImUNIE+hGuZh5mvs/8mPkx833mYeZq+Vms4Lf407ykefl2eD0zM3/NPM98mXl6+1GO4Qp6gpuZx5/qfO1y5nHmZjnmcAJd62bm63L2775qdD2BrnJ1cJ0vvnpLupJAV3lYDt63YgkCXeNq7/vO/3LpIrqGQI93uxwcavXCMybQ4/25HBxq9cIzJtDjvTzmXGH1wjMmUNIEerzH5eBQqxeeMYEe7+/l4FCrF54xgR7vqEf0r61eeMYEerynmefl7H3P/mpkDYGu8mU5eN+KJQh0pacjn7rfunyuJNC17g5u9HbmbjnjQAI9wd3M9d73o88z1+o8iUBP8zTzeeZ65turx5yPM99mrmc+u7Ofyr98fIQnvwNtxRWUNIGSJlDSBEqaQElzPihpF/Obnx/5C37AvP49tv7+usWTJlDSBEqaQEkTKGkCJU2gpAmUNIGSJlDSBEqaQEkTKGkCJU2gpAmUNIGSJlDSBEqaQEkTKGkCJU2gpAmUNIGSJlDSBEqaQEkTKGkCJc35oKT9H84H/d33X44+2tavf9P93eJJEyhpAiVNoKQJlDSBkiZQ0gRKmkBJEyhpAiVNoKQJlDSBkiZQ0gRKmkBJEyhpAiVNoKQJlDSBkiZQ0gRKmkBJEyhpAiVNoKQJlDSBkvYPS4t8/G0ER2wAAAAASUVORK5CYII=",
           "type": "image"
          }
         ],
         "layout": {
          "margin": {
           "t": 60
          }
         },
         "name": "9"
        }
       ],
       "layout": {
        "margin": {
         "t": 60
        },
        "sliders": [
         {
          "active": 0,
          "currentvalue": {
           "prefix": "animation_frame="
          },
          "len": 0.9,
          "pad": {
           "b": 10,
           "t": 60
          },
          "steps": [
           {
            "args": [
             [
              "0"
             ],
             {
              "frame": {
               "duration": 0,
               "redraw": true
              },
              "fromcurrent": true,
              "mode": "immediate",
              "transition": {
               "duration": 0,
               "easing": "linear"
              }
             }
            ],
            "label": "0",
            "method": "animate"
           },
           {
            "args": [
             [
              "1"
             ],
             {
              "frame": {
               "duration": 0,
               "redraw": true
              },
              "fromcurrent": true,
              "mode": "immediate",
              "transition": {
               "duration": 0,
               "easing": "linear"
              }
             }
            ],
            "label": "1",
            "method": "animate"
           },
           {
            "args": [
             [
              "2"
             ],
             {
              "frame": {
               "duration": 0,
               "redraw": true
              },
              "fromcurrent": true,
              "mode": "immediate",
              "transition": {
               "duration": 0,
               "easing": "linear"
              }
             }
            ],
            "label": "2",
            "method": "animate"
           },
           {
            "args": [
             [
              "3"
             ],
             {
              "frame": {
               "duration": 0,
               "redraw": true
              },
              "fromcurrent": true,
              "mode": "immediate",
              "transition": {
               "duration": 0,
               "easing": "linear"
              }
             }
            ],
            "label": "3",
            "method": "animate"
           },
           {
            "args": [
             [
              "4"
             ],
             {
              "frame": {
               "duration": 0,
               "redraw": true
              },
              "fromcurrent": true,
              "mode": "immediate",
              "transition": {
               "duration": 0,
               "easing": "linear"
              }
             }
            ],
            "label": "4",
            "method": "animate"
           },
           {
            "args": [
             [
              "5"
             ],
             {
              "frame": {
               "duration": 0,
               "redraw": true
              },
              "fromcurrent": true,
              "mode": "immediate",
              "transition": {
               "duration": 0,
               "easing": "linear"
              }
             }
            ],
            "label": "5",
            "method": "animate"
           },
           {
            "args": [
             [
              "6"
             ],
             {
              "frame": {
               "duration": 0,
               "redraw": true
              },
              "fromcurrent": true,
              "mode": "immediate",
              "transition": {
               "duration": 0,
               "easing": "linear"
              }
             }
            ],
            "label": "6",
            "method": "animate"
           },
           {
            "args": [
             [
              "7"
             ],
             {
              "frame": {
               "duration": 0,
               "redraw": true
              },
              "fromcurrent": true,
              "mode": "immediate",
              "transition": {
               "duration": 0,
               "easing": "linear"
              }
             }
            ],
            "label": "7",
            "method": "animate"
           },
           {
            "args": [
             [
              "8"
             ],
             {
              "frame": {
               "duration": 0,
               "redraw": true
              },
              "fromcurrent": true,
              "mode": "immediate",
              "transition": {
               "duration": 0,
               "easing": "linear"
              }
             }
            ],
            "label": "8",
            "method": "animate"
           },
           {
            "args": [
             [
              "9"
             ],
             {
              "frame": {
               "duration": 0,
               "redraw": true
              },
              "fromcurrent": true,
              "mode": "immediate",
              "transition": {
               "duration": 0,
               "easing": "linear"
              }
             }
            ],
            "label": "9",
            "method": "animate"
           }
          ],
          "x": 0.1,
          "xanchor": "left",
          "y": 0,
          "yanchor": "top"
         }
        ],
        "template": {
         "data": {
          "bar": [
           {
            "error_x": {
             "color": "#2a3f5f"
            },
            "error_y": {
             "color": "#2a3f5f"
            },
            "marker": {
             "line": {
              "color": "#E5ECF6",
              "width": 0.5
             },
             "pattern": {
              "fillmode": "overlay",
              "size": 10,
              "solidity": 0.2
             }
            },
            "type": "bar"
           }
          ],
          "barpolar": [
           {
            "marker": {
             "line": {
              "color": "#E5ECF6",
              "width": 0.5
             },
             "pattern": {
              "fillmode": "overlay",
              "size": 10,
              "solidity": 0.2
             }
            },
            "type": "barpolar"
           }
          ],
          "carpet": [
           {
            "aaxis": {
             "endlinecolor": "#2a3f5f",
             "gridcolor": "white",
             "linecolor": "white",
             "minorgridcolor": "white",
             "startlinecolor": "#2a3f5f"
            },
            "baxis": {
             "endlinecolor": "#2a3f5f",
             "gridcolor": "white",
             "linecolor": "white",
             "minorgridcolor": "white",
             "startlinecolor": "#2a3f5f"
            },
            "type": "carpet"
           }
          ],
          "choropleth": [
           {
            "colorbar": {
             "outlinewidth": 0,
             "ticks": ""
            },
            "type": "choropleth"
           }
          ],
          "contour": [
           {
            "colorbar": {
             "outlinewidth": 0,
             "ticks": ""
            },
            "colorscale": [
             [
              0,
              "#0d0887"
             ],
             [
              0.1111111111111111,
              "#46039f"
             ],
             [
              0.2222222222222222,
              "#7201a8"
             ],
             [
              0.3333333333333333,
              "#9c179e"
             ],
             [
              0.4444444444444444,
              "#bd3786"
             ],
             [
              0.5555555555555556,
              "#d8576b"
             ],
             [
              0.6666666666666666,
              "#ed7953"
             ],
             [
              0.7777777777777778,
              "#fb9f3a"
             ],
             [
              0.8888888888888888,
              "#fdca26"
             ],
             [
              1,
              "#f0f921"
             ]
            ],
            "type": "contour"
           }
          ],
          "contourcarpet": [
           {
            "colorbar": {
             "outlinewidth": 0,
             "ticks": ""
            },
            "type": "contourcarpet"
           }
          ],
          "heatmap": [
           {
            "colorbar": {
             "outlinewidth": 0,
             "ticks": ""
            },
            "colorscale": [
             [
              0,
              "#0d0887"
             ],
             [
              0.1111111111111111,
              "#46039f"
             ],
             [
              0.2222222222222222,
              "#7201a8"
             ],
             [
              0.3333333333333333,
              "#9c179e"
             ],
             [
              0.4444444444444444,
              "#bd3786"
             ],
             [
              0.5555555555555556,
              "#d8576b"
             ],
             [
              0.6666666666666666,
              "#ed7953"
             ],
             [
              0.7777777777777778,
              "#fb9f3a"
             ],
             [
              0.8888888888888888,
              "#fdca26"
             ],
             [
              1,
              "#f0f921"
             ]
            ],
            "type": "heatmap"
           }
          ],
          "heatmapgl": [
           {
            "colorbar": {
             "outlinewidth": 0,
             "ticks": ""
            },
            "colorscale": [
             [
              0,
              "#0d0887"
             ],
             [
              0.1111111111111111,
              "#46039f"
             ],
             [
              0.2222222222222222,
              "#7201a8"
             ],
             [
              0.3333333333333333,
              "#9c179e"
             ],
             [
              0.4444444444444444,
              "#bd3786"
             ],
             [
              0.5555555555555556,
              "#d8576b"
             ],
             [
              0.6666666666666666,
              "#ed7953"
             ],
             [
              0.7777777777777778,
              "#fb9f3a"
             ],
             [
              0.8888888888888888,
              "#fdca26"
             ],
             [
              1,
              "#f0f921"
             ]
            ],
            "type": "heatmapgl"
           }
          ],
          "histogram": [
           {
            "marker": {
             "pattern": {
              "fillmode": "overlay",
              "size": 10,
              "solidity": 0.2
             }
            },
            "type": "histogram"
           }
          ],
          "histogram2d": [
           {
            "colorbar": {
             "outlinewidth": 0,
             "ticks": ""
            },
            "colorscale": [
             [
              0,
              "#0d0887"
             ],
             [
              0.1111111111111111,
              "#46039f"
             ],
             [
              0.2222222222222222,
              "#7201a8"
             ],
             [
              0.3333333333333333,
              "#9c179e"
             ],
             [
              0.4444444444444444,
              "#bd3786"
             ],
             [
              0.5555555555555556,
              "#d8576b"
             ],
             [
              0.6666666666666666,
              "#ed7953"
             ],
             [
              0.7777777777777778,
              "#fb9f3a"
             ],
             [
              0.8888888888888888,
              "#fdca26"
             ],
             [
              1,
              "#f0f921"
             ]
            ],
            "type": "histogram2d"
           }
          ],
          "histogram2dcontour": [
           {
            "colorbar": {
             "outlinewidth": 0,
             "ticks": ""
            },
            "colorscale": [
             [
              0,
              "#0d0887"
             ],
             [
              0.1111111111111111,
              "#46039f"
             ],
             [
              0.2222222222222222,
              "#7201a8"
             ],
             [
              0.3333333333333333,
              "#9c179e"
             ],
             [
              0.4444444444444444,
              "#bd3786"
             ],
             [
              0.5555555555555556,
              "#d8576b"
             ],
             [
              0.6666666666666666,
              "#ed7953"
             ],
             [
              0.7777777777777778,
              "#fb9f3a"
             ],
             [
              0.8888888888888888,
              "#fdca26"
             ],
             [
              1,
              "#f0f921"
             ]
            ],
            "type": "histogram2dcontour"
           }
          ],
          "mesh3d": [
           {
            "colorbar": {
             "outlinewidth": 0,
             "ticks": ""
            },
            "type": "mesh3d"
           }
          ],
          "parcoords": [
           {
            "line": {
             "colorbar": {
              "outlinewidth": 0,
              "ticks": ""
             }
            },
            "type": "parcoords"
           }
          ],
          "pie": [
           {
            "automargin": true,
            "type": "pie"
           }
          ],
          "scatter": [
           {
            "fillpattern": {
             "fillmode": "overlay",
             "size": 10,
             "solidity": 0.2
            },
            "type": "scatter"
           }
          ],
          "scatter3d": [
           {
            "line": {
             "colorbar": {
              "outlinewidth": 0,
              "ticks": ""
             }
            },
            "marker": {
             "colorbar": {
              "outlinewidth": 0,
              "ticks": ""
             }
            },
            "type": "scatter3d"
           }
          ],
          "scattercarpet": [
           {
            "marker": {
             "colorbar": {
              "outlinewidth": 0,
              "ticks": ""
             }
            },
            "type": "scattercarpet"
           }
          ],
          "scattergeo": [
           {
            "marker": {
             "colorbar": {
              "outlinewidth": 0,
              "ticks": ""
             }
            },
            "type": "scattergeo"
           }
          ],
          "scattergl": [
           {
            "marker": {
             "colorbar": {
              "outlinewidth": 0,
              "ticks": ""
             }
            },
            "type": "scattergl"
           }
          ],
          "scattermapbox": [
           {
            "marker": {
             "colorbar": {
              "outlinewidth": 0,
              "ticks": ""
             }
            },
            "type": "scattermapbox"
           }
          ],
          "scatterpolar": [
           {
            "marker": {
             "colorbar": {
              "outlinewidth": 0,
              "ticks": ""
             }
            },
            "type": "scatterpolar"
           }
          ],
          "scatterpolargl": [
           {
            "marker": {
             "colorbar": {
              "outlinewidth": 0,
              "ticks": ""
             }
            },
            "type": "scatterpolargl"
           }
          ],
          "scatterternary": [
           {
            "marker": {
             "colorbar": {
              "outlinewidth": 0,
              "ticks": ""
             }
            },
            "type": "scatterternary"
           }
          ],
          "surface": [
           {
            "colorbar": {
             "outlinewidth": 0,
             "ticks": ""
            },
            "colorscale": [
             [
              0,
              "#0d0887"
             ],
             [
              0.1111111111111111,
              "#46039f"
             ],
             [
              0.2222222222222222,
              "#7201a8"
             ],
             [
              0.3333333333333333,
              "#9c179e"
             ],
             [
              0.4444444444444444,
              "#bd3786"
             ],
             [
              0.5555555555555556,
              "#d8576b"
             ],
             [
              0.6666666666666666,
              "#ed7953"
             ],
             [
              0.7777777777777778,
              "#fb9f3a"
             ],
             [
              0.8888888888888888,
              "#fdca26"
             ],
             [
              1,
              "#f0f921"
             ]
            ],
            "type": "surface"
           }
          ],
          "table": [
           {
            "cells": {
             "fill": {
              "color": "#EBF0F8"
             },
             "line": {
              "color": "white"
             }
            },
            "header": {
             "fill": {
              "color": "#C8D4E3"
             },
             "line": {
              "color": "white"
             }
            },
            "type": "table"
           }
          ]
         },
         "layout": {
          "annotationdefaults": {
           "arrowcolor": "#2a3f5f",
           "arrowhead": 0,
           "arrowwidth": 1
          },
          "autotypenumbers": "strict",
          "coloraxis": {
           "colorbar": {
            "outlinewidth": 0,
            "ticks": ""
           }
          },
          "colorscale": {
           "diverging": [
            [
             0,
             "#8e0152"
            ],
            [
             0.1,
             "#c51b7d"
            ],
            [
             0.2,
             "#de77ae"
            ],
            [
             0.3,
             "#f1b6da"
            ],
            [
             0.4,
             "#fde0ef"
            ],
            [
             0.5,
             "#f7f7f7"
            ],
            [
             0.6,
             "#e6f5d0"
            ],
            [
             0.7,
             "#b8e186"
            ],
            [
             0.8,
             "#7fbc41"
            ],
            [
             0.9,
             "#4d9221"
            ],
            [
             1,
             "#276419"
            ]
           ],
           "sequential": [
            [
             0,
             "#0d0887"
            ],
            [
             0.1111111111111111,
             "#46039f"
            ],
            [
             0.2222222222222222,
             "#7201a8"
            ],
            [
             0.3333333333333333,
             "#9c179e"
            ],
            [
             0.4444444444444444,
             "#bd3786"
            ],
            [
             0.5555555555555556,
             "#d8576b"
            ],
            [
             0.6666666666666666,
             "#ed7953"
            ],
            [
             0.7777777777777778,
             "#fb9f3a"
            ],
            [
             0.8888888888888888,
             "#fdca26"
            ],
            [
             1,
             "#f0f921"
            ]
           ],
           "sequentialminus": [
            [
             0,
             "#0d0887"
            ],
            [
             0.1111111111111111,
             "#46039f"
            ],
            [
             0.2222222222222222,
             "#7201a8"
            ],
            [
             0.3333333333333333,
             "#9c179e"
            ],
            [
             0.4444444444444444,
             "#bd3786"
            ],
            [
             0.5555555555555556,
             "#d8576b"
            ],
            [
             0.6666666666666666,
             "#ed7953"
            ],
            [
             0.7777777777777778,
             "#fb9f3a"
            ],
            [
             0.8888888888888888,
             "#fdca26"
            ],
            [
             1,
             "#f0f921"
            ]
           ]
          },
          "colorway": [
           "#636efa",
           "#EF553B",
           "#00cc96",
           "#ab63fa",
           "#FFA15A",
           "#19d3f3",
           "#FF6692",
           "#B6E880",
           "#FF97FF",
           "#FECB52"
          ],
          "font": {
           "color": "#2a3f5f"
          },
          "geo": {
           "bgcolor": "white",
           "lakecolor": "white",
           "landcolor": "#E5ECF6",
           "showlakes": true,
           "showland": true,
           "subunitcolor": "white"
          },
          "hoverlabel": {
           "align": "left"
          },
          "hovermode": "closest",
          "mapbox": {
           "style": "light"
          },
          "paper_bgcolor": "white",
          "plot_bgcolor": "#E5ECF6",
          "polar": {
           "angularaxis": {
            "gridcolor": "white",
            "linecolor": "white",
            "ticks": ""
           },
           "bgcolor": "#E5ECF6",
           "radialaxis": {
            "gridcolor": "white",
            "linecolor": "white",
            "ticks": ""
           }
          },
          "scene": {
           "xaxis": {
            "backgroundcolor": "#E5ECF6",
            "gridcolor": "white",
            "gridwidth": 2,
            "linecolor": "white",
            "showbackground": true,
            "ticks": "",
            "zerolinecolor": "white"
           },
           "yaxis": {
            "backgroundcolor": "#E5ECF6",
            "gridcolor": "white",
            "gridwidth": 2,
            "linecolor": "white",
            "showbackground": true,
            "ticks": "",
            "zerolinecolor": "white"
           },
           "zaxis": {
            "backgroundcolor": "#E5ECF6",
            "gridcolor": "white",
            "gridwidth": 2,
            "linecolor": "white",
            "showbackground": true,
            "ticks": "",
            "zerolinecolor": "white"
           }
          },
          "shapedefaults": {
           "line": {
            "color": "#2a3f5f"
           }
          },
          "ternary": {
           "aaxis": {
            "gridcolor": "white",
            "linecolor": "white",
            "ticks": ""
           },
           "baxis": {
            "gridcolor": "white",
            "linecolor": "white",
            "ticks": ""
           },
           "bgcolor": "#E5ECF6",
           "caxis": {
            "gridcolor": "white",
            "linecolor": "white",
            "ticks": ""
           }
          },
          "title": {
           "x": 0.05
          },
          "xaxis": {
           "automargin": true,
           "gridcolor": "white",
           "linecolor": "white",
           "ticks": "",
           "title": {
            "standoff": 15
           },
           "zerolinecolor": "white",
           "zerolinewidth": 2
          },
          "yaxis": {
           "automargin": true,
           "gridcolor": "white",
           "linecolor": "white",
           "ticks": "",
           "title": {
            "standoff": 15
           },
           "zerolinecolor": "white",
           "zerolinewidth": 2
          }
         }
        },
        "updatemenus": [
         {
          "buttons": [
           {
            "args": [
             null,
             {
              "frame": {
               "duration": 500,
               "redraw": true
              },
              "fromcurrent": true,
              "mode": "immediate",
              "transition": {
               "duration": 500,
               "easing": "linear"
              }
             }
            ],
            "label": "&#9654;",
            "method": "animate"
           },
           {
            "args": [
             [
              null
             ],
             {
              "frame": {
               "duration": 0,
               "redraw": true
              },
              "fromcurrent": true,
              "mode": "immediate",
              "transition": {
               "duration": 0,
               "easing": "linear"
              }
             }
            ],
            "label": "&#9724;",
            "method": "animate"
           }
          ],
          "direction": "left",
          "pad": {
           "r": 10,
           "t": 70
          },
          "showactive": false,
          "type": "buttons",
          "x": 0.1,
          "xanchor": "right",
          "y": 0,
          "yanchor": "top"
         }
        ],
        "xaxis": {
         "anchor": "y",
         "domain": [
          0,
          1
         ]
        },
        "yaxis": {
         "anchor": "x",
         "domain": [
          0,
          1
         ]
        }
       }
      }
     },
     "metadata": {},
     "output_type": "display_data"
    }
   ],
   "source": [
    "px.imshow(render_minigrid_observations(env, s), animation_frame=0).show()"
   ]
  },
  {
   "cell_type": "markdown",
   "metadata": {},
   "source": [
    "It seems like we're not seeing the observation after the last action which may matter. I'm not sure. "
   ]
  },
  {
   "cell_type": "markdown",
   "metadata": {},
   "source": [
    "### what am I doing under the hood? \n",
    "\n",
    "The functions I imported are in `src.visualization` and work by using the environments `env.grid.decode` method and `grid.render` methods. It's a bit messy but it works. "
   ]
  },
  {
   "cell_type": "markdown",
   "metadata": {},
   "source": [
    "## Sparse Schema / One Hot Encoding Observation Recording Rendering\n",
    "\n",
    "Now let's do the same thing with one hot encoded trajectory (which I remember was a bit of a bitch to work out at some point in time). I'm going to be lazy here and use these trajectories with the \"convert to one hot\" utility that exists in `offline_dataset`. This function simply does the reverse of the minigrid one hot wrapper. "
   ]
  },
  {
   "cell_type": "code",
   "execution_count": 63,
   "metadata": {},
   "outputs": [
    {
     "data": {
      "text/plain": [
       "torch.Size([10, 7, 7, 20])"
      ]
     },
     "execution_count": 63,
     "metadata": {},
     "output_type": "execute_result"
    }
   ],
   "source": [
    "from src.decision_transformer.offline_dataset import one_hot_encode_observation\n",
    "\n",
    "one_hot_s = one_hot_encode_observation(s)\n",
    "one_hot_s.shape"
   ]
  },
  {
   "cell_type": "markdown",
   "metadata": {},
   "source": [
    "It's kinda embarassing how poorly organised this is but we have a \"reverse one hot\" function too. We should put this next to one_hot_encode... Anyway. Let's use `src.environments.utils.reverse_one_hot`"
   ]
  },
  {
   "cell_type": "code",
   "execution_count": 81,
   "metadata": {},
   "outputs": [
    {
     "name": "stdout",
     "output_type": "stream",
     "text": [
      "tensor([1., 0., 0., 0., 0., 0., 0., 0., 0., 0., 0.])\n",
      "0\n",
      "tensor([1., 0., 0., 0., 0., 0., 0., 0., 0., 0., 0.])\n",
      "0\n",
      "tensor([1., 0., 0., 0., 0., 0., 0., 0., 0., 0., 0.])\n",
      "0\n",
      "tensor([1., 0., 0., 0., 0., 0., 0., 0., 0., 0., 0.])\n",
      "0\n",
      "tensor([1., 0., 0., 0., 0., 0., 0., 0., 0., 0., 0.])\n",
      "0\n",
      "tensor([1., 0., 0., 0., 0., 0., 0., 0., 0., 0., 0.])\n",
      "0\n",
      "tensor([1., 0., 0., 0., 0., 0., 0., 0., 0., 0., 0.])\n",
      "0\n",
      "tensor([1., 0., 0., 0., 0., 0., 0., 0., 0., 0., 0.])\n",
      "0\n",
      "tensor([1., 0., 0., 0., 0., 0., 0., 0., 0., 0., 0.])\n",
      "0\n",
      "tensor([1., 0., 0., 0., 0., 0., 0., 0., 0., 0., 0.])\n",
      "0\n",
      "tensor([1., 0., 0., 0., 0., 0., 0., 0., 0., 0., 0.])\n",
      "0\n",
      "tensor([1., 0., 0., 0., 0., 0., 0., 0., 0., 0., 0.])\n",
      "0\n",
      "tensor([1., 0., 0., 0., 0., 0., 0., 0., 0., 0., 0.])\n",
      "0\n",
      "tensor([1., 0., 0., 0., 0., 0., 0., 0., 0., 0., 0.])\n",
      "0\n",
      "tensor([1., 0., 0., 0., 0., 0., 0., 0., 0., 0., 0.])\n",
      "0\n",
      "tensor([1., 0., 0., 0., 0., 0., 0., 0., 0., 0., 0.])\n",
      "0\n",
      "tensor([1., 0., 0., 0., 0., 0., 0., 0., 0., 0., 0.])\n",
      "0\n",
      "tensor([1., 0., 0., 0., 0., 0., 0., 0., 0., 0., 0.])\n",
      "0\n",
      "tensor([1., 0., 0., 0., 0., 0., 0., 0., 0., 0., 0.])\n",
      "0\n",
      "tensor([1., 0., 0., 0., 0., 0., 0., 0., 0., 0., 0.])\n",
      "0\n",
      "tensor([1., 0., 0., 0., 0., 0., 0., 0., 0., 0., 0.])\n",
      "0\n",
      "tensor([1., 0., 0., 0., 0., 0., 0., 0., 0., 0., 0.])\n",
      "0\n",
      "tensor([1., 0., 0., 0., 0., 0., 0., 0., 0., 0., 0.])\n",
      "0\n",
      "tensor([1., 0., 0., 0., 0., 0., 0., 0., 0., 0., 0.])\n",
      "0\n",
      "tensor([1., 0., 0., 0., 0., 0., 0., 0., 0., 0., 0.])\n",
      "0\n",
      "tensor([1., 0., 0., 0., 0., 0., 0., 0., 0., 0., 0.])\n",
      "0\n",
      "tensor([1., 0., 0., 0., 0., 0., 0., 0., 0., 0., 0.])\n",
      "0\n",
      "tensor([1., 0., 0., 0., 0., 0., 0., 0., 0., 0., 0.])\n",
      "0\n",
      "tensor([1., 0., 0., 0., 0., 0., 0., 0., 0., 0., 0.])\n",
      "0\n",
      "tensor([1., 0., 0., 0., 0., 0., 0., 0., 0., 0., 0.])\n",
      "0\n",
      "tensor([1., 0., 0., 0., 0., 0., 0., 0., 0., 0., 0.])\n",
      "0\n",
      "tensor([1., 0., 0., 0., 0., 0., 0., 0., 0., 0., 0.])\n",
      "0\n",
      "tensor([1., 0., 0., 0., 0., 0., 0., 0., 0., 0., 0.])\n",
      "0\n",
      "tensor([1., 0., 0., 0., 0., 0., 0., 0., 0., 0., 0.])\n",
      "0\n",
      "tensor([1., 0., 0., 0., 0., 0., 0., 0., 0., 0., 0.])\n",
      "0\n",
      "tensor([1., 0., 0., 0., 0., 0., 0., 0., 0., 0., 0.])\n",
      "0\n",
      "tensor([1., 0., 0., 0., 0., 0., 0., 0., 0., 0., 0.])\n",
      "0\n",
      "tensor([1., 0., 0., 0., 0., 0., 0., 0., 0., 0., 0.])\n",
      "0\n",
      "tensor([1., 0., 0., 0., 0., 0., 0., 0., 0., 0., 0.])\n",
      "0\n",
      "tensor([1., 0., 0., 0., 0., 0., 0., 0., 0., 0., 0.])\n",
      "0\n",
      "tensor([1., 0., 0., 0., 0., 0., 0., 0., 0., 0., 0.])\n",
      "0\n",
      "tensor([1., 0., 0., 0., 0., 0., 0., 0., 0., 0., 0.])\n",
      "0\n",
      "tensor([1., 0., 0., 0., 0., 0., 0., 0., 0., 0., 0.])\n",
      "0\n",
      "tensor([1., 0., 0., 0., 0., 0., 0., 0., 0., 0., 0.])\n",
      "0\n",
      "tensor([1., 0., 0., 0., 0., 0., 0., 0., 0., 0., 0.])\n",
      "0\n",
      "tensor([1., 0., 0., 0., 0., 0., 0., 0., 0., 0., 0.])\n",
      "0\n",
      "tensor([1., 0., 0., 0., 0., 0., 0., 0., 0., 0., 0.])\n",
      "0\n",
      "tensor([1., 0., 0., 0., 0., 0., 0., 0., 0., 0., 0.])\n",
      "0\n",
      "tensor([1., 0., 0., 0., 0., 0., 0., 0., 0., 0., 0.])\n",
      "0\n",
      "tensor([1., 0., 0., 0., 0., 0., 0., 0., 0., 0., 0.])\n",
      "0\n",
      "tensor([1., 0., 0., 0., 0., 0., 0., 0., 0., 0., 0.])\n",
      "0\n",
      "tensor([1., 0., 0., 0., 0., 0., 0., 0., 0., 0., 0.])\n",
      "0\n",
      "tensor([1., 0., 0., 0., 0., 0., 0., 0., 0., 0., 0.])\n",
      "0\n",
      "tensor([1., 0., 0., 0., 0., 0., 0., 0., 0., 0., 0.])\n",
      "0\n",
      "tensor([1., 0., 0., 0., 0., 0., 0., 0., 0., 0., 0.])\n",
      "0\n",
      "tensor([1., 0., 0., 0., 0., 0., 0., 0., 0., 0., 0.])\n",
      "0\n",
      "tensor([1., 0., 0., 0., 0., 0., 0., 0., 0., 0., 0.])\n",
      "0\n",
      "tensor([1., 0., 0., 0., 0., 0., 0., 0., 0., 0., 0.])\n",
      "0\n",
      "tensor([1., 0., 0., 0., 0., 0., 0., 0., 0., 0., 0.])\n",
      "0\n",
      "tensor([1., 0., 0., 0., 0., 0., 0., 0., 0., 0., 0.])\n",
      "0\n",
      "tensor([1., 0., 0., 0., 0., 0., 0., 0., 0., 0., 0.])\n",
      "0\n",
      "tensor([1., 0., 0., 0., 0., 0., 0., 0., 0., 0., 0.])\n",
      "0\n",
      "tensor([1., 0., 0., 0., 0., 0., 0., 0., 0., 0., 0.])\n",
      "0\n",
      "tensor([1., 0., 0., 0., 0., 0., 0., 0., 0., 0., 0.])\n",
      "0\n",
      "tensor([1., 0., 0., 0., 0., 0., 0., 0., 0., 0., 0.])\n",
      "0\n",
      "tensor([1., 0., 0., 0., 0., 0., 0., 0., 0., 0., 0.])\n",
      "0\n",
      "tensor([1., 0., 0., 0., 0., 0., 0., 0., 0., 0., 0.])\n",
      "0\n",
      "tensor([1., 0., 0., 0., 0., 0., 0., 0., 0., 0., 0.])\n",
      "0\n",
      "tensor([1., 0., 0., 0., 0., 0., 0., 0., 0., 0., 0.])\n",
      "0\n",
      "tensor([1., 0., 0., 0., 0., 0., 0., 0., 0., 0., 0.])\n",
      "0\n",
      "tensor([1., 0., 0., 0., 0., 0., 0., 0., 0., 0., 0.])\n",
      "0\n",
      "tensor([1., 0., 0., 0., 0., 0., 0., 0., 0., 0., 0.])\n",
      "0\n",
      "tensor([1., 0., 0., 0., 0., 0., 0., 0., 0., 0., 0.])\n",
      "0\n",
      "tensor([1., 0., 0., 0., 0., 0., 0., 0., 0., 0., 0.])\n",
      "0\n",
      "tensor([1., 0., 0., 0., 0., 0., 0., 0., 0., 0., 0.])\n",
      "0\n",
      "tensor([1., 0., 0., 0., 0., 0., 0., 0., 0., 0., 0.])\n",
      "0\n",
      "tensor([1., 0., 0., 0., 0., 0., 0., 0., 0., 0., 0.])\n",
      "0\n",
      "tensor([1., 0., 0., 0., 0., 0., 0., 0., 0., 0., 0.])\n",
      "0\n",
      "tensor([1., 0., 0., 0., 0., 0., 0., 0., 0., 0., 0.])\n",
      "0\n",
      "tensor([1., 0., 0., 0., 0., 0., 0., 0., 0., 0., 0.])\n",
      "0\n",
      "tensor([1., 0., 0., 0., 0., 0., 0., 0., 0., 0., 0.])\n",
      "0\n",
      "tensor([1., 0., 0., 0., 0., 0., 0., 0., 0., 0., 0.])\n",
      "0\n",
      "tensor([1., 0., 0., 0., 0., 0., 0., 0., 0., 0., 0.])\n",
      "0\n",
      "tensor([1., 0., 0., 0., 0., 0., 0., 0., 0., 0., 0.])\n",
      "0\n",
      "tensor([1., 0., 0., 0., 0., 0., 0., 0., 0., 0., 0.])\n",
      "0\n",
      "tensor([1., 0., 0., 0., 0., 0., 0., 0., 0., 0., 0.])\n",
      "0\n",
      "tensor([1., 0., 0., 0., 0., 0., 0., 0., 0., 0., 0.])\n",
      "0\n",
      "tensor([1., 0., 0., 0., 0., 0., 0., 0., 0., 0., 0.])\n",
      "0\n",
      "tensor([1., 0., 0., 0., 0., 0., 0., 0., 0., 0., 0.])\n",
      "0\n",
      "tensor([1., 0., 0., 0., 0., 0., 0., 0., 0., 0., 0.])\n",
      "0\n",
      "tensor([1., 0., 0., 0., 0., 0., 0., 0., 0., 0., 0.])\n",
      "0\n",
      "tensor([1., 0., 0., 0., 0., 0., 0., 0., 0., 0., 0.])\n",
      "0\n",
      "tensor([1., 0., 0., 0., 0., 0., 0., 0., 0., 0., 0.])\n",
      "0\n",
      "tensor([1., 0., 0., 0., 0., 0., 0., 0., 0., 0., 0.])\n",
      "0\n",
      "tensor([1., 0., 0., 0., 0., 0., 0., 0., 0., 0., 0.])\n",
      "0\n",
      "tensor([1., 0., 0., 0., 0., 0., 0., 0., 0., 0., 0.])\n",
      "0\n",
      "tensor([1., 0., 0., 0., 0., 0., 0., 0., 0., 0., 0.])\n",
      "0\n",
      "tensor([1., 0., 0., 0., 0., 0., 0., 0., 0., 0., 0.])\n",
      "0\n",
      "tensor([1., 0., 0., 0., 0., 0., 0., 0., 0., 0., 0.])\n",
      "0\n",
      "tensor([1., 0., 0., 0., 0., 0., 0., 0., 0., 0., 0.])\n",
      "0\n",
      "tensor([1., 0., 0., 0., 0., 0., 0., 0., 0., 0., 0.])\n",
      "0\n",
      "tensor([1., 0., 0., 0., 0., 0., 0., 0., 0., 0., 0.])\n",
      "0\n",
      "tensor([1., 0., 0., 0., 0., 0., 0., 0., 0., 0., 0.])\n",
      "0\n",
      "tensor([1., 0., 0., 0., 0., 0., 0., 0., 0., 0., 0.])\n",
      "0\n",
      "tensor([1., 0., 0., 0., 0., 0., 0., 0., 0., 0., 0.])\n",
      "0\n",
      "tensor([1., 0., 0., 0., 0., 0., 0., 0., 0., 0., 0.])\n",
      "0\n",
      "tensor([1., 0., 0., 0., 0., 0., 0., 0., 0., 0., 0.])\n",
      "0\n",
      "tensor([1., 0., 0., 0., 0., 0., 0., 0., 0., 0., 0.])\n",
      "0\n",
      "tensor([1., 0., 0., 0., 0., 0., 0., 0., 0., 0., 0.])\n",
      "0\n",
      "tensor([1., 0., 0., 0., 0., 0., 0., 0., 0., 0., 0.])\n",
      "0\n",
      "tensor([1., 0., 0., 0., 0., 0., 0., 0., 0., 0., 0.])\n",
      "0\n",
      "tensor([1., 0., 0., 0., 0., 0., 0., 0., 0., 0., 0.])\n",
      "0\n",
      "tensor([1., 0., 0., 0., 0., 0., 0., 0., 0., 0., 0.])\n",
      "0\n",
      "tensor([1., 0., 0., 0., 0., 0., 0., 0., 0., 0., 0.])\n",
      "0\n",
      "tensor([1., 0., 0., 0., 0., 0., 0., 0., 0., 0., 0.])\n",
      "0\n",
      "tensor([1., 0., 0., 0., 0., 0., 0., 0., 0., 0., 0.])\n",
      "0\n",
      "tensor([1., 0., 0., 0., 0., 0., 0., 0., 0., 0., 0.])\n",
      "0\n",
      "tensor([1., 0., 0., 0., 0., 0., 0., 0., 0., 0., 0.])\n",
      "0\n",
      "tensor([1., 0., 0., 0., 0., 0., 0., 0., 0., 0., 0.])\n",
      "0\n",
      "tensor([1., 0., 0., 0., 0., 0., 0., 0., 0., 0., 0.])\n",
      "0\n",
      "tensor([1., 0., 0., 0., 0., 0., 0., 0., 0., 0., 0.])\n",
      "0\n",
      "tensor([1., 0., 0., 0., 0., 0., 0., 0., 0., 0., 0.])\n",
      "0\n",
      "tensor([1., 0., 0., 0., 0., 0., 0., 0., 0., 0., 0.])\n",
      "0\n",
      "tensor([1., 0., 0., 0., 0., 0., 0., 0., 0., 0., 0.])\n",
      "0\n",
      "tensor([1., 0., 0., 0., 0., 0., 0., 0., 0., 0., 0.])\n",
      "0\n",
      "tensor([1., 0., 0., 0., 0., 0., 0., 0., 0., 0., 0.])\n",
      "0\n",
      "tensor([1., 0., 0., 0., 0., 0., 0., 0., 0., 0., 0.])\n",
      "0\n",
      "tensor([1., 0., 0., 0., 0., 0., 0., 0., 0., 0., 0.])\n",
      "0\n",
      "tensor([1., 0., 0., 0., 0., 0., 0., 0., 0., 0., 0.])\n",
      "0\n",
      "tensor([1., 0., 0., 0., 0., 0., 0., 0., 0., 0., 0.])\n",
      "0\n",
      "tensor([1., 0., 0., 0., 0., 0., 0., 0., 0., 0., 0.])\n",
      "0\n",
      "tensor([1., 0., 0., 0., 0., 0., 0., 0., 0., 0., 0.])\n",
      "0\n",
      "tensor([1., 0., 0., 0., 0., 0., 0., 0., 0., 0., 0.])\n",
      "0\n",
      "tensor([1., 0., 0., 0., 0., 0., 0., 0., 0., 0., 0.])\n",
      "0\n",
      "tensor([1., 0., 0., 0., 0., 0., 0., 0., 0., 0., 0.])\n",
      "0\n",
      "tensor([1., 0., 0., 0., 0., 0., 0., 0., 0., 0., 0.])\n",
      "0\n",
      "tensor([1., 0., 0., 0., 0., 0., 0., 0., 0., 0., 0.])\n",
      "0\n",
      "tensor([1., 0., 0., 0., 0., 0., 0., 0., 0., 0., 0.])\n",
      "0\n",
      "tensor([1., 0., 0., 0., 0., 0., 0., 0., 0., 0., 0.])\n",
      "0\n",
      "tensor([1., 0., 0., 0., 0., 0., 0., 0., 0., 0., 0.])\n",
      "0\n",
      "tensor([1., 0., 0., 0., 0., 0., 0., 0., 0., 0., 0.])\n",
      "0\n",
      "tensor([1., 0., 0., 0., 0., 0., 0., 0., 0., 0., 0.])\n",
      "0\n",
      "tensor([1., 0., 0., 0., 0., 0., 0., 0., 0., 0., 0.])\n",
      "0\n",
      "tensor([1., 0., 0., 0., 0., 0., 0., 0., 0., 0., 0.])\n",
      "0\n",
      "tensor([1., 0., 0., 0., 0., 0., 0., 0., 0., 0., 0.])\n",
      "0\n",
      "tensor([1., 0., 0., 0., 0., 0., 0., 0., 0., 0., 0.])\n",
      "0\n",
      "tensor([1., 0., 0., 0., 0., 0., 0., 0., 0., 0., 0.])\n",
      "0\n",
      "tensor([1., 0., 0., 0., 0., 0., 0., 0., 0., 0., 0.])\n",
      "0\n",
      "tensor([1., 0., 0., 0., 0., 0., 0., 0., 0., 0., 0.])\n",
      "0\n",
      "tensor([1., 0., 0., 0., 0., 0., 0., 0., 0., 0., 0.])\n",
      "0\n",
      "tensor([1., 0., 0., 0., 0., 0., 0., 0., 0., 0., 0.])\n",
      "0\n",
      "tensor([1., 0., 0., 0., 0., 0., 0., 0., 0., 0., 0.])\n",
      "0\n",
      "tensor([1., 0., 0., 0., 0., 0., 0., 0., 0., 0., 0.])\n",
      "0\n",
      "tensor([1., 0., 0., 0., 0., 0., 0., 0., 0., 0., 0.])\n",
      "0\n",
      "tensor([1., 0., 0., 0., 0., 0., 0., 0., 0., 0., 0.])\n",
      "0\n",
      "tensor([1., 0., 0., 0., 0., 0., 0., 0., 0., 0., 0.])\n",
      "0\n",
      "tensor([1., 0., 0., 0., 0., 0., 0., 0., 0., 0., 0.])\n",
      "0\n",
      "tensor([1., 0., 0., 0., 0., 0., 0., 0., 0., 0., 0.])\n",
      "0\n",
      "tensor([1., 0., 0., 0., 0., 0., 0., 0., 0., 0., 0.])\n",
      "0\n",
      "tensor([1., 0., 0., 0., 0., 0., 0., 0., 0., 0., 0.])\n",
      "0\n",
      "tensor([1., 0., 0., 0., 0., 0., 0., 0., 0., 0., 0.])\n",
      "0\n",
      "tensor([1., 0., 0., 0., 0., 0., 0., 0., 0., 0., 0.])\n",
      "0\n",
      "tensor([1., 0., 0., 0., 0., 0., 0., 0., 0., 0., 0.])\n",
      "0\n",
      "tensor([1., 0., 0., 0., 0., 0., 0., 0., 0., 0., 0.])\n",
      "0\n",
      "tensor([1., 0., 0., 0., 0., 0., 0., 0., 0., 0., 0.])\n",
      "0\n",
      "tensor([1., 0., 0., 0., 0., 0., 0., 0., 0., 0., 0.])\n",
      "0\n",
      "tensor([1., 0., 0., 0., 0., 0., 0., 0., 0., 0., 0.])\n",
      "0\n",
      "tensor([1., 0., 0., 0., 0., 0., 0., 0., 0., 0., 0.])\n",
      "0\n",
      "tensor([1., 0., 0., 0., 0., 0., 0., 0., 0., 0., 0.])\n",
      "0\n",
      "tensor([1., 0., 0., 0., 0., 0., 0., 0., 0., 0., 0.])\n",
      "0\n",
      "tensor([1., 0., 0., 0., 0., 0., 0., 0., 0., 0., 0.])\n",
      "0\n",
      "tensor([1., 0., 0., 0., 0., 0., 0., 0., 0., 0., 0.])\n",
      "0\n",
      "tensor([1., 0., 0., 0., 0., 0., 0., 0., 0., 0., 0.])\n",
      "0\n",
      "tensor([1., 0., 0., 0., 0., 0., 0., 0., 0., 0., 0.])\n",
      "0\n",
      "tensor([1., 0., 0., 0., 0., 0., 0., 0., 0., 0., 0.])\n",
      "0\n",
      "tensor([1., 0., 0., 0., 0., 0., 0., 0., 0., 0., 0.])\n",
      "0\n",
      "tensor([1., 0., 0., 0., 0., 0., 0., 0., 0., 0., 0.])\n",
      "0\n",
      "tensor([1., 0., 0., 0., 0., 0., 0., 0., 0., 0., 0.])\n",
      "0\n",
      "tensor([1., 0., 0., 0., 0., 0., 0., 0., 0., 0., 0.])\n",
      "0\n",
      "tensor([1., 0., 0., 0., 0., 0., 0., 0., 0., 0., 0.])\n",
      "0\n",
      "tensor([1., 0., 0., 0., 0., 0., 0., 0., 0., 0., 0.])\n",
      "0\n",
      "tensor([1., 0., 0., 0., 0., 0., 0., 0., 0., 0., 0.])\n",
      "0\n",
      "tensor([1., 0., 0., 0., 0., 0., 0., 0., 0., 0., 0.])\n",
      "0\n",
      "tensor([1., 0., 0., 0., 0., 0., 0., 0., 0., 0., 0.])\n",
      "0\n",
      "tensor([1., 0., 0., 0., 0., 0., 0., 0., 0., 0., 0.])\n",
      "0\n",
      "tensor([1., 0., 0., 0., 0., 0., 0., 0., 0., 0., 0.])\n",
      "0\n",
      "tensor([1., 0., 0., 0., 0., 0., 0., 0., 0., 0., 0.])\n",
      "0\n",
      "tensor([1., 0., 0., 0., 0., 0., 0., 0., 0., 0., 0.])\n",
      "0\n",
      "tensor([1., 0., 0., 0., 0., 0., 0., 0., 0., 0., 0.])\n",
      "0\n",
      "tensor([1., 0., 0., 0., 0., 0., 0., 0., 0., 0., 0.])\n",
      "0\n",
      "tensor([1., 0., 0., 0., 0., 0., 0., 0., 0., 0., 0.])\n",
      "0\n",
      "tensor([1., 0., 0., 0., 0., 0., 0., 0., 0., 0., 0.])\n",
      "0\n",
      "tensor([1., 0., 0., 0., 0., 0., 0., 0., 0., 0., 0.])\n",
      "0\n",
      "tensor([1., 0., 0., 0., 0., 0., 0., 0., 0., 0., 0.])\n",
      "0\n",
      "tensor([1., 0., 0., 0., 0., 0., 0., 0., 0., 0., 0.])\n",
      "0\n",
      "tensor([1., 0., 0., 0., 0., 0., 0., 0., 0., 0., 0.])\n",
      "0\n",
      "tensor([1., 0., 0., 0., 0., 0., 0., 0., 0., 0., 0.])\n",
      "0\n",
      "tensor([0., 0., 1., 0., 0., 0., 0., 0., 0., 0., 0.])\n",
      "2\n",
      "tensor([0., 0., 1., 0., 0., 0., 0., 0., 0., 0., 0.])\n",
      "2\n",
      "tensor([1., 0., 0., 0., 0., 0., 0., 0., 0., 0., 0.])\n",
      "0\n",
      "tensor([1., 0., 0., 0., 0., 0., 0., 0., 0., 0., 0.])\n",
      "0\n",
      "tensor([1., 0., 0., 0., 0., 0., 0., 0., 0., 0., 0.])\n",
      "0\n",
      "tensor([1., 0., 0., 0., 0., 0., 0., 0., 0., 0., 0.])\n",
      "0\n",
      "tensor([1., 0., 0., 0., 0., 0., 0., 0., 0., 0., 0.])\n",
      "0\n",
      "tensor([0., 0., 1., 0., 0., 0., 0., 0., 0., 0., 0.])\n",
      "2\n",
      "tensor([0., 0., 0., 0., 0., 0., 1., 0., 0., 0., 0.])\n",
      "6\n",
      "tensor([0., 0., 1., 0., 0., 0., 0., 0., 0., 0., 0.])\n",
      "2\n",
      "tensor([0., 0., 1., 0., 0., 0., 0., 0., 0., 0., 0.])\n",
      "2\n",
      "tensor([0., 0., 1., 0., 0., 0., 0., 0., 0., 0., 0.])\n",
      "2\n",
      "tensor([0., 0., 1., 0., 0., 0., 0., 0., 0., 0., 0.])\n",
      "2\n",
      "tensor([1., 0., 0., 0., 0., 0., 0., 0., 0., 0., 0.])\n",
      "0\n",
      "tensor([0., 0., 1., 0., 0., 0., 0., 0., 0., 0., 0.])\n",
      "2\n",
      "tensor([0., 1., 0., 0., 0., 0., 0., 0., 0., 0., 0.])\n",
      "1\n",
      "tensor([0., 0., 1., 0., 0., 0., 0., 0., 0., 0., 0.])\n",
      "2\n",
      "tensor([0., 1., 0., 0., 0., 0., 0., 0., 0., 0., 0.])\n",
      "1\n",
      "tensor([0., 1., 0., 0., 0., 0., 0., 0., 0., 0., 0.])\n",
      "1\n",
      "tensor([0., 0., 0., 0., 0., 1., 0., 0., 0., 0., 0.])\n",
      "5\n",
      "tensor([1., 0., 0., 0., 0., 0., 0., 0., 0., 0., 0.])\n",
      "0\n",
      "tensor([0., 0., 1., 0., 0., 0., 0., 0., 0., 0., 0.])\n",
      "2\n",
      "tensor([0., 1., 0., 0., 0., 0., 0., 0., 0., 0., 0.])\n",
      "1\n",
      "tensor([0., 1., 0., 0., 0., 0., 0., 0., 0., 0., 0.])\n",
      "1\n",
      "tensor([0., 1., 0., 0., 0., 0., 0., 0., 0., 0., 0.])\n",
      "1\n",
      "tensor([0., 1., 0., 0., 0., 0., 0., 0., 0., 0., 0.])\n",
      "1\n",
      "tensor([0., 1., 0., 0., 0., 0., 0., 0., 0., 0., 0.])\n",
      "1\n",
      "tensor([1., 0., 0., 0., 0., 0., 0., 0., 0., 0., 0.])\n",
      "0\n",
      "tensor([0., 0., 1., 0., 0., 0., 0., 0., 0., 0., 0.])\n",
      "2\n",
      "tensor([0., 1., 0., 0., 0., 0., 0., 0., 0., 0., 0.])\n",
      "1\n",
      "tensor([0., 0., 1., 0., 0., 0., 0., 0., 0., 0., 0.])\n",
      "2\n",
      "tensor([0., 1., 0., 0., 0., 0., 0., 0., 0., 0., 0.])\n",
      "1\n",
      "tensor([0., 1., 0., 0., 0., 0., 0., 0., 0., 0., 0.])\n",
      "1\n",
      "tensor([0., 1., 0., 0., 0., 0., 0., 0., 0., 0., 0.])\n",
      "1\n",
      "tensor([1., 0., 0., 0., 0., 0., 0., 0., 0., 0., 0.])\n",
      "0\n",
      "tensor([0., 0., 1., 0., 0., 0., 0., 0., 0., 0., 0.])\n",
      "2\n",
      "tensor([0., 0., 0., 0., 0., 1., 0., 0., 0., 0., 0.])\n",
      "5\n",
      "tensor([0., 0., 1., 0., 0., 0., 0., 0., 0., 0., 0.])\n",
      "2\n",
      "tensor([0., 0., 1., 0., 0., 0., 0., 0., 0., 0., 0.])\n",
      "2\n",
      "tensor([0., 0., 1., 0., 0., 0., 0., 0., 0., 0., 0.])\n",
      "2\n",
      "tensor([0., 0., 1., 0., 0., 0., 0., 0., 0., 0., 0.])\n",
      "2\n",
      "tensor([1., 0., 0., 0., 0., 0., 0., 0., 0., 0., 0.])\n",
      "0\n",
      "tensor([0., 0., 1., 0., 0., 0., 0., 0., 0., 0., 0.])\n",
      "2\n",
      "tensor([0., 0., 1., 0., 0., 0., 0., 0., 0., 0., 0.])\n",
      "2\n",
      "tensor([1., 0., 0., 0., 0., 0., 0., 0., 0., 0., 0.])\n",
      "0\n",
      "tensor([1., 0., 0., 0., 0., 0., 0., 0., 0., 0., 0.])\n",
      "0\n",
      "tensor([1., 0., 0., 0., 0., 0., 0., 0., 0., 0., 0.])\n",
      "0\n",
      "tensor([1., 0., 0., 0., 0., 0., 0., 0., 0., 0., 0.])\n",
      "0\n",
      "tensor([1., 0., 0., 0., 0., 0., 0., 0., 0., 0., 0.])\n",
      "0\n",
      "tensor([1., 0., 0., 0., 0., 0., 0., 0., 0., 0., 0.])\n",
      "0\n",
      "tensor([0., 0., 1., 0., 0., 0., 0., 0., 0., 0., 0.])\n",
      "2\n",
      "tensor([0., 0., 1., 0., 0., 0., 0., 0., 0., 0., 0.])\n",
      "2\n",
      "tensor([1., 0., 0., 0., 0., 0., 0., 0., 0., 0., 0.])\n",
      "0\n",
      "tensor([1., 0., 0., 0., 0., 0., 0., 0., 0., 0., 0.])\n",
      "0\n",
      "tensor([1., 0., 0., 0., 0., 0., 0., 0., 0., 0., 0.])\n",
      "0\n",
      "tensor([1., 0., 0., 0., 0., 0., 0., 0., 0., 0., 0.])\n",
      "0\n",
      "tensor([1., 0., 0., 0., 0., 0., 0., 0., 0., 0., 0.])\n",
      "0\n",
      "tensor([0., 0., 1., 0., 0., 0., 0., 0., 0., 0., 0.])\n",
      "2\n",
      "tensor([0., 0., 0., 0., 0., 0., 1., 0., 0., 0., 0.])\n",
      "6\n",
      "tensor([0., 0., 1., 0., 0., 0., 0., 0., 0., 0., 0.])\n",
      "2\n",
      "tensor([0., 0., 1., 0., 0., 0., 0., 0., 0., 0., 0.])\n",
      "2\n",
      "tensor([0., 0., 1., 0., 0., 0., 0., 0., 0., 0., 0.])\n",
      "2\n",
      "tensor([1., 0., 0., 0., 0., 0., 0., 0., 0., 0., 0.])\n",
      "0\n",
      "tensor([1., 0., 0., 0., 0., 0., 0., 0., 0., 0., 0.])\n",
      "0\n",
      "tensor([0., 0., 1., 0., 0., 0., 0., 0., 0., 0., 0.])\n",
      "2\n",
      "tensor([0., 1., 0., 0., 0., 0., 0., 0., 0., 0., 0.])\n",
      "1\n",
      "tensor([0., 0., 1., 0., 0., 0., 0., 0., 0., 0., 0.])\n",
      "2\n",
      "tensor([0., 1., 0., 0., 0., 0., 0., 0., 0., 0., 0.])\n",
      "1\n",
      "tensor([0., 1., 0., 0., 0., 0., 0., 0., 0., 0., 0.])\n",
      "1\n",
      "tensor([1., 0., 0., 0., 0., 0., 0., 0., 0., 0., 0.])\n",
      "0\n",
      "tensor([1., 0., 0., 0., 0., 0., 0., 0., 0., 0., 0.])\n",
      "0\n",
      "tensor([0., 0., 1., 0., 0., 0., 0., 0., 0., 0., 0.])\n",
      "2\n",
      "tensor([0., 1., 0., 0., 0., 0., 0., 0., 0., 0., 0.])\n",
      "1\n",
      "tensor([0., 1., 0., 0., 0., 0., 0., 0., 0., 0., 0.])\n",
      "1\n",
      "tensor([0., 1., 0., 0., 0., 0., 0., 0., 0., 0., 0.])\n",
      "1\n",
      "tensor([0., 1., 0., 0., 0., 0., 0., 0., 0., 0., 0.])\n",
      "1\n",
      "tensor([1., 0., 0., 0., 0., 0., 0., 0., 0., 0., 0.])\n",
      "0\n",
      "tensor([1., 0., 0., 0., 0., 0., 0., 0., 0., 0., 0.])\n",
      "0\n",
      "tensor([0., 0., 1., 0., 0., 0., 0., 0., 0., 0., 0.])\n",
      "2\n",
      "tensor([0., 1., 0., 0., 0., 0., 0., 0., 0., 0., 0.])\n",
      "1\n",
      "tensor([0., 0., 1., 0., 0., 0., 0., 0., 0., 0., 0.])\n",
      "2\n",
      "tensor([0., 1., 0., 0., 0., 0., 0., 0., 0., 0., 0.])\n",
      "1\n",
      "tensor([0., 1., 0., 0., 0., 0., 0., 0., 0., 0., 0.])\n",
      "1\n",
      "tensor([1., 0., 0., 0., 0., 0., 0., 0., 0., 0., 0.])\n",
      "0\n",
      "tensor([1., 0., 0., 0., 0., 0., 0., 0., 0., 0., 0.])\n",
      "0\n",
      "tensor([0., 0., 1., 0., 0., 0., 0., 0., 0., 0., 0.])\n",
      "2\n",
      "tensor([0., 0., 0., 0., 0., 1., 0., 0., 0., 0., 0.])\n",
      "5\n",
      "tensor([0., 0., 1., 0., 0., 0., 0., 0., 0., 0., 0.])\n",
      "2\n",
      "tensor([0., 0., 1., 0., 0., 0., 0., 0., 0., 0., 0.])\n",
      "2\n",
      "tensor([0., 0., 1., 0., 0., 0., 0., 0., 0., 0., 0.])\n",
      "2\n",
      "tensor([1., 0., 0., 0., 0., 0., 0., 0., 0., 0., 0.])\n",
      "0\n",
      "tensor([1., 0., 0., 0., 0., 0., 0., 0., 0., 0., 0.])\n",
      "0\n",
      "tensor([0., 0., 1., 0., 0., 0., 0., 0., 0., 0., 0.])\n",
      "2\n",
      "tensor([0., 0., 1., 0., 0., 0., 0., 0., 0., 0., 0.])\n",
      "2\n",
      "tensor([1., 0., 0., 0., 0., 0., 0., 0., 0., 0., 0.])\n",
      "0\n",
      "tensor([1., 0., 0., 0., 0., 0., 0., 0., 0., 0., 0.])\n",
      "0\n",
      "tensor([1., 0., 0., 0., 0., 0., 0., 0., 0., 0., 0.])\n",
      "0\n",
      "tensor([1., 0., 0., 0., 0., 0., 0., 0., 0., 0., 0.])\n",
      "0\n",
      "tensor([1., 0., 0., 0., 0., 0., 0., 0., 0., 0., 0.])\n",
      "0\n",
      "tensor([1., 0., 0., 0., 0., 0., 0., 0., 0., 0., 0.])\n",
      "0\n",
      "tensor([0., 0., 1., 0., 0., 0., 0., 0., 0., 0., 0.])\n",
      "2\n",
      "tensor([0., 0., 1., 0., 0., 0., 0., 0., 0., 0., 0.])\n",
      "2\n",
      "tensor([1., 0., 0., 0., 0., 0., 0., 0., 0., 0., 0.])\n",
      "0\n",
      "tensor([1., 0., 0., 0., 0., 0., 0., 0., 0., 0., 0.])\n",
      "0\n",
      "tensor([1., 0., 0., 0., 0., 0., 0., 0., 0., 0., 0.])\n",
      "0\n",
      "tensor([1., 0., 0., 0., 0., 0., 0., 0., 0., 0., 0.])\n",
      "0\n",
      "tensor([1., 0., 0., 0., 0., 0., 0., 0., 0., 0., 0.])\n",
      "0\n",
      "tensor([0., 0., 1., 0., 0., 0., 0., 0., 0., 0., 0.])\n",
      "2\n",
      "tensor([0., 0., 0., 0., 0., 0., 1., 0., 0., 0., 0.])\n",
      "6\n",
      "tensor([0., 0., 1., 0., 0., 0., 0., 0., 0., 0., 0.])\n",
      "2\n",
      "tensor([0., 0., 1., 0., 0., 0., 0., 0., 0., 0., 0.])\n",
      "2\n",
      "tensor([1., 0., 0., 0., 0., 0., 0., 0., 0., 0., 0.])\n",
      "0\n",
      "tensor([1., 0., 0., 0., 0., 0., 0., 0., 0., 0., 0.])\n",
      "0\n",
      "tensor([1., 0., 0., 0., 0., 0., 0., 0., 0., 0., 0.])\n",
      "0\n",
      "tensor([0., 0., 1., 0., 0., 0., 0., 0., 0., 0., 0.])\n",
      "2\n",
      "tensor([0., 1., 0., 0., 0., 0., 0., 0., 0., 0., 0.])\n",
      "1\n",
      "tensor([0., 0., 1., 0., 0., 0., 0., 0., 0., 0., 0.])\n",
      "2\n",
      "tensor([0., 1., 0., 0., 0., 0., 0., 0., 0., 0., 0.])\n",
      "1\n",
      "tensor([1., 0., 0., 0., 0., 0., 0., 0., 0., 0., 0.])\n",
      "0\n",
      "tensor([1., 0., 0., 0., 0., 0., 0., 0., 0., 0., 0.])\n",
      "0\n",
      "tensor([1., 0., 0., 0., 0., 0., 0., 0., 0., 0., 0.])\n",
      "0\n",
      "tensor([0., 0., 1., 0., 0., 0., 0., 0., 0., 0., 0.])\n",
      "2\n",
      "tensor([0., 1., 0., 0., 0., 0., 0., 0., 0., 0., 0.])\n",
      "1\n",
      "tensor([0., 1., 0., 0., 0., 0., 0., 0., 0., 0., 0.])\n",
      "1\n",
      "tensor([0., 1., 0., 0., 0., 0., 0., 0., 0., 0., 0.])\n",
      "1\n",
      "tensor([1., 0., 0., 0., 0., 0., 0., 0., 0., 0., 0.])\n",
      "0\n",
      "tensor([1., 0., 0., 0., 0., 0., 0., 0., 0., 0., 0.])\n",
      "0\n",
      "tensor([1., 0., 0., 0., 0., 0., 0., 0., 0., 0., 0.])\n",
      "0\n",
      "tensor([0., 0., 1., 0., 0., 0., 0., 0., 0., 0., 0.])\n",
      "2\n",
      "tensor([0., 1., 0., 0., 0., 0., 0., 0., 0., 0., 0.])\n",
      "1\n",
      "tensor([0., 0., 1., 0., 0., 0., 0., 0., 0., 0., 0.])\n",
      "2\n",
      "tensor([0., 1., 0., 0., 0., 0., 0., 0., 0., 0., 0.])\n",
      "1\n",
      "tensor([1., 0., 0., 0., 0., 0., 0., 0., 0., 0., 0.])\n",
      "0\n",
      "tensor([1., 0., 0., 0., 0., 0., 0., 0., 0., 0., 0.])\n",
      "0\n",
      "tensor([1., 0., 0., 0., 0., 0., 0., 0., 0., 0., 0.])\n",
      "0\n",
      "tensor([0., 0., 1., 0., 0., 0., 0., 0., 0., 0., 0.])\n",
      "2\n",
      "tensor([0., 0., 0., 0., 0., 1., 0., 0., 0., 0., 0.])\n",
      "5\n",
      "tensor([0., 0., 1., 0., 0., 0., 0., 0., 0., 0., 0.])\n",
      "2\n",
      "tensor([0., 0., 1., 0., 0., 0., 0., 0., 0., 0., 0.])\n",
      "2\n",
      "tensor([1., 0., 0., 0., 0., 0., 0., 0., 0., 0., 0.])\n",
      "0\n",
      "tensor([1., 0., 0., 0., 0., 0., 0., 0., 0., 0., 0.])\n",
      "0\n",
      "tensor([1., 0., 0., 0., 0., 0., 0., 0., 0., 0., 0.])\n",
      "0\n",
      "tensor([0., 0., 1., 0., 0., 0., 0., 0., 0., 0., 0.])\n",
      "2\n",
      "tensor([0., 0., 1., 0., 0., 0., 0., 0., 0., 0., 0.])\n",
      "2\n",
      "tensor([1., 0., 0., 0., 0., 0., 0., 0., 0., 0., 0.])\n",
      "0\n",
      "tensor([1., 0., 0., 0., 0., 0., 0., 0., 0., 0., 0.])\n",
      "0\n",
      "tensor([1., 0., 0., 0., 0., 0., 0., 0., 0., 0., 0.])\n",
      "0\n",
      "tensor([1., 0., 0., 0., 0., 0., 0., 0., 0., 0., 0.])\n",
      "0\n",
      "tensor([1., 0., 0., 0., 0., 0., 0., 0., 0., 0., 0.])\n",
      "0\n",
      "tensor([1., 0., 0., 0., 0., 0., 0., 0., 0., 0., 0.])\n",
      "0\n",
      "tensor([0., 0., 1., 0., 0., 0., 0., 0., 0., 0., 0.])\n",
      "2\n",
      "tensor([0., 0., 1., 0., 0., 0., 0., 0., 0., 0., 0.])\n",
      "2\n",
      "tensor([1., 0., 0., 0., 0., 0., 0., 0., 0., 0., 0.])\n",
      "0\n",
      "tensor([1., 0., 0., 0., 0., 0., 0., 0., 0., 0., 0.])\n",
      "0\n",
      "tensor([1., 0., 0., 0., 0., 0., 0., 0., 0., 0., 0.])\n",
      "0\n",
      "tensor([1., 0., 0., 0., 0., 0., 0., 0., 0., 0., 0.])\n",
      "0\n",
      "tensor([1., 0., 0., 0., 0., 0., 0., 0., 0., 0., 0.])\n",
      "0\n",
      "tensor([0., 0., 1., 0., 0., 0., 0., 0., 0., 0., 0.])\n",
      "2\n",
      "tensor([0., 0., 0., 0., 0., 0., 1., 0., 0., 0., 0.])\n",
      "6\n",
      "tensor([1., 0., 0., 0., 0., 0., 0., 0., 0., 0., 0.])\n",
      "0\n",
      "tensor([1., 0., 0., 0., 0., 0., 0., 0., 0., 0., 0.])\n",
      "0\n",
      "tensor([1., 0., 0., 0., 0., 0., 0., 0., 0., 0., 0.])\n",
      "0\n",
      "tensor([1., 0., 0., 0., 0., 0., 0., 0., 0., 0., 0.])\n",
      "0\n",
      "tensor([1., 0., 0., 0., 0., 0., 0., 0., 0., 0., 0.])\n",
      "0\n",
      "tensor([0., 0., 1., 0., 0., 0., 0., 0., 0., 0., 0.])\n",
      "2\n",
      "tensor([0., 1., 0., 0., 0., 0., 0., 0., 0., 0., 0.])\n",
      "1\n",
      "tensor([0., 0., 1., 0., 0., 0., 0., 0., 0., 0., 0.])\n",
      "2\n",
      "tensor([1., 0., 0., 0., 0., 0., 0., 0., 0., 0., 0.])\n",
      "0\n",
      "tensor([1., 0., 0., 0., 0., 0., 0., 0., 0., 0., 0.])\n",
      "0\n",
      "tensor([1., 0., 0., 0., 0., 0., 0., 0., 0., 0., 0.])\n",
      "0\n",
      "tensor([1., 0., 0., 0., 0., 0., 0., 0., 0., 0., 0.])\n",
      "0\n",
      "tensor([0., 0., 1., 0., 0., 0., 0., 0., 0., 0., 0.])\n",
      "2\n",
      "tensor([0., 1., 0., 0., 0., 0., 0., 0., 0., 0., 0.])\n",
      "1\n",
      "tensor([0., 1., 0., 0., 0., 0., 0., 0., 0., 0., 0.])\n",
      "1\n",
      "tensor([1., 0., 0., 0., 0., 0., 0., 0., 0., 0., 0.])\n",
      "0\n",
      "tensor([1., 0., 0., 0., 0., 0., 0., 0., 0., 0., 0.])\n",
      "0\n",
      "tensor([1., 0., 0., 0., 0., 0., 0., 0., 0., 0., 0.])\n",
      "0\n",
      "tensor([1., 0., 0., 0., 0., 0., 0., 0., 0., 0., 0.])\n",
      "0\n",
      "tensor([0., 0., 1., 0., 0., 0., 0., 0., 0., 0., 0.])\n",
      "2\n",
      "tensor([0., 1., 0., 0., 0., 0., 0., 0., 0., 0., 0.])\n",
      "1\n",
      "tensor([0., 0., 1., 0., 0., 0., 0., 0., 0., 0., 0.])\n",
      "2\n",
      "tensor([1., 0., 0., 0., 0., 0., 0., 0., 0., 0., 0.])\n",
      "0\n",
      "tensor([1., 0., 0., 0., 0., 0., 0., 0., 0., 0., 0.])\n",
      "0\n",
      "tensor([1., 0., 0., 0., 0., 0., 0., 0., 0., 0., 0.])\n",
      "0\n",
      "tensor([1., 0., 0., 0., 0., 0., 0., 0., 0., 0., 0.])\n",
      "0\n",
      "tensor([0., 0., 1., 0., 0., 0., 0., 0., 0., 0., 0.])\n",
      "2\n",
      "tensor([0., 0., 0., 0., 0., 1., 0., 0., 0., 0., 0.])\n",
      "5\n",
      "tensor([1., 0., 0., 0., 0., 0., 0., 0., 0., 0., 0.])\n",
      "0\n",
      "tensor([1., 0., 0., 0., 0., 0., 0., 0., 0., 0., 0.])\n",
      "0\n",
      "tensor([1., 0., 0., 0., 0., 0., 0., 0., 0., 0., 0.])\n",
      "0\n",
      "tensor([1., 0., 0., 0., 0., 0., 0., 0., 0., 0., 0.])\n",
      "0\n",
      "tensor([1., 0., 0., 0., 0., 0., 0., 0., 0., 0., 0.])\n",
      "0\n",
      "tensor([0., 0., 1., 0., 0., 0., 0., 0., 0., 0., 0.])\n",
      "2\n",
      "tensor([0., 0., 1., 0., 0., 0., 0., 0., 0., 0., 0.])\n",
      "2\n",
      "tensor([1., 0., 0., 0., 0., 0., 0., 0., 0., 0., 0.])\n",
      "0\n",
      "tensor([1., 0., 0., 0., 0., 0., 0., 0., 0., 0., 0.])\n",
      "0\n",
      "tensor([1., 0., 0., 0., 0., 0., 0., 0., 0., 0., 0.])\n",
      "0\n",
      "tensor([1., 0., 0., 0., 0., 0., 0., 0., 0., 0., 0.])\n",
      "0\n",
      "tensor([1., 0., 0., 0., 0., 0., 0., 0., 0., 0., 0.])\n",
      "0\n",
      "tensor([1., 0., 0., 0., 0., 0., 0., 0., 0., 0., 0.])\n",
      "0\n",
      "tensor([0., 0., 1., 0., 0., 0., 0., 0., 0., 0., 0.])\n",
      "2\n",
      "tensor([0., 0., 1., 0., 0., 0., 0., 0., 0., 0., 0.])\n",
      "2\n",
      "tensor([1., 0., 0., 0., 0., 0., 0., 0., 0., 0., 0.])\n",
      "0\n",
      "tensor([1., 0., 0., 0., 0., 0., 0., 0., 0., 0., 0.])\n",
      "0\n",
      "tensor([1., 0., 0., 0., 0., 0., 0., 0., 0., 0., 0.])\n",
      "0\n",
      "tensor([1., 0., 0., 0., 0., 0., 0., 0., 0., 0., 0.])\n",
      "0\n",
      "tensor([1., 0., 0., 0., 0., 0., 0., 0., 0., 0., 0.])\n",
      "0\n",
      "tensor([0., 0., 1., 0., 0., 0., 0., 0., 0., 0., 0.])\n",
      "2\n",
      "tensor([0., 0., 0., 0., 0., 0., 1., 0., 0., 0., 0.])\n",
      "6\n",
      "tensor([1., 0., 0., 0., 0., 0., 0., 0., 0., 0., 0.])\n",
      "0\n",
      "tensor([1., 0., 0., 0., 0., 0., 0., 0., 0., 0., 0.])\n",
      "0\n",
      "tensor([1., 0., 0., 0., 0., 0., 0., 0., 0., 0., 0.])\n",
      "0\n",
      "tensor([1., 0., 0., 0., 0., 0., 0., 0., 0., 0., 0.])\n",
      "0\n",
      "tensor([1., 0., 0., 0., 0., 0., 0., 0., 0., 0., 0.])\n",
      "0\n",
      "tensor([0., 0., 1., 0., 0., 0., 0., 0., 0., 0., 0.])\n",
      "2\n",
      "tensor([0., 1., 0., 0., 0., 0., 0., 0., 0., 0., 0.])\n",
      "1\n",
      "tensor([1., 0., 0., 0., 0., 0., 0., 0., 0., 0., 0.])\n",
      "0\n",
      "tensor([1., 0., 0., 0., 0., 0., 0., 0., 0., 0., 0.])\n",
      "0\n",
      "tensor([1., 0., 0., 0., 0., 0., 0., 0., 0., 0., 0.])\n",
      "0\n",
      "tensor([1., 0., 0., 0., 0., 0., 0., 0., 0., 0., 0.])\n",
      "0\n",
      "tensor([1., 0., 0., 0., 0., 0., 0., 0., 0., 0., 0.])\n",
      "0\n",
      "tensor([0., 0., 1., 0., 0., 0., 0., 0., 0., 0., 0.])\n",
      "2\n",
      "tensor([0., 1., 0., 0., 0., 0., 0., 0., 0., 0., 0.])\n",
      "1\n",
      "tensor([1., 0., 0., 0., 0., 0., 0., 0., 0., 0., 0.])\n",
      "0\n",
      "tensor([1., 0., 0., 0., 0., 0., 0., 0., 0., 0., 0.])\n",
      "0\n",
      "tensor([1., 0., 0., 0., 0., 0., 0., 0., 0., 0., 0.])\n",
      "0\n",
      "tensor([1., 0., 0., 0., 0., 0., 0., 0., 0., 0., 0.])\n",
      "0\n",
      "tensor([1., 0., 0., 0., 0., 0., 0., 0., 0., 0., 0.])\n",
      "0\n",
      "tensor([0., 0., 1., 0., 0., 0., 0., 0., 0., 0., 0.])\n",
      "2\n",
      "tensor([0., 1., 0., 0., 0., 0., 0., 0., 0., 0., 0.])\n",
      "1\n",
      "tensor([1., 0., 0., 0., 0., 0., 0., 0., 0., 0., 0.])\n",
      "0\n",
      "tensor([1., 0., 0., 0., 0., 0., 0., 0., 0., 0., 0.])\n",
      "0\n",
      "tensor([1., 0., 0., 0., 0., 0., 0., 0., 0., 0., 0.])\n",
      "0\n",
      "tensor([1., 0., 0., 0., 0., 0., 0., 0., 0., 0., 0.])\n",
      "0\n",
      "tensor([1., 0., 0., 0., 0., 0., 0., 0., 0., 0., 0.])\n",
      "0\n",
      "tensor([0., 0., 1., 0., 0., 0., 0., 0., 0., 0., 0.])\n",
      "2\n",
      "tensor([0., 0., 0., 0., 0., 1., 0., 0., 0., 0., 0.])\n",
      "5\n",
      "tensor([1., 0., 0., 0., 0., 0., 0., 0., 0., 0., 0.])\n",
      "0\n",
      "tensor([1., 0., 0., 0., 0., 0., 0., 0., 0., 0., 0.])\n",
      "0\n",
      "tensor([1., 0., 0., 0., 0., 0., 0., 0., 0., 0., 0.])\n",
      "0\n",
      "tensor([1., 0., 0., 0., 0., 0., 0., 0., 0., 0., 0.])\n",
      "0\n",
      "tensor([1., 0., 0., 0., 0., 0., 0., 0., 0., 0., 0.])\n",
      "0\n",
      "tensor([0., 0., 1., 0., 0., 0., 0., 0., 0., 0., 0.])\n",
      "2\n",
      "tensor([0., 0., 1., 0., 0., 0., 0., 0., 0., 0., 0.])\n",
      "2\n",
      "tensor([1., 0., 0., 0., 0., 0., 0., 0., 0., 0., 0.])\n",
      "0\n",
      "tensor([1., 0., 0., 0., 0., 0., 0., 0., 0., 0., 0.])\n",
      "0\n",
      "tensor([1., 0., 0., 0., 0., 0., 0., 0., 0., 0., 0.])\n",
      "0\n",
      "tensor([1., 0., 0., 0., 0., 0., 0., 0., 0., 0., 0.])\n",
      "0\n",
      "tensor([0., 0., 1., 0., 0., 0., 0., 0., 0., 0., 0.])\n",
      "2\n",
      "tensor([0., 1., 0., 0., 0., 0., 0., 0., 0., 0., 0.])\n",
      "1\n",
      "tensor([0., 1., 0., 0., 0., 0., 0., 0., 0., 0., 0.])\n",
      "1\n",
      "tensor([1., 0., 0., 0., 0., 0., 0., 0., 0., 0., 0.])\n",
      "0\n",
      "tensor([1., 0., 0., 0., 0., 0., 0., 0., 0., 0., 0.])\n",
      "0\n",
      "tensor([1., 0., 0., 0., 0., 0., 0., 0., 0., 0., 0.])\n",
      "0\n",
      "tensor([1., 0., 0., 0., 0., 0., 0., 0., 0., 0., 0.])\n",
      "0\n",
      "tensor([0., 0., 1., 0., 0., 0., 0., 0., 0., 0., 0.])\n",
      "2\n",
      "tensor([0., 1., 0., 0., 0., 0., 0., 0., 0., 0., 0.])\n",
      "1\n",
      "tensor([0., 1., 0., 0., 0., 0., 0., 0., 0., 0., 0.])\n",
      "1\n",
      "tensor([1., 0., 0., 0., 0., 0., 0., 0., 0., 0., 0.])\n",
      "0\n",
      "tensor([1., 0., 0., 0., 0., 0., 0., 0., 0., 0., 0.])\n",
      "0\n",
      "tensor([1., 0., 0., 0., 0., 0., 0., 0., 0., 0., 0.])\n",
      "0\n",
      "tensor([0., 0., 1., 0., 0., 0., 0., 0., 0., 0., 0.])\n",
      "2\n",
      "tensor([0., 0., 1., 0., 0., 0., 0., 0., 0., 0., 0.])\n",
      "2\n",
      "tensor([0., 0., 1., 0., 0., 0., 0., 0., 0., 0., 0.])\n",
      "2\n",
      "tensor([0., 1., 0., 0., 0., 0., 0., 0., 0., 0., 0.])\n",
      "1\n",
      "tensor([1., 0., 0., 0., 0., 0., 0., 0., 0., 0., 0.])\n",
      "0\n",
      "tensor([1., 0., 0., 0., 0., 0., 0., 0., 0., 0., 0.])\n",
      "0\n",
      "tensor([1., 0., 0., 0., 0., 0., 0., 0., 0., 0., 0.])\n",
      "0\n",
      "tensor([0., 0., 1., 0., 0., 0., 0., 0., 0., 0., 0.])\n",
      "2\n",
      "tensor([0., 0., 0., 0., 0., 0., 1., 0., 0., 0., 0.])\n",
      "6\n",
      "tensor([0., 1., 0., 0., 0., 0., 0., 0., 0., 0., 0.])\n",
      "1\n",
      "tensor([0., 1., 0., 0., 0., 0., 0., 0., 0., 0., 0.])\n",
      "1\n",
      "tensor([1., 0., 0., 0., 0., 0., 0., 0., 0., 0., 0.])\n",
      "0\n",
      "tensor([1., 0., 0., 0., 0., 0., 0., 0., 0., 0., 0.])\n",
      "0\n",
      "tensor([1., 0., 0., 0., 0., 0., 0., 0., 0., 0., 0.])\n",
      "0\n",
      "tensor([0., 0., 1., 0., 0., 0., 0., 0., 0., 0., 0.])\n",
      "2\n",
      "tensor([0., 0., 1., 0., 0., 0., 0., 0., 0., 0., 0.])\n",
      "2\n",
      "tensor([0., 0., 1., 0., 0., 0., 0., 0., 0., 0., 0.])\n",
      "2\n",
      "tensor([0., 0., 1., 0., 0., 0., 0., 0., 0., 0., 0.])\n",
      "2\n",
      "tensor([1., 0., 0., 0., 0., 0., 0., 0., 0., 0., 0.])\n",
      "0\n",
      "tensor([1., 0., 0., 0., 0., 0., 0., 0., 0., 0., 0.])\n",
      "0\n",
      "tensor([1., 0., 0., 0., 0., 0., 0., 0., 0., 0., 0.])\n",
      "0\n",
      "tensor([1., 0., 0., 0., 0., 0., 0., 0., 0., 0., 0.])\n",
      "0\n",
      "tensor([1., 0., 0., 0., 0., 0., 0., 0., 0., 0., 0.])\n",
      "0\n",
      "tensor([1., 0., 0., 0., 0., 0., 0., 0., 0., 0., 0.])\n",
      "0\n",
      "tensor([1., 0., 0., 0., 0., 0., 0., 0., 0., 0., 0.])\n",
      "0\n",
      "tensor([1., 0., 0., 0., 0., 0., 0., 0., 0., 0., 0.])\n",
      "0\n",
      "tensor([1., 0., 0., 0., 0., 0., 0., 0., 0., 0., 0.])\n",
      "0\n",
      "tensor([1., 0., 0., 0., 0., 0., 0., 0., 0., 0., 0.])\n",
      "0\n",
      "tensor([1., 0., 0., 0., 0., 0., 0., 0., 0., 0., 0.])\n",
      "0\n",
      "tensor([1., 0., 0., 0., 0., 0., 0., 0., 0., 0., 0.])\n",
      "0\n",
      "tensor([1., 0., 0., 0., 0., 0., 0., 0., 0., 0., 0.])\n",
      "0\n",
      "tensor([1., 0., 0., 0., 0., 0., 0., 0., 0., 0., 0.])\n",
      "0\n"
     ]
    },
    {
     "data": {
      "application/vnd.plotly.v1+json": {
       "config": {
        "plotlyServerURL": "https://plotly.com"
       },
       "data": [
        {
         "hovertemplate": "x: %{x}<br>y: %{y}<br>color: %{z}<extra></extra>",
         "name": "0",
         "source": "data:image/png;base64,iVBORw0KGgoAAAANSUhEUgAAAOAAAADgCAIAAACVT/22AAAClUlEQVR4Xu3coQ0DQRAEQduxfv4xmBsMsVZqUAUPDGpp2b2f53lB1nWg9jf72+f3AUoESppASRMoaQIlTaCkCZQ0gZImUNIESppASRMoaQIlTaCkCZQ0gZImUNIESppASRMoaQIlTaCkCZQ0gZImUNIESppASRMoaQIlTaCkva+/z4O/XAdqf7O/OfGkCZQ0gZImUNIESppASRMoaQIlTaCkCZQ0gZImUNIESppASRMoaQIlTaCkCZQ0gZImUNIESppASRMoaQIlTaCkCZQ0gZImUNIESppASfM/KG3Xgdrf7G9OPGkCJU2gpAmUNIGSJlDSBEqaQEkTKGkCJU2gpAmUNIGSJlDSBEqaQEkTKGkCJU2gpAmUNIGSJlDSBEqaQEkTKGkCJU2gpAmUNIGSJlDS/A9K23Wg9jf7mxNPmkBJEyhpAiVNoKQJlDSBkiZQ0gRKmkBJEyhpAiVNoKQJlDSBkiZQ0gRKmkBJEyhpAiVNoKQJlDSBkiZQ0gRKmkBJEyhpAiVNoKQJlDT/g9J2Haj9zf7mxJMmUNIESppASRMoaQIlTaCkCZQ0gZImUNIESppASRMoaQIlTaCkCZQ0gZImUNIESppASRMoaQIlTaCkCZQ0gZImUNIESppASRMoaQIlzf+gtF0Han+zvznxpAmUNIGSJlDSBEqaQEkTKGkCJU2gpAmUNIGSJlDSBEqaQEkTKGkCJU2gpAmUNIGSJlDSBEqaQEkTKGkCJU2gpAmUNIGSJlDSBEqaQEnzPyht14Ha3+xvTjxpAiVNoKQJlDSBkiZQ0gRKmkBJEyhpAiVNoKQJlDSBkiZQ0gRKmkBJEyhpAiVNoKQJlDSBkiZQ0gRKmkBJEyhpAiVNoKQJlDSBkiZQ0r5ExkNM/yP71wAAAABJRU5ErkJggg==",
         "type": "image",
         "xaxis": "x",
         "yaxis": "y"
        }
       ],
       "frames": [
        {
         "data": [
          {
           "name": "0",
           "source": "data:image/png;base64,iVBORw0KGgoAAAANSUhEUgAAAOAAAADgCAIAAACVT/22AAAClUlEQVR4Xu3coQ0DQRAEQduxfv4xmBsMsVZqUAUPDGpp2b2f53lB1nWg9jf72+f3AUoESppASRMoaQIlTaCkCZQ0gZImUNIESppASRMoaQIlTaCkCZQ0gZImUNIESppASRMoaQIlTaCkCZQ0gZImUNIESppASRMoaQIlTaCkva+/z4O/XAdqf7O/OfGkCZQ0gZImUNIESppASRMoaQIlTaCkCZQ0gZImUNIESppASRMoaQIlTaCkCZQ0gZImUNIESppASRMoaQIlTaCkCZQ0gZImUNIESppASfM/KG3Xgdrf7G9OPGkCJU2gpAmUNIGSJlDSBEqaQEkTKGkCJU2gpAmUNIGSJlDSBEqaQEkTKGkCJU2gpAmUNIGSJlDSBEqaQEkTKGkCJU2gpAmUNIGSJlDS/A9K23Wg9jf7mxNPmkBJEyhpAiVNoKQJlDSBkiZQ0gRKmkBJEyhpAiVNoKQJlDSBkiZQ0gRKmkBJEyhpAiVNoKQJlDSBkiZQ0gRKmkBJEyhpAiVNoKQJlDT/g9J2Haj9zf7mxJMmUNIESppASRMoaQIlTaCkCZQ0gZImUNIESppASRMoaQIlTaCkCZQ0gZImUNIESppASRMoaQIlTaCkCZQ0gZImUNIESppASRMoaQIlzf+gtF0Han+zvznxpAmUNIGSJlDSBEqaQEkTKGkCJU2gpAmUNIGSJlDSBEqaQEkTKGkCJU2gpAmUNIGSJlDSBEqaQEkTKGkCJU2gpAmUNIGSJlDSBEqaQEnzPyht14Ha3+xvTjxpAiVNoKQJlDSBkiZQ0gRKmkBJEyhpAiVNoKQJlDSBkiZQ0gRKmkBJEyhpAiVNoKQJlDSBkiZQ0gRKmkBJEyhpAiVNoKQJlDSBkiZQ0r5ExkNM/yP71wAAAABJRU5ErkJggg==",
           "type": "image"
          }
         ],
         "layout": {
          "margin": {
           "t": 60
          }
         },
         "name": "0"
        },
        {
         "data": [
          {
           "name": "1",
           "source": "data:image/png;base64,iVBORw0KGgoAAAANSUhEUgAAAOAAAADgCAIAAACVT/22AAAClUlEQVR4Xu3coQ0DQRAEQduxfv4xmBsMsVZqUAUPDGpp2b2f53lB1nWg9jf72+f3AUoESppASRMoaQIlTaCkCZQ0gZImUNIESppASRMoaQIlTaCkCZQ0gZImUNIESppASRMoaQIlTaCkCZQ0gZImUNIESppASRMoaQIlTaCkva+/z4O/XAdqf7O/OfGkCZQ0gZImUNIESppASRMoaQIlTaCkCZQ0gZImUNIESppASRMoaQIlTaCkCZQ0gZImUNIESppASRMoaQIlTaCkCZQ0gZImUNIESppASfM/KG3Xgdrf7G9OPGkCJU2gpAmUNIGSJlDSBEqaQEkTKGkCJU2gpAmUNIGSJlDSBEqaQEkTKGkCJU2gpAmUNIGSJlDSBEqaQEkTKGkCJU2gpAmUNIGSJlDS/A9K23Wg9jf7mxNPmkBJEyhpAiVNoKQJlDSBkiZQ0gRKmkBJEyhpAiVNoKQJlDSBkiZQ0gRKmkBJEyhpAiVNoKQJlDSBkiZQ0gRKmkBJEyhpAiVNoKQJlDT/g9J2Haj9zf7mxJMmUNIESppASRMoaQIlTaCkCZQ0gZImUNIESppASRMoaQIlTaCkCZQ0gZImUNIESppASRMoaQIlTaCkCZQ0gZImUNIESppASRMoaQIlzf+gtF0Han+zvznxpAmUNIGSJlDSBEqaQEkTKGkCJU2gpAmUNIGSJlDSBEqaQEkTKGkCJU2gpAmUNIGSJlDSBEqaQEkTKGkCJU2gpAmUNIGSJlDSBEqaQEnzPyht14Ha3+xvTjxpAiVNoKQJlDSBkiZQ0gRKmkBJEyhpAiVNoKQJlDSBkiZQ0gRKmkBJEyhpAiVNoKQJlDSBkiZQ0gRKmkBJEyhpAiVNoKQJlDSBkiZQ0r5ExkNM/yP71wAAAABJRU5ErkJggg==",
           "type": "image"
          }
         ],
         "layout": {
          "margin": {
           "t": 60
          }
         },
         "name": "1"
        },
        {
         "data": [
          {
           "name": "2",
           "source": "data:image/png;base64,iVBORw0KGgoAAAANSUhEUgAAAOAAAADgCAIAAACVT/22AAAClUlEQVR4Xu3coQ0DQRAEQduxfv4xmBsMsVZqUAUPDGpp2b2f53lB1nWg9jf72+f3AUoESppASRMoaQIlTaCkCZQ0gZImUNIESppASRMoaQIlTaCkCZQ0gZImUNIESppASRMoaQIlTaCkCZQ0gZImUNIESppASRMoaQIlTaCkva+/z4O/XAdqf7O/OfGkCZQ0gZImUNIESppASRMoaQIlTaCkCZQ0gZImUNIESppASRMoaQIlTaCkCZQ0gZImUNIESppASRMoaQIlTaCkCZQ0gZImUNIESppASfM/KG3Xgdrf7G9OPGkCJU2gpAmUNIGSJlDSBEqaQEkTKGkCJU2gpAmUNIGSJlDSBEqaQEkTKGkCJU2gpAmUNIGSJlDSBEqaQEkTKGkCJU2gpAmUNIGSJlDS/A9K23Wg9jf7mxNPmkBJEyhpAiVNoKQJlDSBkiZQ0gRKmkBJEyhpAiVNoKQJlDSBkiZQ0gRKmkBJEyhpAiVNoKQJlDSBkiZQ0gRKmkBJEyhpAiVNoKQJlDT/g9J2Haj9zf7mxJMmUNIESppASRMoaQIlTaCkCZQ0gZImUNIESppASRMoaQIlTaCkCZQ0gZImUNIESppASRMoaQIlTaCkCZQ0gZImUNIESppASRMoaQIlzf+gtF0Han+zvznxpAmUNIGSJlDSBEqaQEkTKGkCJU2gpAmUNIGSJlDSBEqaQEkTKGkCJU2gpAmUNIGSJlDSBEqaQEkTKGkCJU2gpAmUNIGSJlDSBEqaQEnzPyht14Ha3+xvTjxpAiVNoKQJlDSBkiZQ0gRKmkBJEyhpAiVNoKQJlDSBkiZQ0gRKmkBJEyhpAiVNoKQJlDSBkiZQ0gRKmkBJEyhpAiVNoKQJlDSBkiZQ0r5ExkNM/yP71wAAAABJRU5ErkJggg==",
           "type": "image"
          }
         ],
         "layout": {
          "margin": {
           "t": 60
          }
         },
         "name": "2"
        },
        {
         "data": [
          {
           "name": "3",
           "source": "data:image/png;base64,iVBORw0KGgoAAAANSUhEUgAAAOAAAADgCAIAAACVT/22AAAClUlEQVR4Xu3coQ0DQRAEQduxfv4xmBsMsVZqUAUPDGpp2b2f53lB1nWg9jf72+f3AUoESppASRMoaQIlTaCkCZQ0gZImUNIESppASRMoaQIlTaCkCZQ0gZImUNIESppASRMoaQIlTaCkCZQ0gZImUNIESppASRMoaQIlTaCkva+/z4O/XAdqf7O/OfGkCZQ0gZImUNIESppASRMoaQIlTaCkCZQ0gZImUNIESppASRMoaQIlTaCkCZQ0gZImUNIESppASRMoaQIlTaCkCZQ0gZImUNIESppASfM/KG3Xgdrf7G9OPGkCJU2gpAmUNIGSJlDSBEqaQEkTKGkCJU2gpAmUNIGSJlDSBEqaQEkTKGkCJU2gpAmUNIGSJlDSBEqaQEkTKGkCJU2gpAmUNIGSJlDS/A9K23Wg9jf7mxNPmkBJEyhpAiVNoKQJlDSBkiZQ0gRKmkBJEyhpAiVNoKQJlDSBkiZQ0gRKmkBJEyhpAiVNoKQJlDSBkiZQ0gRKmkBJEyhpAiVNoKQJlDT/g9J2Haj9zf7mxJMmUNIESppASRMoaQIlTaCkCZQ0gZImUNIESppASRMoaQIlTaCkCZQ0gZImUNIESppASRMoaQIlTaCkCZQ0gZImUNIESppASRMoaQIlzf+gtF0Han+zvznxpAmUNIGSJlDSBEqaQEkTKGkCJU2gpAmUNIGSJlDSBEqaQEkTKGkCJU2gpAmUNIGSJlDSBEqaQEkTKGkCJU2gpAmUNIGSJlDSBEqaQEnzPyht14Ha3+xvTjxpAiVNoKQJlDSBkiZQ0gRKmkBJEyhpAiVNoKQJlDSBkiZQ0gRKmkBJEyhpAiVNoKQJlDSBkiZQ0gRKmkBJEyhpAiVNoKQJlDSBkiZQ0r5ExkNM/yP71wAAAABJRU5ErkJggg==",
           "type": "image"
          }
         ],
         "layout": {
          "margin": {
           "t": 60
          }
         },
         "name": "3"
        },
        {
         "data": [
          {
           "name": "4",
           "source": "data:image/png;base64,iVBORw0KGgoAAAANSUhEUgAAAOAAAADgCAIAAACVT/22AAAFOUlEQVR4Xu3c71HiWhyH8S93LAOsQ+yDWwENyNYhNGAF2gdYh9iH9wWDezxz+SNrch42z2d8kfmtyTDs40mITkbz+TwSVteBevzjPP5x/9QDicRAhWagQjNQoRmo0AxUaAYqNAMVmoEKzUCFZqBCM1ChGajQDFRoBio0AxWagQrNQIVmoEIzUKEZqNAMVGgGKjQDFZqBCs1AhWagQjNQoRmo0AxUaKOuH58n/QlXUKEZqNAMVGgGKjQDFZqBCs1AhWagQjNQoRmo0AxUaAYqNAMVmoEKzUCFZqBCM1ChGajQDFRoBio0AxWagQrNQIVmoEIzUKEZqNAMVGgGKjQDFZqBCs1AhWagQrupBx14enqqRz9nPp97/CN6OH49+lGuoEIzUO2Nk8fkY//1ljwm4/q7emagSpLMknWyKCaTZJGsGzdqoNqvnZN6nCSTZF3P+sQI9C55Ttb7k8s6eU7u6u9SVx4O1LkzSR7qWW9aB3qXvCWbZJZM98NpMks2yZuZ9qI8sy+TUTJKXorhrNjuV9NAH5LNqZ/dTcsf3yH6td8oq/1cO3rXLtCHZFnP/t/SRoerUaB3Z9e5s/Rc35fnJMn463/QptjuV6NAd+/Ct1ywi85UtjhLPpLt1+vO8nq0Xy0CvTt63XnIxEW0M6tkW89+2yaretabFoGWV9/fcvGOOu49uT/Q6Da5r2d9ahHoxb+ZuHhHnbRrtPpgsEhuk/evw361CPTiexYX76hzvBf3mHbandk/tQhUOluLQC++Z3HxjrpaLQK9+Jrm4h11tVoE+q1b9KWLd9Rxn38D+lH/S3MtAn09cEfjuG3yWs/012sRaJJ/68FpF+yiM+3+fGn3BdMo0Ndv3nVfuHwOVKNAk6zObnSBuCGnJtoFmmSVTI9ej26TqXUOWtNAk7wmt8k0eSluc26Sl2Sa3HpmH7o+Htxw2qufgZri3V361HoFlY5irKBqi3d36ZMrqNAMVGgGKrRR14/Pk/7ETbp/fmc9uja+P8d1+v54iheagQrNQIVmoEIzUKEZqNAMVGgGKjQDFZqBCs1AhWagQjNQoRmo0AxUaAYqNAMVmoEKzUCFZqBCM1ChGajQDFRoBio0AxWagQrNQIVmoEIzUKEZqNB8PqjQ/obng3b9+q/9+PXop3X6+j3FC81AhWagQjNQoRmo0AxUaAYqNAMVmoEKzUCFZqBCM1ChGajQDFRoBio0AxWagQrNQIVmoEIzUKEZqNAMVGgGKjQDFZqBCs1AhWagQjNQoRmo0AxUaD4fVGg+H/SEHp7f2fXx69FP6/T1e4oXmoEKzUCFZqBCM1ChGajQDFRoBio0AxWagQrNQIVmoEIzUKEZqNAMVGgGKjQDFZqBCs1AhWagQjNQoRmo0AxUaAYqNAMVmoEKzUCFZqBCM1ChGajQfD6o0Hw+6Ak9PL+z6+PXo5/W6ev3FC+0IQU6Th6Tj/3XW/KYjOvvEspgAp0l62RRTCbJIlnbKNowAt2tnZN6nCSTZF3PxDGMQB8O1LkzSR7qmSCGEWh5Zl8mo2SUvBTDWbEtkmEEWvq13yirnRbbIhleoLoqwwv0OUkyTpbFcFNsi2QYgZYtzpKPZPv1urO8HhXJMAJdJdt69ts2WdUzQQwj0Pfk/kCj2+S+noljGIFm32h5rk+ySG6T969DkQwm0CTvxT2mHc/seEMKVFfIQIVmoEK7qQd/pY96oGvhCiq0Yaygo2Lb1fSquIIKzUCFZqBCM1ChDeNDkh+MrpYrqNCGsYKWt5l0VVxBhWagQjNQof0Hv4LBvuJ54cIAAAAASUVORK5CYII=",
           "type": "image"
          }
         ],
         "layout": {
          "margin": {
           "t": 60
          }
         },
         "name": "4"
        },
        {
         "data": [
          {
           "name": "5",
           "source": "data:image/png;base64,iVBORw0KGgoAAAANSUhEUgAAAOAAAADgCAIAAACVT/22AAAEfUlEQVR4Xu3c4TEkWxzG4detDQNxsHm4EUiAG8eSgAjIA3EgD/fDFHd0XYNZ3ee1nqd8mPqv7pqyP93tUGfn+Pg4UGvuQJ1/M+ff7K/pAJoIlGoCpZpAqSZQqgmUagKlmkCpJlCqCZRqAqWaQKkmUKoJlGoCpZpAqSZQqgmUagKlmkCpJlCqCZRqAqWaQKkmUKoJlGoCpZpAqSZQqgmUajtzb58Hv2XuQJ1/M+ffzC2eagKlmkCpJlCqCZRqAqWaQKkmUKoJlGoCpZpAqSZQqgmUagKlmkCpJlCqCZRqAqWaQKkmUKoJlGoCpZpAqSZQqgmUagKlmkCpJlCqCZRqAqWa/UGp5gpKNYFSTaBUEyjVBEo1gVJNoFQTKNUESjWBUk2gVBMo1QRKNYFSTaBUEyjVBEo1gVJNoFQTKNUESjWBUk2gVBMo1QRKNYFSTaBUEyjVBEo1gVJNoFQTKNV+TAczuLi4mI4+z/HxsfNvsMD5p6NP5QpKNYHyZDf5lTw+fdwlv5Ld6WctTKAkSY6S6+R0bbKXnCbXgxsVKE/Xzr3pOEn2kuvpbEkdgR4kl8n1083lOrlMDqafxVxOXqlzZS85mc4WMzrQg+QuuUmOksOn4WFylNwkdzJdxPqd/SzZSXaSq7Xh0drrZQ0N9CS5eet792bkt+939M/Ti/Vqn68dixsX6ElyNp39vzONfl+DAj14d50rZ+71S7lMkuy+/A+6WXu9rEGBrr4KH7LFIbzTeotHyWNy//K5c/15dFkjAj3Y+Nz5mj0X0dmcJ/fT2X/uk/PpbDEjAl1/+v6QrQ9ks4fk5yuN3ic/p7MljQh0699MbH0gb1o1OvnB4DTZTx5eDpc1ItCt1yy2PpD3eFhbY1oZd2d/NiJQeLcRgW69ZrH1gXxZIwLd+plm6wP5skYE+qEl+nVbH8hmz38D+jj9l+FGBHr7yorGZvfJ7XTGH29EoEn+ng7etsUhvNPqz5dWH2UGBXr7wVX3U5fPb2pQoEnO393oacWCHEOMCzTJeXK48Xn0PjlU57c2NNAkt8l+cphcrS1z3iRXyWGy787+3S2xccPbbv0MNFTf6tKz0VdQ2KjjCspYfatLz1xBqSZQqgmUajtzb58Hv+NH5t+/czr6anx9Npv16+MWTzWBUk2gVBMo1QRKNYFSTaBUEyjVBEo1gVJNoFQTKNUESjWBUk2gVBMo1QRKNYFSTaBUEyjVBEo1gVJNoFQTKNUESjWBUk2gVBMo1QRKNYFSzf6gVPsT9ged+/1/9fNPR59t1vfvFk81gVJNoFQTKNUESjWBUk2gVBMo1QRKNYFSTaBUEyjVBEo1gVJNoFQTKNUESjWBUk2gVBMo1QRKNYFSTaBUEyjVBEo1gVJNoFQTKNUESjWBUs3+oFSzP+gbFti/c+7zT0efbdb37xZPNYFSTaBUEyjVBEo1gVJNoFQTKNUESjWBUk2gVBMo1QRKNYFSTaBUEyjVBEo1gVJNoFQTKNUESjWBUk2gVBMo1QRKNYFSTaBUEyjVBEo1gVLtX/4amhfJiDMyAAAAAElFTkSuQmCC",
           "type": "image"
          }
         ],
         "layout": {
          "margin": {
           "t": 60
          }
         },
         "name": "5"
        },
        {
         "data": [
          {
           "name": "6",
           "source": "data:image/png;base64,iVBORw0KGgoAAAANSUhEUgAAAOAAAADgCAIAAACVT/22AAAEdUlEQVR4Xu3c4TEkWxzG4detDQNxsHm4EUiAG8eSgAjIA3EgD/fDFHd0XY1Z0+e1nqd8mPqv7lKzP33aoXrn+Pg4UGvbgTr/POef99d0AE0ESjWBUk2gVBMo1QRKNYFSTaBUEyjVBEo1gVJNoFQTKNUESjWBUk2gVBMo1QRKNYFSTaBUEyjVBEo1gVJNoFQTKNUESjWBUk2gVBMo1QRKtZ1tPz4Pfsu2A3X+ec4/zxJPNYFSTaBUEyjVBEo1gVJNoFQTKNUESjWBUk2gVBMo1QRKNYFSTaBUEyjVBEo1gVJNoFQTKNUESjWBUk2gVBMo1QRKNYFSTaBUEyjVBEo1gVLN80Hptu1AnX+e88+zxFNNoFQTKNUESjWBUk2gVBMo1QRKNYFSTaBUEyjVBEo1gVJNoFQTKNUESjWBUk2gVBMo1QRKNYFSTaBUEyjVBEo1gVJNoFQTKNUESjWBUk2gVPN8UKq5glJNoFQTKNUESjWBUk2gVBMo1QRKNYFSTaBUEyjVBEo1gVJNoFQTKNUESjWBUk2gVBMo1QRKNYFSTaBUEyjVBEo1gVJNoFQTKNUESjWBUk2gVBMo1QRKtR/TwRZcXFxMR5/n+PjY+WcscP7p6FO5glJNoDzZTX4lj08fd8mvZHf6WQsTKEmSo+Q6OV2b7CWnyfXgRgXK07VzbzpOkr3kejpbUkegB8llcv20uFwnl8nB9LPYlpNX6lzZS06ms8WMDvQguUtukqPk8Gl4mBwlN8mdTBexvrKfJTvJTnK1Njxae72soYGeJDdvfe/ejPz2/Y7+eXqxXu3ztWNx4wI9Sc6ms/93ptHva1CgB++uc+XMWr+UyyTJ7sv/oJu118saFOjqXfiQDQ7hndZbPEoek/uX953r96PLGhHowex952v2XES35jy5n87+c5+cT2eLGRHo+t33h2x8IPMekp+vNHqf/JzOljQi0I1/M7Hxgbxp1ejkB4PTZD95eDlc1ohAN96z2PhA3uNhbY9pZdzK/mxEoPBuIwLdeM9i4wP5skYEuvE9zcYH8mWNCPRDW/TrNj6Qec9/A/o4/ZfhRgR6+8qOxrz75HY64483ItAkf08Hb9vgEN5p9edLq48ygwK9/eCu+6nL5zc1KNAk5+9u9LRiQ44hxgWa5Dw5nL0fvU8O1fmtDQ00yW2ynxwmV2vbnDfJVXKY7FvZv7slHtzwtls/Aw3Vt7v0bPQVFGZ1XEEZq2936ZkrKNUESjWBUm1n24/Pg9/xI9t/fud09NV4f+Zt9f2xxFNNoFQTKNUESjWBUk2gVBMo1QRKNYFSTaBUEyjVBEo1gVJNoFQTKNUESjWBUk2gVBMo1QRKNYFSTaBUEyjVBEo1gVJNoFQTKNUESjWBUk2gVPN8UKr9Cc8H3fbX/9XPPx19tq1+/ZZ4qgmUagKlmkCpJlCqCZRqAqWaQKkmUKoJlGoCpZpAqSZQqgmUagKlmkCpJlCqCZRqAqWaQKkmUKoJlGoCpZpAqSZQqgmUagKlmkCpJlCqCZRq/wKda5Rzp/62cgAAAABJRU5ErkJggg==",
           "type": "image"
          }
         ],
         "layout": {
          "margin": {
           "t": 60
          }
         },
         "name": "6"
        },
        {
         "data": [
          {
           "name": "7",
           "source": "data:image/png;base64,iVBORw0KGgoAAAANSUhEUgAAAOAAAADgCAIAAACVT/22AAAEaklEQVR4Xu3c4TEtSQCG4c/WDQNxcPOwEUiAG8clARGQB+JAHvbHKfaYWoNznenPep7y41QzXYpX92hqdo6PjwO1th2o+eeZf95f0wFoIlCqCZRqAqWaQKkmUKoJlGoCpZpAqSZQqgmUagKlmkCpJlCqCZRqAqWaQKkmUKoJlGoCpZpAqSZQqgmUagKlmkCpJlCqCZRqAqWaQKkmUKrtbPvxefBHth2o+eeZf54tnmoCpZpAqSZQqgmUagKlmkCpJlCqCZRqAqWaQKkmUKoJlGoCpZpAqSZQqgmUagKlmkCpJlCqCZRqAqWaQKkmUKoJlGoCpZpAqSZQqgmUagKlmueD0m3bgZp/nvnn2eKpJlCqCZRqAqWaQKkmUKoJlGoCpZpAqSZQqgmUagKlmkCpJlCqCZRqAqWaQKkmUKoJlGoCpZpAqSZQqgmUagKlmkCpJlCqCZRqAqWaQKkmUKp5Pijdth2o+eeZf54tnmoCpZpAqSZQqgmUagKlmkCpJlCqCZRqAqWaQKkmUKoJlGoCpZpAqSZQqgmUagKlmkCpJlCqCZRqAqWaQKkmUKoJlGoCpZpAqSZQqgmUagKlmueDUs0KSjWBUk2gVBMo1QRKNYFSTaBUEyjVBEo1gVJNoFQTKNUESjWBUk2gVBMo1QRKNYFSTaBUEyjVBEo1gVJNoFQTKNUESjWBUk2gVBMo1QRKNYFSTaBUEyjVfkwHtuDi4mI69HmOj4/NP2OB+adDn8oKSjWB8mQ3+Z08Pr3dJb+T3elHLUygJEmOkuvkdG1kLzlNrgc3KlCe1s696XCS7CXX07EldQR6kFwm10+by3VymRxMP4ptOXmlzpW95GQ6tpjRgR4kd8lNcpQcPg0eJkfJTXIn00Ws7+xnyU6yk1ytDR6tvV7W0EBPkpu3fnZvRv74fke/nl6sV/u8dixuXKAnydl07L+dafT7GhTowbvrXDmz1y/lMkmy+/IbdLP2elmDAl19FT5kg0t4p/UWj5LH5P7lfef6/eiyRgR6MHvf+Zo9i+jWnCf307F/3Sfn07HFjAh0/e77Qza+kHkPyc9XGr1Pfk7HljQi0I3/MrHxhbxp1ejkF4PTZD95eDm4rBGBbnxmsfGFvMfD2hnTyrid/dmIQOHdRgS68ZnFxhfyZY0IdON7mo0v5MsaEeiHjujXbXwh857/B/Rx+p7hRgR6+8qJxrz75HY6xv/eiECT/D0deNsGl/BOq39fWr2VGRTo7QdP3U8tn9/UoECTnL+70dOKAzmGGBdokvPkcPZ+9D45VOe3NjTQJLfJfnKYXK0dc94kV8lhsm9n/+6WeHDD2279DjRU3+nSs9ErKMzqWEEZq+906ZkVlGoCpZpAqbaz7cfnwZ/4ka///M7p0Gfz+c/Y9vfXFk81gVJNoFQTKNUESjWBUk2gVBMo1QRKNYFSTaBUEyjVBEo1gVJNoFQTKNUESjWBUk2gVBMo1QRKNYFSTaBUEyjVBEo1gVJNoFQTKNUESjWBUu0fO0iUz44D2QoAAAAASUVORK5CYII=",
           "type": "image"
          }
         ],
         "layout": {
          "margin": {
           "t": 60
          }
         },
         "name": "7"
        },
        {
         "data": [
          {
           "name": "8",
           "source": "data:image/png;base64,iVBORw0KGgoAAAANSUhEUgAAAOAAAADgCAIAAACVT/22AAAEYUlEQVR4Xu3c0VEjRwBF0YfLYcDGAZsHjoAEYONYSIAIIA9EHIg88IcKLKbMAPJq+q05p/hQNUx/wKV71FBzcHZ2Fqi170DNP8/88/6YDkATgVJNoFQTKNUESjWBUk2gVBMo1QRKNYFSTaBUEyjVBEo1gVJNoFQTKNUESjWBUk2gVBMo1QRKNYFSTaBUEyjVBEo1gVJNoFQTKNUESjWBUu1g34/Pg/9k34Gaf57559niqSZQqgmUagKlmkCpJlCqCZRqAqWaQKkmUKoJlGoCpZpAqSZQqgmUagKlmkCpJlCqCZRqAqWaQKkmUKoJlGoCpZpAqSZQqgmUagKlmkCpJlCqeT4o3fYdqPnnmX+eLZ5qAqWaQKkmUKoJlGoCpZpAqSZQqgmUagKlmkCpJlCqCZRqAqWaQKkmUKoJlGoCpZpAqSZQqgmUagKlmkCpJlCqCZRqAqWaQKkmUKoJlGoCpZrng9Jt34Gaf57559niqSZQqgmUagKlmkCpJlCqCZRqAqWaQKkmUKoJlGoCpZpAqSZQqgmUagKlmkCpJlCqCZRqAqWaQKkmUKoJlGoCpZpAqSZQqgmUagKlmkCpJlCqeT4o3fYdqPnnmX+eLZ5qAqWaQKkmUKoJlGoCpZpAqSZQqgmUagKlmkCpJlCqCZRqAqWaQKkmUKoJlGoCpZpAqSZQqgmUagKlmkCpJlCqCZRqAqWaQKkmUKoJlGoCpZrng1LNCko1gVJNoFQTKNUESjWBUk2gVBMo1QRKNYFSTaBUEyjVBEo1gVJNoFQTKNUESjWBUk2gVBMo1QRKNYFSTaBUEyjVBEo1gVJNoFQTKNUESjWBUk2gVBMo1f6cDuzB9fX1dOjXOTs7M/+MBeafDv1SVlCqCZRnh8nP5On54yH5mRxOv2phAiVJcprcJRdbI0fJRXI3uFGB8rx2Hk2Hk+QouZuOLakj0OPkJrl73lzukpvkePpV7Mv5G3VuHCXn07HFjA70OHlIVslpcvI8eJKcJqvkQaaL2N7ZL5OD5CC53Ro83Xq9rKGBnier9353VyN/fb+iH88vtqt9WTsWNy7Q8+RyOvbvLjX6dQ0K9PjDdW5c2uuXcpMkOXz9A1ptvV7WoEA334VP2eESPmi7xdPkKVm/vu/cvh9d1ohAj2fvO99yZBHdm6tkPR37xzq5mo4tZkSg23ffn7Lzhcx7TL6/0eg6+T4dW9KIQHf+y8TOF/KuTaOTNwYXybfk8fXgskYEuvOZxc4X8hGPW2dMG+N29hcjAoUPGxHozmcWO1/Ib2tEoDvf0+x8Ib+tEYF+6oh+284XMu/lf0Cfpp8ZbkSg92+caMxbJ/fTMf73RgSa5K/pwPt2uIQP2vz70uajzKBA7z956n5h+fyiBgWa5OrDjV5UHMgxxLhAk1wlJ7P3o+vkRJ1f2tBAk9wn35KT5HbrmHOV3CYnyTc7+1e3xIMb3nfvPdBQfadLL0avoDCrYwVlrL7TpRdWUKoJlGoCpdrfPZ2PKz3yg+4AAAAASUVORK5CYII=",
           "type": "image"
          }
         ],
         "layout": {
          "margin": {
           "t": 60
          }
         },
         "name": "8"
        },
        {
         "data": [
          {
           "name": "9",
           "source": "data:image/png;base64,iVBORw0KGgoAAAANSUhEUgAAAOAAAADgCAIAAACVT/22AAADwklEQVR4Xu3c0VEbVxSA4eMMZQTXAYXEFagBKMQ0QAW4D0MfpA/ngRdYJ0JasZ7f0fc9Hrh3NPCzK3bgftrtdgNZWwdq//3sv98fywGUCJQ0gZImUNIESppASRMoaQIlTaCkCZQ0gZImUNIESppASRMoaQIlTaCkCZQ0gZImUNIESppASRMoaQIlTaCkCZQ0gZImUNIESppASfu09fF5cJKtA7X/fvbfzy2eNIGSJlDSBEqaQEkTKGkCJU2gpAmUNIGSJlDSBEqaQEkTKGkCJU2gpAmUNIGSJlDSBEqaQEkTKGkCJU2gpAmUNIGSJlDSBEqaQEkTKGnOB6Vt60Dtv5/993OLJ02gpAmUNIGSJlDSBEqaQEkTKGkCJU2gpAmUNIGSJlDSBEqaQEkTKGkCJU2gpAmUNIGSJlDSBEqaQEkTKGkCJU2gpAmUNIGSJlDSBEqa80FJu5iZ+/v75fjj7Ha7rfdfjnhr66//pvu7xZMmUNIESppASRMoaQIlTaCkCZQ0gZImUNIESppASRMoaQIlTaCkCZQ0gZImUNIESppASRMoaQIlTaCkCZQ0gZImUNIESppASRMoaQIlzfmgpF0sB/xk0/Mvf8EFYuvXv+n+bvGkCZQ0gZImUNIE+hGuZh5mvs/8mPkx833mYeZq+Vms4Lf407ykefl2eD0zM3/NPM98mXl6+1GO4Qp6gpuZx5/qfO1y5nHmZjnmcAJd62bm63L2775qdD2BrnJ1cJ0vvnpLupJAV3lYDt63YgkCXeNq7/vO/3LpIrqGQI93uxwcavXCMybQ4/25HBxq9cIzJtDjvTzmXGH1wjMmUNIEerzH5eBQqxeeMYEe7+/l4FCrF54xgR7vqEf0r61eeMYEerynmefl7H3P/mpkDYGu8mU5eN+KJQh0pacjn7rfunyuJNC17g5u9HbmbjnjQAI9wd3M9d73o88z1+o8iUBP8zTzeeZ65turx5yPM99mrmc+u7Ofyr98fIQnvwNtxRWUNIGSJlDSBEqaQElzPihpF/Obnx/5C37AvP49tv7+usWTJlDSBEqaQEkTKGkCJU2gpAmUNIGSJlDSBEqaQEkTKGkCJU2gpAmUNIGSJlDSBEqaQEkTKGkCJU2gpAmUNIGSJlDSBEqaQEkTKGkCJc35oKT9H84H/d33X44+2tavf9P93eJJEyhpAiVNoKQJlDSBkiZQ0gRKmkBJEyhpAiVNoKQJlDSBkiZQ0gRKmkBJEyhpAiVNoKQJlDSBkiZQ0gRKmkBJEyhpAiVNoKQJlDSBkvYPS4t8/G0ER2wAAAAASUVORK5CYII=",
           "type": "image"
          }
         ],
         "layout": {
          "margin": {
           "t": 60
          }
         },
         "name": "9"
        }
       ],
       "layout": {
        "margin": {
         "t": 60
        },
        "sliders": [
         {
          "active": 0,
          "currentvalue": {
           "prefix": "animation_frame="
          },
          "len": 0.9,
          "pad": {
           "b": 10,
           "t": 60
          },
          "steps": [
           {
            "args": [
             [
              "0"
             ],
             {
              "frame": {
               "duration": 0,
               "redraw": true
              },
              "fromcurrent": true,
              "mode": "immediate",
              "transition": {
               "duration": 0,
               "easing": "linear"
              }
             }
            ],
            "label": "0",
            "method": "animate"
           },
           {
            "args": [
             [
              "1"
             ],
             {
              "frame": {
               "duration": 0,
               "redraw": true
              },
              "fromcurrent": true,
              "mode": "immediate",
              "transition": {
               "duration": 0,
               "easing": "linear"
              }
             }
            ],
            "label": "1",
            "method": "animate"
           },
           {
            "args": [
             [
              "2"
             ],
             {
              "frame": {
               "duration": 0,
               "redraw": true
              },
              "fromcurrent": true,
              "mode": "immediate",
              "transition": {
               "duration": 0,
               "easing": "linear"
              }
             }
            ],
            "label": "2",
            "method": "animate"
           },
           {
            "args": [
             [
              "3"
             ],
             {
              "frame": {
               "duration": 0,
               "redraw": true
              },
              "fromcurrent": true,
              "mode": "immediate",
              "transition": {
               "duration": 0,
               "easing": "linear"
              }
             }
            ],
            "label": "3",
            "method": "animate"
           },
           {
            "args": [
             [
              "4"
             ],
             {
              "frame": {
               "duration": 0,
               "redraw": true
              },
              "fromcurrent": true,
              "mode": "immediate",
              "transition": {
               "duration": 0,
               "easing": "linear"
              }
             }
            ],
            "label": "4",
            "method": "animate"
           },
           {
            "args": [
             [
              "5"
             ],
             {
              "frame": {
               "duration": 0,
               "redraw": true
              },
              "fromcurrent": true,
              "mode": "immediate",
              "transition": {
               "duration": 0,
               "easing": "linear"
              }
             }
            ],
            "label": "5",
            "method": "animate"
           },
           {
            "args": [
             [
              "6"
             ],
             {
              "frame": {
               "duration": 0,
               "redraw": true
              },
              "fromcurrent": true,
              "mode": "immediate",
              "transition": {
               "duration": 0,
               "easing": "linear"
              }
             }
            ],
            "label": "6",
            "method": "animate"
           },
           {
            "args": [
             [
              "7"
             ],
             {
              "frame": {
               "duration": 0,
               "redraw": true
              },
              "fromcurrent": true,
              "mode": "immediate",
              "transition": {
               "duration": 0,
               "easing": "linear"
              }
             }
            ],
            "label": "7",
            "method": "animate"
           },
           {
            "args": [
             [
              "8"
             ],
             {
              "frame": {
               "duration": 0,
               "redraw": true
              },
              "fromcurrent": true,
              "mode": "immediate",
              "transition": {
               "duration": 0,
               "easing": "linear"
              }
             }
            ],
            "label": "8",
            "method": "animate"
           },
           {
            "args": [
             [
              "9"
             ],
             {
              "frame": {
               "duration": 0,
               "redraw": true
              },
              "fromcurrent": true,
              "mode": "immediate",
              "transition": {
               "duration": 0,
               "easing": "linear"
              }
             }
            ],
            "label": "9",
            "method": "animate"
           }
          ],
          "x": 0.1,
          "xanchor": "left",
          "y": 0,
          "yanchor": "top"
         }
        ],
        "template": {
         "data": {
          "bar": [
           {
            "error_x": {
             "color": "#2a3f5f"
            },
            "error_y": {
             "color": "#2a3f5f"
            },
            "marker": {
             "line": {
              "color": "#E5ECF6",
              "width": 0.5
             },
             "pattern": {
              "fillmode": "overlay",
              "size": 10,
              "solidity": 0.2
             }
            },
            "type": "bar"
           }
          ],
          "barpolar": [
           {
            "marker": {
             "line": {
              "color": "#E5ECF6",
              "width": 0.5
             },
             "pattern": {
              "fillmode": "overlay",
              "size": 10,
              "solidity": 0.2
             }
            },
            "type": "barpolar"
           }
          ],
          "carpet": [
           {
            "aaxis": {
             "endlinecolor": "#2a3f5f",
             "gridcolor": "white",
             "linecolor": "white",
             "minorgridcolor": "white",
             "startlinecolor": "#2a3f5f"
            },
            "baxis": {
             "endlinecolor": "#2a3f5f",
             "gridcolor": "white",
             "linecolor": "white",
             "minorgridcolor": "white",
             "startlinecolor": "#2a3f5f"
            },
            "type": "carpet"
           }
          ],
          "choropleth": [
           {
            "colorbar": {
             "outlinewidth": 0,
             "ticks": ""
            },
            "type": "choropleth"
           }
          ],
          "contour": [
           {
            "colorbar": {
             "outlinewidth": 0,
             "ticks": ""
            },
            "colorscale": [
             [
              0,
              "#0d0887"
             ],
             [
              0.1111111111111111,
              "#46039f"
             ],
             [
              0.2222222222222222,
              "#7201a8"
             ],
             [
              0.3333333333333333,
              "#9c179e"
             ],
             [
              0.4444444444444444,
              "#bd3786"
             ],
             [
              0.5555555555555556,
              "#d8576b"
             ],
             [
              0.6666666666666666,
              "#ed7953"
             ],
             [
              0.7777777777777778,
              "#fb9f3a"
             ],
             [
              0.8888888888888888,
              "#fdca26"
             ],
             [
              1,
              "#f0f921"
             ]
            ],
            "type": "contour"
           }
          ],
          "contourcarpet": [
           {
            "colorbar": {
             "outlinewidth": 0,
             "ticks": ""
            },
            "type": "contourcarpet"
           }
          ],
          "heatmap": [
           {
            "colorbar": {
             "outlinewidth": 0,
             "ticks": ""
            },
            "colorscale": [
             [
              0,
              "#0d0887"
             ],
             [
              0.1111111111111111,
              "#46039f"
             ],
             [
              0.2222222222222222,
              "#7201a8"
             ],
             [
              0.3333333333333333,
              "#9c179e"
             ],
             [
              0.4444444444444444,
              "#bd3786"
             ],
             [
              0.5555555555555556,
              "#d8576b"
             ],
             [
              0.6666666666666666,
              "#ed7953"
             ],
             [
              0.7777777777777778,
              "#fb9f3a"
             ],
             [
              0.8888888888888888,
              "#fdca26"
             ],
             [
              1,
              "#f0f921"
             ]
            ],
            "type": "heatmap"
           }
          ],
          "heatmapgl": [
           {
            "colorbar": {
             "outlinewidth": 0,
             "ticks": ""
            },
            "colorscale": [
             [
              0,
              "#0d0887"
             ],
             [
              0.1111111111111111,
              "#46039f"
             ],
             [
              0.2222222222222222,
              "#7201a8"
             ],
             [
              0.3333333333333333,
              "#9c179e"
             ],
             [
              0.4444444444444444,
              "#bd3786"
             ],
             [
              0.5555555555555556,
              "#d8576b"
             ],
             [
              0.6666666666666666,
              "#ed7953"
             ],
             [
              0.7777777777777778,
              "#fb9f3a"
             ],
             [
              0.8888888888888888,
              "#fdca26"
             ],
             [
              1,
              "#f0f921"
             ]
            ],
            "type": "heatmapgl"
           }
          ],
          "histogram": [
           {
            "marker": {
             "pattern": {
              "fillmode": "overlay",
              "size": 10,
              "solidity": 0.2
             }
            },
            "type": "histogram"
           }
          ],
          "histogram2d": [
           {
            "colorbar": {
             "outlinewidth": 0,
             "ticks": ""
            },
            "colorscale": [
             [
              0,
              "#0d0887"
             ],
             [
              0.1111111111111111,
              "#46039f"
             ],
             [
              0.2222222222222222,
              "#7201a8"
             ],
             [
              0.3333333333333333,
              "#9c179e"
             ],
             [
              0.4444444444444444,
              "#bd3786"
             ],
             [
              0.5555555555555556,
              "#d8576b"
             ],
             [
              0.6666666666666666,
              "#ed7953"
             ],
             [
              0.7777777777777778,
              "#fb9f3a"
             ],
             [
              0.8888888888888888,
              "#fdca26"
             ],
             [
              1,
              "#f0f921"
             ]
            ],
            "type": "histogram2d"
           }
          ],
          "histogram2dcontour": [
           {
            "colorbar": {
             "outlinewidth": 0,
             "ticks": ""
            },
            "colorscale": [
             [
              0,
              "#0d0887"
             ],
             [
              0.1111111111111111,
              "#46039f"
             ],
             [
              0.2222222222222222,
              "#7201a8"
             ],
             [
              0.3333333333333333,
              "#9c179e"
             ],
             [
              0.4444444444444444,
              "#bd3786"
             ],
             [
              0.5555555555555556,
              "#d8576b"
             ],
             [
              0.6666666666666666,
              "#ed7953"
             ],
             [
              0.7777777777777778,
              "#fb9f3a"
             ],
             [
              0.8888888888888888,
              "#fdca26"
             ],
             [
              1,
              "#f0f921"
             ]
            ],
            "type": "histogram2dcontour"
           }
          ],
          "mesh3d": [
           {
            "colorbar": {
             "outlinewidth": 0,
             "ticks": ""
            },
            "type": "mesh3d"
           }
          ],
          "parcoords": [
           {
            "line": {
             "colorbar": {
              "outlinewidth": 0,
              "ticks": ""
             }
            },
            "type": "parcoords"
           }
          ],
          "pie": [
           {
            "automargin": true,
            "type": "pie"
           }
          ],
          "scatter": [
           {
            "fillpattern": {
             "fillmode": "overlay",
             "size": 10,
             "solidity": 0.2
            },
            "type": "scatter"
           }
          ],
          "scatter3d": [
           {
            "line": {
             "colorbar": {
              "outlinewidth": 0,
              "ticks": ""
             }
            },
            "marker": {
             "colorbar": {
              "outlinewidth": 0,
              "ticks": ""
             }
            },
            "type": "scatter3d"
           }
          ],
          "scattercarpet": [
           {
            "marker": {
             "colorbar": {
              "outlinewidth": 0,
              "ticks": ""
             }
            },
            "type": "scattercarpet"
           }
          ],
          "scattergeo": [
           {
            "marker": {
             "colorbar": {
              "outlinewidth": 0,
              "ticks": ""
             }
            },
            "type": "scattergeo"
           }
          ],
          "scattergl": [
           {
            "marker": {
             "colorbar": {
              "outlinewidth": 0,
              "ticks": ""
             }
            },
            "type": "scattergl"
           }
          ],
          "scattermapbox": [
           {
            "marker": {
             "colorbar": {
              "outlinewidth": 0,
              "ticks": ""
             }
            },
            "type": "scattermapbox"
           }
          ],
          "scatterpolar": [
           {
            "marker": {
             "colorbar": {
              "outlinewidth": 0,
              "ticks": ""
             }
            },
            "type": "scatterpolar"
           }
          ],
          "scatterpolargl": [
           {
            "marker": {
             "colorbar": {
              "outlinewidth": 0,
              "ticks": ""
             }
            },
            "type": "scatterpolargl"
           }
          ],
          "scatterternary": [
           {
            "marker": {
             "colorbar": {
              "outlinewidth": 0,
              "ticks": ""
             }
            },
            "type": "scatterternary"
           }
          ],
          "surface": [
           {
            "colorbar": {
             "outlinewidth": 0,
             "ticks": ""
            },
            "colorscale": [
             [
              0,
              "#0d0887"
             ],
             [
              0.1111111111111111,
              "#46039f"
             ],
             [
              0.2222222222222222,
              "#7201a8"
             ],
             [
              0.3333333333333333,
              "#9c179e"
             ],
             [
              0.4444444444444444,
              "#bd3786"
             ],
             [
              0.5555555555555556,
              "#d8576b"
             ],
             [
              0.6666666666666666,
              "#ed7953"
             ],
             [
              0.7777777777777778,
              "#fb9f3a"
             ],
             [
              0.8888888888888888,
              "#fdca26"
             ],
             [
              1,
              "#f0f921"
             ]
            ],
            "type": "surface"
           }
          ],
          "table": [
           {
            "cells": {
             "fill": {
              "color": "#EBF0F8"
             },
             "line": {
              "color": "white"
             }
            },
            "header": {
             "fill": {
              "color": "#C8D4E3"
             },
             "line": {
              "color": "white"
             }
            },
            "type": "table"
           }
          ]
         },
         "layout": {
          "annotationdefaults": {
           "arrowcolor": "#2a3f5f",
           "arrowhead": 0,
           "arrowwidth": 1
          },
          "autotypenumbers": "strict",
          "coloraxis": {
           "colorbar": {
            "outlinewidth": 0,
            "ticks": ""
           }
          },
          "colorscale": {
           "diverging": [
            [
             0,
             "#8e0152"
            ],
            [
             0.1,
             "#c51b7d"
            ],
            [
             0.2,
             "#de77ae"
            ],
            [
             0.3,
             "#f1b6da"
            ],
            [
             0.4,
             "#fde0ef"
            ],
            [
             0.5,
             "#f7f7f7"
            ],
            [
             0.6,
             "#e6f5d0"
            ],
            [
             0.7,
             "#b8e186"
            ],
            [
             0.8,
             "#7fbc41"
            ],
            [
             0.9,
             "#4d9221"
            ],
            [
             1,
             "#276419"
            ]
           ],
           "sequential": [
            [
             0,
             "#0d0887"
            ],
            [
             0.1111111111111111,
             "#46039f"
            ],
            [
             0.2222222222222222,
             "#7201a8"
            ],
            [
             0.3333333333333333,
             "#9c179e"
            ],
            [
             0.4444444444444444,
             "#bd3786"
            ],
            [
             0.5555555555555556,
             "#d8576b"
            ],
            [
             0.6666666666666666,
             "#ed7953"
            ],
            [
             0.7777777777777778,
             "#fb9f3a"
            ],
            [
             0.8888888888888888,
             "#fdca26"
            ],
            [
             1,
             "#f0f921"
            ]
           ],
           "sequentialminus": [
            [
             0,
             "#0d0887"
            ],
            [
             0.1111111111111111,
             "#46039f"
            ],
            [
             0.2222222222222222,
             "#7201a8"
            ],
            [
             0.3333333333333333,
             "#9c179e"
            ],
            [
             0.4444444444444444,
             "#bd3786"
            ],
            [
             0.5555555555555556,
             "#d8576b"
            ],
            [
             0.6666666666666666,
             "#ed7953"
            ],
            [
             0.7777777777777778,
             "#fb9f3a"
            ],
            [
             0.8888888888888888,
             "#fdca26"
            ],
            [
             1,
             "#f0f921"
            ]
           ]
          },
          "colorway": [
           "#636efa",
           "#EF553B",
           "#00cc96",
           "#ab63fa",
           "#FFA15A",
           "#19d3f3",
           "#FF6692",
           "#B6E880",
           "#FF97FF",
           "#FECB52"
          ],
          "font": {
           "color": "#2a3f5f"
          },
          "geo": {
           "bgcolor": "white",
           "lakecolor": "white",
           "landcolor": "#E5ECF6",
           "showlakes": true,
           "showland": true,
           "subunitcolor": "white"
          },
          "hoverlabel": {
           "align": "left"
          },
          "hovermode": "closest",
          "mapbox": {
           "style": "light"
          },
          "paper_bgcolor": "white",
          "plot_bgcolor": "#E5ECF6",
          "polar": {
           "angularaxis": {
            "gridcolor": "white",
            "linecolor": "white",
            "ticks": ""
           },
           "bgcolor": "#E5ECF6",
           "radialaxis": {
            "gridcolor": "white",
            "linecolor": "white",
            "ticks": ""
           }
          },
          "scene": {
           "xaxis": {
            "backgroundcolor": "#E5ECF6",
            "gridcolor": "white",
            "gridwidth": 2,
            "linecolor": "white",
            "showbackground": true,
            "ticks": "",
            "zerolinecolor": "white"
           },
           "yaxis": {
            "backgroundcolor": "#E5ECF6",
            "gridcolor": "white",
            "gridwidth": 2,
            "linecolor": "white",
            "showbackground": true,
            "ticks": "",
            "zerolinecolor": "white"
           },
           "zaxis": {
            "backgroundcolor": "#E5ECF6",
            "gridcolor": "white",
            "gridwidth": 2,
            "linecolor": "white",
            "showbackground": true,
            "ticks": "",
            "zerolinecolor": "white"
           }
          },
          "shapedefaults": {
           "line": {
            "color": "#2a3f5f"
           }
          },
          "ternary": {
           "aaxis": {
            "gridcolor": "white",
            "linecolor": "white",
            "ticks": ""
           },
           "baxis": {
            "gridcolor": "white",
            "linecolor": "white",
            "ticks": ""
           },
           "bgcolor": "#E5ECF6",
           "caxis": {
            "gridcolor": "white",
            "linecolor": "white",
            "ticks": ""
           }
          },
          "title": {
           "x": 0.05
          },
          "xaxis": {
           "automargin": true,
           "gridcolor": "white",
           "linecolor": "white",
           "ticks": "",
           "title": {
            "standoff": 15
           },
           "zerolinecolor": "white",
           "zerolinewidth": 2
          },
          "yaxis": {
           "automargin": true,
           "gridcolor": "white",
           "linecolor": "white",
           "ticks": "",
           "title": {
            "standoff": 15
           },
           "zerolinecolor": "white",
           "zerolinewidth": 2
          }
         }
        },
        "updatemenus": [
         {
          "buttons": [
           {
            "args": [
             null,
             {
              "frame": {
               "duration": 500,
               "redraw": true
              },
              "fromcurrent": true,
              "mode": "immediate",
              "transition": {
               "duration": 500,
               "easing": "linear"
              }
             }
            ],
            "label": "&#9654;",
            "method": "animate"
           },
           {
            "args": [
             [
              null
             ],
             {
              "frame": {
               "duration": 0,
               "redraw": true
              },
              "fromcurrent": true,
              "mode": "immediate",
              "transition": {
               "duration": 0,
               "easing": "linear"
              }
             }
            ],
            "label": "&#9724;",
            "method": "animate"
           }
          ],
          "direction": "left",
          "pad": {
           "r": 10,
           "t": 70
          },
          "showactive": false,
          "type": "buttons",
          "x": 0.1,
          "xanchor": "right",
          "y": 0,
          "yanchor": "top"
         }
        ],
        "xaxis": {
         "anchor": "y",
         "domain": [
          0,
          1
         ]
        },
        "yaxis": {
         "anchor": "x",
         "domain": [
          0,
          1
         ]
        }
       }
      }
     },
     "metadata": {},
     "output_type": "display_data"
    }
   ],
   "source": [
    "from src.environments.utils import reverse_one_hot\n",
    "import numpy as np\n",
    "import torch \n",
    "\n",
    "# switching from numpy to torch / back here is annoying. Maybe worth fixing. \n",
    "original_obs = torch.from_numpy(np.stack([reverse_one_hot(one_hot_s[i]) for i in range(one_hot_s.shape[0])]))\n",
    "original_obs.shape == s.shape\n",
    "assert torch.all(original_obs == s)\n",
    "\n",
    "px.imshow(render_minigrid_observations(env, original_obs), animation_frame=0).show()"
   ]
  },
  {
   "cell_type": "markdown",
   "metadata": {},
   "source": [
    "Annnd that's it! Good luck!"
   ]
  }
 ],
 "metadata": {
  "kernelspec": {
   "display_name": "decision_transformer_interpretability",
   "language": "python",
   "name": "python3"
  },
  "language_info": {
   "codemirror_mode": {
    "name": "ipython",
    "version": 3
   },
   "file_extension": ".py",
   "mimetype": "text/x-python",
   "name": "python",
   "nbconvert_exporter": "python",
   "pygments_lexer": "ipython3",
   "version": "3.10.9"
  },
  "orig_nbformat": 4
 },
 "nbformat": 4,
 "nbformat_minor": 2
}
